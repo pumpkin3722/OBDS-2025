{
 "cells": [
  {
   "cell_type": "markdown",
   "id": "f23dc30d-e605-448d-8600-bd0967d2162b",
   "metadata": {
    "tags": []
   },
   "source": [
    "# Exercise - part 1"
   ]
  },
  {
   "cell_type": "code",
   "execution_count": 2,
   "id": "1f416d69-6c75-4614-8f27-161e6802ac0a",
   "metadata": {
    "tags": []
   },
   "outputs": [],
   "source": [
    "import numpy as np"
   ]
  },
  {
   "cell_type": "markdown",
   "id": "0a38d676-5273-4967-a3d3-294b66cdc29b",
   "metadata": {},
   "source": [
    "Create a 20x3 array of random numbers between 0 and 1 – call it `arr`."
   ]
  },
  {
   "cell_type": "code",
   "execution_count": 3,
   "id": "93630626-ca23-4a1e-a6e1-69e901cdc029",
   "metadata": {
    "tags": []
   },
   "outputs": [
    {
     "data": {
      "text/plain": [
       "array([[0.97477599, 0.14647699, 0.26019015],\n",
       "       [0.52058749, 0.4059435 , 0.18698041],\n",
       "       [0.20358058, 0.08090661, 0.54455864],\n",
       "       [0.76544148, 0.04631739, 0.30526112],\n",
       "       [0.53585359, 0.74058872, 0.46283218],\n",
       "       [0.6280526 , 0.58633176, 0.62078185],\n",
       "       [0.78223201, 0.87841733, 0.73904255],\n",
       "       [0.6603572 , 0.390251  , 0.19358918],\n",
       "       [0.0518332 , 0.4856924 , 0.94851254],\n",
       "       [0.92927088, 0.12747082, 0.26023432],\n",
       "       [0.93754133, 0.64542901, 0.46590117],\n",
       "       [0.57973341, 0.26699052, 0.57994116],\n",
       "       [0.05316318, 0.07227389, 0.05320115],\n",
       "       [0.17344121, 0.76517341, 0.09825695],\n",
       "       [0.82071542, 0.86555616, 0.06839626],\n",
       "       [0.42668527, 0.10996731, 0.08389588],\n",
       "       [0.31497562, 0.79039738, 0.75554875],\n",
       "       [0.57933754, 0.55416808, 0.37367075],\n",
       "       [0.34656961, 0.44243888, 0.17084415],\n",
       "       [0.87913536, 0.73223044, 0.78174946]])"
      ]
     },
     "execution_count": 3,
     "metadata": {},
     "output_type": "execute_result"
    }
   ],
   "source": [
    "arr = np.random.rand(20, 3)\n",
    "arr"
   ]
  },
  {
   "cell_type": "markdown",
   "id": "0543c393-8edb-4ed4-b2af-f3eb152b6248",
   "metadata": {},
   "source": [
    "Select all rows and the first two columns."
   ]
  },
  {
   "cell_type": "code",
   "execution_count": 5,
   "id": "4f1505f1-aee5-4ff7-822d-e6901366af8b",
   "metadata": {
    "tags": []
   },
   "outputs": [
    {
     "data": {
      "text/plain": [
       "array([[0.97477599, 0.14647699],\n",
       "       [0.52058749, 0.4059435 ],\n",
       "       [0.20358058, 0.08090661],\n",
       "       [0.76544148, 0.04631739],\n",
       "       [0.53585359, 0.74058872],\n",
       "       [0.6280526 , 0.58633176],\n",
       "       [0.78223201, 0.87841733],\n",
       "       [0.6603572 , 0.390251  ],\n",
       "       [0.0518332 , 0.4856924 ],\n",
       "       [0.92927088, 0.12747082],\n",
       "       [0.93754133, 0.64542901],\n",
       "       [0.57973341, 0.26699052],\n",
       "       [0.05316318, 0.07227389],\n",
       "       [0.17344121, 0.76517341],\n",
       "       [0.82071542, 0.86555616],\n",
       "       [0.42668527, 0.10996731],\n",
       "       [0.31497562, 0.79039738],\n",
       "       [0.57933754, 0.55416808],\n",
       "       [0.34656961, 0.44243888],\n",
       "       [0.87913536, 0.73223044]])"
      ]
     },
     "execution_count": 5,
     "metadata": {},
     "output_type": "execute_result"
    }
   ],
   "source": [
    "arr[:, :2]"
   ]
  },
  {
   "cell_type": "markdown",
   "id": "00a7ba44-1919-44f1-bd7f-51d286dba994",
   "metadata": {},
   "source": [
    "Select the first two rows and the last two columns."
   ]
  },
  {
   "cell_type": "code",
   "execution_count": 10,
   "id": "79e732e8-b7bf-4b3f-b05a-263f756c8ee2",
   "metadata": {
    "tags": []
   },
   "outputs": [
    {
     "data": {
      "text/plain": [
       "array([[0.14647699, 0.26019015],\n",
       "       [0.4059435 , 0.18698041]])"
      ]
     },
     "execution_count": 10,
     "metadata": {},
     "output_type": "execute_result"
    }
   ],
   "source": [
    "arr[:2,-2:]"
   ]
  },
  {
   "cell_type": "markdown",
   "id": "f62bf670-0239-4b5f-81c7-14cc5b91ba65",
   "metadata": {},
   "source": [
    "Create a 2D array from `[[1, 2, 3], [4, 5, 6], [7, 8, 9]]` - call it `arr2`."
   ]
  },
  {
   "cell_type": "code",
   "execution_count": 6,
   "id": "db462088-17b8-4bb0-ad39-0857444fe1db",
   "metadata": {
    "tags": []
   },
   "outputs": [
    {
     "data": {
      "text/plain": [
       "array([[1, 2, 3],\n",
       "       [4, 5, 6],\n",
       "       [7, 8, 9]])"
      ]
     },
     "execution_count": 6,
     "metadata": {},
     "output_type": "execute_result"
    }
   ],
   "source": [
    "arr2 = np.array([[1, 2, 3], [4, 5, 6], [7, 8, 9]])\n",
    "arr2"
   ]
  },
  {
   "cell_type": "markdown",
   "id": "05da7057-f62d-4cec-8e4c-f6981550139f",
   "metadata": {},
   "source": [
    "Determine the dimensions of `arr2`."
   ]
  },
  {
   "cell_type": "code",
   "execution_count": 11,
   "id": "a6b8b1d8-b9e2-4a12-9150-966eb26f4fa4",
   "metadata": {
    "tags": []
   },
   "outputs": [
    {
     "data": {
      "text/plain": [
       "(3, 3)"
      ]
     },
     "execution_count": 11,
     "metadata": {},
     "output_type": "execute_result"
    }
   ],
   "source": [
    "arr2.shape"
   ]
  },
  {
   "cell_type": "markdown",
   "id": "6ae23b03-ff76-4631-9dca-76ad781108ff",
   "metadata": {},
   "source": [
    "Take the last column of `arr2` and store it in a variable called `col`."
   ]
  },
  {
   "cell_type": "code",
   "execution_count": 16,
   "id": "298743ed-943f-4551-8206-f1e943c3861d",
   "metadata": {
    "tags": []
   },
   "outputs": [
    {
     "data": {
      "text/plain": [
       "array([3, 6, 9])"
      ]
     },
     "execution_count": 16,
     "metadata": {},
     "output_type": "execute_result"
    }
   ],
   "source": [
    "col = arr2[:,-1]\n",
    "col"
   ]
  },
  {
   "cell_type": "markdown",
   "id": "cd8a8ff1-3a54-41b4-956c-cc73f0ef23a9",
   "metadata": {
    "tags": []
   },
   "source": [
    "Identify the elements of `col` that are greater than 5."
   ]
  },
  {
   "cell_type": "code",
   "execution_count": 17,
   "id": "a0bd55f5-a3d8-4500-8114-864895931068",
   "metadata": {},
   "outputs": [
    {
     "data": {
      "text/plain": [
       "array([6, 9])"
      ]
     },
     "execution_count": 17,
     "metadata": {},
     "output_type": "execute_result"
    }
   ],
   "source": [
    "col[col>5]"
   ]
  },
  {
   "cell_type": "markdown",
   "id": "58ef9816-7481-45f1-81ee-82824911c7a8",
   "metadata": {},
   "source": [
    "# Exercise - part 2"
   ]
  },
  {
   "cell_type": "markdown",
   "id": "2ce683cb-22c1-41c6-9894-5b39acd7c490",
   "metadata": {
    "tags": []
   },
   "source": [
    "Load the `counts.npy` file into a numpy array called `counts`. This file contains gene counts for 5 samples across all genes in the genome."
   ]
  },
  {
   "cell_type": "code",
   "execution_count": 35,
   "id": "a97fe318-1edf-41a6-8083-ded19952cecc",
   "metadata": {
    "tags": []
   },
   "outputs": [
    {
     "name": "stdout",
     "output_type": "stream",
     "text": [
      "[[  6  86   0 ...   0   0   0]\n",
      " [  8 105   0 ...   0   0   0]\n",
      " [  8  93   0 ...   0   0   0]\n",
      " [  8 102   0 ...   0   0   0]\n",
      " [  6 135   0 ...   0   0   0]]\n"
     ]
    },
    {
     "data": {
      "text/plain": [
       "(5, 23710)"
      ]
     },
     "execution_count": 35,
     "metadata": {},
     "output_type": "execute_result"
    }
   ],
   "source": [
    "counts = np.load(\"counts.npy\")\n",
    "print(counts)\n",
    "counts.shape"
   ]
  },
  {
   "cell_type": "markdown",
   "id": "841f482c-3095-4d3a-8bf4-6cfe15649eed",
   "metadata": {},
   "source": [
    "Ensure the counts are in the correct format (rows = genes, columns = samples)."
   ]
  },
  {
   "cell_type": "code",
   "execution_count": 36,
   "id": "d672eabc-2d5a-4e20-bd17-a777c57aaab9",
   "metadata": {
    "tags": []
   },
   "outputs": [
    {
     "data": {
      "text/plain": [
       "array([[  6,   8,   8,   8,   6],\n",
       "       [ 86, 105,  93, 102, 135],\n",
       "       [  0,   0,   0,   0,   0],\n",
       "       ...,\n",
       "       [  0,   0,   0,   0,   0],\n",
       "       [  0,   0,   0,   0,   0],\n",
       "       [  0,   0,   0,   0,   0]])"
      ]
     },
     "execution_count": 36,
     "metadata": {},
     "output_type": "execute_result"
    }
   ],
   "source": [
    "counts = np.transpose(counts)\n",
    "counts"
   ]
  },
  {
   "cell_type": "markdown",
   "id": "089ca1b1-1bc4-4d92-b622-6264e11a3785",
   "metadata": {
    "tags": []
   },
   "source": [
    "Remove all genes with a count of less than 10 across all samples call this `counts_filtered`."
   ]
  },
  {
   "cell_type": "code",
   "execution_count": 37,
   "id": "f17363d8-e90d-4765-8c4b-549bd08eff9c",
   "metadata": {
    "tags": []
   },
   "outputs": [
    {
     "data": {
      "text/plain": [
       "array([[   6,    8,    8,    8,    6],\n",
       "       [  86,  105,   93,  102,  135],\n",
       "       [  72,   73,   69,   26,   62],\n",
       "       ...,\n",
       "       [   1,    1,    8,    2,    1],\n",
       "       [   3,    4,    1,    1,    1],\n",
       "       [ 953, 1126,   27,   46,   21]])"
      ]
     },
     "execution_count": 37,
     "metadata": {},
     "output_type": "execute_result"
    }
   ],
   "source": [
    "counts_filtered = counts[counts.sum(axis=1)>=10, :]\n",
    "counts_filtered"
   ]
  },
  {
   "cell_type": "markdown",
   "id": "829ac0bb-a55a-4295-8447-54aade29fbc2",
   "metadata": {},
   "source": [
    "CPM (Counts Per Million) normalise the data (divide each value by the total count for that sample and multiply by 1 million). Call this `counts_cpm`."
   ]
  },
  {
   "cell_type": "code",
   "execution_count": 31,
   "id": "f33648ff-000e-4e33-a632-3f9aaf81af47",
   "metadata": {
    "tags": []
   },
   "outputs": [
    {
     "data": {
      "text/plain": [
       "array([[9.44093460e-01, 1.09949797e+00, 1.12746785e+00, 8.88032530e-01,\n",
       "        8.03803599e-01],\n",
       "       [1.35320063e+01, 1.44309108e+01, 1.31068138e+01, 1.13224148e+01,\n",
       "        1.80855810e+01],\n",
       "       [1.13291215e+01, 1.00329190e+01, 9.72441021e+00, 2.88610572e+00,\n",
       "        8.30597052e+00],\n",
       "       ...,\n",
       "       [1.57348910e-01, 1.37437246e-01, 1.12746785e+00, 2.22008132e-01,\n",
       "        1.33967266e-01],\n",
       "       [4.72046730e-01, 5.49748985e-01, 1.40933481e-01, 1.11004066e-01,\n",
       "        1.33967266e-01],\n",
       "       [1.49953511e+02, 1.54754339e+02, 3.80520400e+00, 5.10618704e+00,\n",
       "        2.81331260e+00]])"
      ]
     },
     "execution_count": 31,
     "metadata": {},
     "output_type": "execute_result"
    }
   ],
   "source": [
    "counts_cpm = counts_filtered/(counts_filtered.sum(axis=0))*1000000\n",
    "counts_cpm"
   ]
  },
  {
   "cell_type": "markdown",
   "id": "00ccfa6f-a9c0-465e-bd54-02e0aa36eb79",
   "metadata": {},
   "source": [
    "Add a pseudo count of 1 to each value in `counts_cpm` and take the log2 of the resulting values. Call this `counts_log2`.\n"
   ]
  },
  {
   "cell_type": "code",
   "execution_count": 33,
   "id": "b224938c-75b7-4343-91c1-d60c19df7675",
   "metadata": {},
   "outputs": [
    {
     "data": {
      "text/plain": [
       "array([[0.95909758, 1.07004439, 1.08913733, 0.91688362, 0.85104226],\n",
       "       [3.86116199, 3.94775132, 3.81832027, 3.6232131 , 4.2544112 ],\n",
       "       [3.6239981 , 3.46374263, 3.4228264 , 1.95832515, 3.21815662],\n",
       "       ...,\n",
       "       [0.21082386, 0.18578695, 1.08913733, 0.28925389, 0.181379  ],\n",
       "       [0.55782347, 0.63203456, 0.19021468, 0.1518641 , 0.181379  ],\n",
       "       [7.2379605 , 7.28312855, 2.26459768, 2.61027178, 1.9310448 ]])"
      ]
     },
     "execution_count": 33,
     "metadata": {},
     "output_type": "execute_result"
    }
   ],
   "source": [
    "counts_log2 = np.log2(counts_cpm+1)\n",
    "counts_log2"
   ]
  },
  {
   "cell_type": "code",
   "execution_count": null,
   "id": "7ec3ff60-75fa-47a8-9654-43a32e26fae4",
   "metadata": {},
   "outputs": [],
   "source": []
  }
 ],
 "metadata": {
  "kernelspec": {
   "display_name": "Python 3 (ipykernel)",
   "language": "python",
   "name": "python3"
  },
  "language_info": {
   "codemirror_mode": {
    "name": "ipython",
    "version": 3
   },
   "file_extension": ".py",
   "mimetype": "text/x-python",
   "name": "python",
   "nbconvert_exporter": "python",
   "pygments_lexer": "ipython3",
   "version": "3.11.3"
  }
 },
 "nbformat": 4,
 "nbformat_minor": 5
}
