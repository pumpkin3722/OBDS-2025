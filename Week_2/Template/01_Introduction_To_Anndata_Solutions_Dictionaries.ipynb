{
 "cells": [
  {
   "cell_type": "code",
   "execution_count": 1,
   "id": "eb5f79ae",
   "metadata": {},
   "outputs": [
    {
     "name": "stdout",
     "output_type": "stream",
     "text": [
      "Current date and time = 2023-12-23 11:28:43.269477\n"
     ]
    }
   ],
   "source": [
    "# Import dependencies\n",
    "import os\n",
    "import anndata as ad\n",
    "import scanpy as sc\n",
    "import numpy as np\n",
    "import pandas as pd\n",
    "\n",
    "# Print date and time:\n",
    "import datetime\n",
    "e = datetime.datetime.now()\n",
    "print (\"Current date and time = %s\" % e)\n",
    "\n",
    "# Set a working directory\n",
    "wdir = \"/mnt/da8aa2c4-0136-465b-87a2-d12a59afec55/akurjan/analysis/files/Training/\" #replace with where you want to run the code in\n",
    "os.chdir( wdir )"
   ]
  },
  {
   "cell_type": "markdown",
   "id": "7141d89e",
   "metadata": {},
   "source": [
    "# Introduction to AnnData"
   ]
  },
  {
   "cell_type": "code",
   "execution_count": 2,
   "id": "130126a7",
   "metadata": {},
   "outputs": [
    {
     "data": {
      "text/plain": [
       "AnnData object with n_obs × n_vars = 3 × 3\n",
       "    obs: 'cell_types'\n",
       "    var: 'genes'"
      ]
     },
     "execution_count": 2,
     "metadata": {},
     "output_type": "execute_result"
    }
   ],
   "source": [
    "# Create a sample AnnData object\n",
    "adata = ad.AnnData(\n",
    "    X=np.array([[1, 2, 3], [4, 5, 6], [7, 8, 9]]), #your counts\n",
    "    obs={'cell_types': ['A', 'B', 'C']},\n",
    "    var={'genes': ['Gene1', 'Gene2', 'Gene3']}\n",
    ")\n",
    "adata"
   ]
  },
  {
   "cell_type": "markdown",
   "id": "5dbe4211",
   "metadata": {},
   "source": [
    "### check the .obs and the .var"
   ]
  },
  {
   "cell_type": "code",
   "execution_count": 3,
   "id": "732ed2a1",
   "metadata": {},
   "outputs": [
    {
     "data": {
      "text/html": [
       "<div>\n",
       "<style scoped>\n",
       "    .dataframe tbody tr th:only-of-type {\n",
       "        vertical-align: middle;\n",
       "    }\n",
       "\n",
       "    .dataframe tbody tr th {\n",
       "        vertical-align: top;\n",
       "    }\n",
       "\n",
       "    .dataframe thead th {\n",
       "        text-align: right;\n",
       "    }\n",
       "</style>\n",
       "<table border=\"1\" class=\"dataframe\">\n",
       "  <thead>\n",
       "    <tr style=\"text-align: right;\">\n",
       "      <th></th>\n",
       "      <th>cell_types</th>\n",
       "    </tr>\n",
       "  </thead>\n",
       "  <tbody>\n",
       "    <tr>\n",
       "      <th>0</th>\n",
       "      <td>A</td>\n",
       "    </tr>\n",
       "    <tr>\n",
       "      <th>1</th>\n",
       "      <td>B</td>\n",
       "    </tr>\n",
       "    <tr>\n",
       "      <th>2</th>\n",
       "      <td>C</td>\n",
       "    </tr>\n",
       "  </tbody>\n",
       "</table>\n",
       "</div>"
      ],
      "text/plain": [
       "  cell_types\n",
       "0          A\n",
       "1          B\n",
       "2          C"
      ]
     },
     "execution_count": 3,
     "metadata": {},
     "output_type": "execute_result"
    }
   ],
   "source": [
    "adata.obs"
   ]
  },
  {
   "cell_type": "code",
   "execution_count": 4,
   "id": "34b750ee",
   "metadata": {},
   "outputs": [
    {
     "data": {
      "text/html": [
       "<div>\n",
       "<style scoped>\n",
       "    .dataframe tbody tr th:only-of-type {\n",
       "        vertical-align: middle;\n",
       "    }\n",
       "\n",
       "    .dataframe tbody tr th {\n",
       "        vertical-align: top;\n",
       "    }\n",
       "\n",
       "    .dataframe thead th {\n",
       "        text-align: right;\n",
       "    }\n",
       "</style>\n",
       "<table border=\"1\" class=\"dataframe\">\n",
       "  <thead>\n",
       "    <tr style=\"text-align: right;\">\n",
       "      <th></th>\n",
       "      <th>genes</th>\n",
       "    </tr>\n",
       "  </thead>\n",
       "  <tbody>\n",
       "    <tr>\n",
       "      <th>0</th>\n",
       "      <td>Gene1</td>\n",
       "    </tr>\n",
       "    <tr>\n",
       "      <th>1</th>\n",
       "      <td>Gene2</td>\n",
       "    </tr>\n",
       "    <tr>\n",
       "      <th>2</th>\n",
       "      <td>Gene3</td>\n",
       "    </tr>\n",
       "  </tbody>\n",
       "</table>\n",
       "</div>"
      ],
      "text/plain": [
       "   genes\n",
       "0  Gene1\n",
       "1  Gene2\n",
       "2  Gene3"
      ]
     },
     "execution_count": 4,
     "metadata": {},
     "output_type": "execute_result"
    }
   ],
   "source": [
    "adata.var"
   ]
  },
  {
   "cell_type": "markdown",
   "id": "9bbb78f0",
   "metadata": {},
   "source": [
    "### add the below new counts matrix as a layer to your adata object"
   ]
  },
  {
   "cell_type": "code",
   "execution_count": 5,
   "id": "f6e6bf95",
   "metadata": {},
   "outputs": [],
   "source": [
    "count_matrix = np.array([[10, 20, 30], [40, 50, 60], [70, 80, 90]])"
   ]
  },
  {
   "cell_type": "code",
   "execution_count": 6,
   "id": "70ddef09",
   "metadata": {},
   "outputs": [
    {
     "data": {
      "text/plain": [
       "array([[10, 20, 30],\n",
       "       [40, 50, 60],\n",
       "       [70, 80, 90]])"
      ]
     },
     "execution_count": 6,
     "metadata": {},
     "output_type": "execute_result"
    }
   ],
   "source": [
    "adata.layers['counts'] = count_matrix.copy()\n",
    "adata.layers['counts'] "
   ]
  },
  {
   "cell_type": "markdown",
   "id": "c9ae4d64",
   "metadata": {},
   "source": [
    "### whenver you change things around, you need to be mindful of how things are created and copied. Run the following code for a reminder of the differences between a deep copy vs a direct assignment:"
   ]
  },
  {
   "cell_type": "code",
   "execution_count": 7,
   "id": "79df21e8",
   "metadata": {},
   "outputs": [
    {
     "name": "stdout",
     "output_type": "stream",
     "text": [
      "Original data:\n",
      "[[10 20 30]\n",
      " [40 50 60]\n",
      " [70 80 90]]\n",
      "\n",
      "Data after using .copy():\n",
      "[[10 20 30]\n",
      " [40 50 60]\n",
      " [70 80 90]]\n",
      "\n",
      "Data after using direct assignment:\n",
      "[[10 20 30]\n",
      " [40 50 60]\n",
      " [70 80 90]]\n"
     ]
    }
   ],
   "source": [
    "# Illustrate the difference\n",
    "# Using .copy()\n",
    "adata_copy = adata.copy()\n",
    "adata_copy.X = adata.layers['counts'].copy() #deep copy\n",
    "\n",
    "# Using direct assignment\n",
    "adata_direct = adata.copy()\n",
    "adata_direct.X = adata.layers['counts'] #direct assignment\n",
    "\n",
    "print(\"Original data:\")\n",
    "print(adata.layers['counts'])\n",
    "print(\"\\nData after using .copy():\")\n",
    "print(adata_copy.X)\n",
    "print(\"\\nData after using direct assignment:\")\n",
    "print(adata_direct.X)"
   ]
  },
  {
   "cell_type": "code",
   "execution_count": 8,
   "id": "9ce1ee30",
   "metadata": {},
   "outputs": [
    {
     "name": "stdout",
     "output_type": "stream",
     "text": [
      "Original data:\n",
      "[[10 20 30]\n",
      " [40 50 60]\n",
      " [70 80 90]]\n",
      "\n",
      "Data after using .copy():\n",
      "[[100  20  30]\n",
      " [ 40  50  60]\n",
      " [ 70  80  90]]\n",
      "\n",
      "Data after using direct assignment:\n",
      "[[10 20 30]\n",
      " [40 50 60]\n",
      " [70 80 90]]\n"
     ]
    }
   ],
   "source": [
    "adata_copy.X[0, 0] = 100  # now we modify the counts in adata_copy.X\n",
    "\n",
    "# Print the original data to observe changes\n",
    "print(\"Original data:\")\n",
    "print(adata.layers['counts'])\n",
    "print(\"\\nData after using .copy():\")\n",
    "print(adata_copy.X)\n",
    "print(\"\\nData after using direct assignment:\")\n",
    "print(adata_direct.X)"
   ]
  },
  {
   "cell_type": "code",
   "execution_count": 9,
   "id": "a17bfe64",
   "metadata": {},
   "outputs": [
    {
     "name": "stdout",
     "output_type": "stream",
     "text": [
      "Original data:\n",
      "[[100  20  30]\n",
      " [ 40  50  60]\n",
      " [ 70  80  90]]\n",
      "\n",
      "Data after using .copy():\n",
      "[[100  20  30]\n",
      " [ 40  50  60]\n",
      " [ 70  80  90]]\n",
      "\n",
      "Data after using direct assignment:\n",
      "[[100  20  30]\n",
      " [ 40  50  60]\n",
      " [ 70  80  90]]\n"
     ]
    }
   ],
   "source": [
    "adata_direct.X[0, 0] = 100  # now we modify the counts in adata_direct.X\n",
    "\n",
    "# Print the original data to observe changes\n",
    "print(\"Original data:\")\n",
    "print(adata.layers['counts'])\n",
    "print(\"\\nData after using .copy():\")\n",
    "print(adata_copy.X)\n",
    "print(\"\\nData after using direct assignment:\")\n",
    "print(adata_direct.X)"
   ]
  },
  {
   "cell_type": "markdown",
   "id": "9bbe1088",
   "metadata": {},
   "source": [
    "### Which modification changed the original counts? What does that mean for you going forwards?"
   ]
  },
  {
   "cell_type": "markdown",
   "id": "0eef39a1",
   "metadata": {},
   "source": [
    "Be very careful doing direct assignments and always use .copy() if in doubt"
   ]
  },
  {
   "cell_type": "markdown",
   "id": "e4f3a74f",
   "metadata": {},
   "source": [
    "# Exercises"
   ]
  },
  {
   "cell_type": "markdown",
   "id": "42dbb116",
   "metadata": {},
   "source": [
    "### Reading in .h5 files and converting to anndata\n",
    "\n",
    "Files stored online can be loaded using the backup_url option like so:\n",
    "\n",
    "```\n",
    "adata = sc.read_10x_h5(\n",
    "    filename=\"filtered_feature_bc_matrix.h5\",\n",
    "    backup_url=\"https://figshare.com/ndownloader/files/39546196\",\n",
    ")\n",
    "```\n",
    "\n",
    "We are going to work with files provided on the github."
   ]
  },
  {
   "cell_type": "markdown",
   "id": "47d6bd1f",
   "metadata": {},
   "source": [
    "### check that you are in the right folder with your CellRanger data"
   ]
  },
  {
   "cell_type": "code",
   "execution_count": 10,
   "id": "5ea56092",
   "metadata": {},
   "outputs": [
    {
     "name": "stdout",
     "output_type": "stream",
     "text": [
      "\u001b[0m\u001b[01;34mCellRanger_DEV15984_Ach_Sep2022\u001b[0m/   \u001b[01;34mFCAImmFolder1\u001b[0m/  \u001b[01;34mQC\u001b[0m/\r\n",
      "\u001b[01;34mCellRanger_DEV16127_Quad_Jan2023\u001b[0m/  \u001b[01;34mFCAImmFolder2\u001b[0m/  \u001b[01;34mWSSTraining1\u001b[0m/\r\n",
      "\u001b[01;34mCellRanger_DEV16569_Ach_Jan2023\u001b[0m/   metadata.csv    \u001b[01;34mWSSTraining2\u001b[0m/\r\n"
     ]
    }
   ],
   "source": [
    "ls"
   ]
  },
  {
   "cell_type": "markdown",
   "id": "f6c0e34d",
   "metadata": {},
   "source": [
    "### 1) load any one single sample object using sc.read_10x_h5() function with a \"cellbenderout_filtered.h5\" file. Check the adata.obs and adata.var."
   ]
  },
  {
   "cell_type": "code",
   "execution_count": 11,
   "id": "b0a0598f",
   "metadata": {},
   "outputs": [
    {
     "name": "stderr",
     "output_type": "stream",
     "text": [
      "/home/akurjan/conda/envs/scvi-env/lib/python3.9/site-packages/anndata/_core/anndata.py:1832: UserWarning: Variable names are not unique. To make them unique, call `.var_names_make_unique`.\n",
      "  utils.warn_names_duplicates(\"var\")\n"
     ]
    },
    {
     "data": {
      "text/plain": [
       "AnnData object with n_obs × n_vars = 13754 × 36601\n",
       "    var: 'gene_ids', 'feature_types', 'genome'"
      ]
     },
     "execution_count": 11,
     "metadata": {},
     "output_type": "execute_result"
    }
   ],
   "source": [
    "adata = sc.read_10x_h5('CellRanger_DEV16127_Quad_Jan2023/cellbenderout_filtered.h5')\n",
    "adata"
   ]
  },
  {
   "cell_type": "code",
   "execution_count": 12,
   "id": "2ab30b81",
   "metadata": {},
   "outputs": [
    {
     "data": {
      "text/html": [
       "<div>\n",
       "<style scoped>\n",
       "    .dataframe tbody tr th:only-of-type {\n",
       "        vertical-align: middle;\n",
       "    }\n",
       "\n",
       "    .dataframe tbody tr th {\n",
       "        vertical-align: top;\n",
       "    }\n",
       "\n",
       "    .dataframe thead th {\n",
       "        text-align: right;\n",
       "    }\n",
       "</style>\n",
       "<table border=\"1\" class=\"dataframe\">\n",
       "  <thead>\n",
       "    <tr style=\"text-align: right;\">\n",
       "      <th></th>\n",
       "    </tr>\n",
       "  </thead>\n",
       "  <tbody>\n",
       "    <tr>\n",
       "      <th>CATCCGTTCTATCGTT-1</th>\n",
       "    </tr>\n",
       "    <tr>\n",
       "      <th>AGTTCCCTCTCATAGG-1</th>\n",
       "    </tr>\n",
       "    <tr>\n",
       "      <th>CCAATTTAGACTTCAC-1</th>\n",
       "    </tr>\n",
       "    <tr>\n",
       "      <th>TTCCAATCAGGCATTT-1</th>\n",
       "    </tr>\n",
       "    <tr>\n",
       "      <th>ATGACCACACCCTCTA-1</th>\n",
       "    </tr>\n",
       "    <tr>\n",
       "      <th>...</th>\n",
       "    </tr>\n",
       "    <tr>\n",
       "      <th>AGCGTCGCACCAGCCA-1</th>\n",
       "    </tr>\n",
       "    <tr>\n",
       "      <th>TATCTTGAGCTGCGAA-1</th>\n",
       "    </tr>\n",
       "    <tr>\n",
       "      <th>GGTGTTATCGTAGGGA-1</th>\n",
       "    </tr>\n",
       "    <tr>\n",
       "      <th>CTCAACCTCATCTATC-1</th>\n",
       "    </tr>\n",
       "    <tr>\n",
       "      <th>AGAAGCGCAGTGGTGA-1</th>\n",
       "    </tr>\n",
       "  </tbody>\n",
       "</table>\n",
       "<p>13754 rows × 0 columns</p>\n",
       "</div>"
      ],
      "text/plain": [
       "Empty DataFrame\n",
       "Columns: []\n",
       "Index: [CATCCGTTCTATCGTT-1, AGTTCCCTCTCATAGG-1, CCAATTTAGACTTCAC-1, TTCCAATCAGGCATTT-1, ATGACCACACCCTCTA-1, GAGGGATTCTCCGCAT-1, ACTATCTAGCGAGTCA-1, GACTTCCCAGCGGTTC-1, CATTGCCGTGAGCCAA-1, ACTGTGATCGTCCTCA-1, CCATCACTCCTCTCTT-1, AACAAAGGTCTACACA-1, CGGAACCAGCAACCAG-1, CGTTAGACAAGAGCTG-1, CTGTATTTCATAGGCT-1, CATCGGGAGGAACATT-1, ACAGCCGTCTAGCAAC-1, TTCCGGTTCATTGTTC-1, TGAGGTTCAGAGGTAC-1, GACCGTGGTATCGAAA-1, CAGAGCCCATCCGAAT-1, TTTACGTTCCATAAGC-1, TGTACAGTCAAGGAGC-1, AAGGTAACACCTAAAC-1, TATTTCGTCGTTGTTT-1, ACATCGAAGTTTGCTG-1, ATTACCTTCTCGGTCT-1, AGTAGCTAGCACAAAT-1, TGATGGTTCACCTTAT-1, CCACACTCATATTCGG-1, TGGGATTGTGTAAATG-1, ATCGCCTTCACACCCT-1, ACCAAACGTTCTAAGC-1, AGTGACTAGTGAGGTC-1, CTAAGTGTCTCTCGAC-1, AGGTCTAGTAGGAGGG-1, TCTATCATCTGTGCAA-1, AAGACTCGTGTCCCTT-1, TCGACGGTCTAACGCA-1, TTCCAATAGCCTATCA-1, CGTGATACATGACGTT-1, CATCCGTGTGGATACG-1, TCAAGCAGTCATCGGC-1, TCCACGTAGGCCCGTT-1, GAGATGGAGTGGAAAG-1, CTAGGTAAGACGCAGT-1, CAGATTGAGAAACACT-1, GTTACCCTCTCGGTAA-1, ATGGTTGTCTTCGACC-1, CATCAAGAGTGAATAC-1, TATTGCTGTAGATTGA-1, GTTCATTGTCTTAGTG-1, TATCTGTAGAGTGTTA-1, CGGAATTGTATCGCTA-1, TGAGGGAAGCGATGCA-1, ACTATCTGTATCCTCC-1, TACATTCAGAACCGCA-1, TAACACGTCTCGTCAC-1, CAACCTCGTCCTTGTC-1, AAAGGTATCCATTGTT-1, ACTTCGCAGCGTACAG-1, CGTGCTTCATGAGATA-1, GAAGAATAGCTCTGTA-1, CCATCACTCTAAGCCA-1, CAGATACTCGTGGAAG-1, TCGCTCACAATTTCCT-1, ACAACCAGTATAATGG-1, GTTAGACCATGGGTTT-1, CATAGACTCGGAATGG-1, GGCAGTCGTCCACATA-1, CAGTTAGTCCACGTCT-1, TGCATCCTCGATTCCC-1, CGGAGAAAGTGAGGTC-1, GGCTGTGCAACCGACC-1, GTCTGTCGTTTACCTT-1, GAGACTTCAATACCCA-1, ACAGCCGAGGAGGCAG-1, TAAGCGTTCTGTCCGT-1, TCGAAGTTCCAAGCTA-1, CGAATTGTCGAACGCC-1, ACTCCCACATATCTCT-1, GTCATGAAGCTGACAG-1, TCAGTTTCAAGAGTAT-1, TCGGGTGTCCTCTTTC-1, AACACACGTCACAATC-1, ACATCGACAGGGACTA-1, TTTGTTGTCTAGCCAA-1, AGAACAACAAGTATCC-1, TGCCGAGGTAGACTGG-1, CGAATTGGTGTGCTTA-1, AGTGCCGCAAATGGCG-1, AGTCATGAGGCTCAAG-1, GTTGTCCGTCAAATCC-1, TATCAGGGTCCCTGTT-1, AGACAAAAGTGGAATT-1, CAATACGAGACGTCCC-1, AGCTTCCAGTCCTGTA-1, CTTGAGAGTTTCACTT-1, GAAATGAAGTCAGGGT-1, TCCATCGAGTGGTTGG-1, ...]\n",
       "\n",
       "[13754 rows x 0 columns]"
      ]
     },
     "execution_count": 12,
     "metadata": {},
     "output_type": "execute_result"
    }
   ],
   "source": [
    "adata.obs"
   ]
  },
  {
   "cell_type": "code",
   "execution_count": 13,
   "id": "3e198f1f",
   "metadata": {},
   "outputs": [
    {
     "data": {
      "text/html": [
       "<div>\n",
       "<style scoped>\n",
       "    .dataframe tbody tr th:only-of-type {\n",
       "        vertical-align: middle;\n",
       "    }\n",
       "\n",
       "    .dataframe tbody tr th {\n",
       "        vertical-align: top;\n",
       "    }\n",
       "\n",
       "    .dataframe thead th {\n",
       "        text-align: right;\n",
       "    }\n",
       "</style>\n",
       "<table border=\"1\" class=\"dataframe\">\n",
       "  <thead>\n",
       "    <tr style=\"text-align: right;\">\n",
       "      <th></th>\n",
       "      <th>gene_ids</th>\n",
       "      <th>feature_types</th>\n",
       "      <th>genome</th>\n",
       "    </tr>\n",
       "  </thead>\n",
       "  <tbody>\n",
       "    <tr>\n",
       "      <th>MIR1302-2HG</th>\n",
       "      <td>ENSG00000243485</td>\n",
       "      <td>Gene Expression</td>\n",
       "      <td>GRCh38</td>\n",
       "    </tr>\n",
       "    <tr>\n",
       "      <th>FAM138A</th>\n",
       "      <td>ENSG00000237613</td>\n",
       "      <td>Gene Expression</td>\n",
       "      <td>GRCh38</td>\n",
       "    </tr>\n",
       "    <tr>\n",
       "      <th>OR4F5</th>\n",
       "      <td>ENSG00000186092</td>\n",
       "      <td>Gene Expression</td>\n",
       "      <td>GRCh38</td>\n",
       "    </tr>\n",
       "    <tr>\n",
       "      <th>AL627309.1</th>\n",
       "      <td>ENSG00000238009</td>\n",
       "      <td>Gene Expression</td>\n",
       "      <td>GRCh38</td>\n",
       "    </tr>\n",
       "    <tr>\n",
       "      <th>AL627309.3</th>\n",
       "      <td>ENSG00000239945</td>\n",
       "      <td>Gene Expression</td>\n",
       "      <td>GRCh38</td>\n",
       "    </tr>\n",
       "    <tr>\n",
       "      <th>...</th>\n",
       "      <td>...</td>\n",
       "      <td>...</td>\n",
       "      <td>...</td>\n",
       "    </tr>\n",
       "    <tr>\n",
       "      <th>AC141272.1</th>\n",
       "      <td>ENSG00000277836</td>\n",
       "      <td>Gene Expression</td>\n",
       "      <td>GRCh38</td>\n",
       "    </tr>\n",
       "    <tr>\n",
       "      <th>AC023491.2</th>\n",
       "      <td>ENSG00000278633</td>\n",
       "      <td>Gene Expression</td>\n",
       "      <td>GRCh38</td>\n",
       "    </tr>\n",
       "    <tr>\n",
       "      <th>AC007325.1</th>\n",
       "      <td>ENSG00000276017</td>\n",
       "      <td>Gene Expression</td>\n",
       "      <td>GRCh38</td>\n",
       "    </tr>\n",
       "    <tr>\n",
       "      <th>AC007325.4</th>\n",
       "      <td>ENSG00000278817</td>\n",
       "      <td>Gene Expression</td>\n",
       "      <td>GRCh38</td>\n",
       "    </tr>\n",
       "    <tr>\n",
       "      <th>AC007325.2</th>\n",
       "      <td>ENSG00000277196</td>\n",
       "      <td>Gene Expression</td>\n",
       "      <td>GRCh38</td>\n",
       "    </tr>\n",
       "  </tbody>\n",
       "</table>\n",
       "<p>36601 rows × 3 columns</p>\n",
       "</div>"
      ],
      "text/plain": [
       "                    gene_ids    feature_types  genome\n",
       "MIR1302-2HG  ENSG00000243485  Gene Expression  GRCh38\n",
       "FAM138A      ENSG00000237613  Gene Expression  GRCh38\n",
       "OR4F5        ENSG00000186092  Gene Expression  GRCh38\n",
       "AL627309.1   ENSG00000238009  Gene Expression  GRCh38\n",
       "AL627309.3   ENSG00000239945  Gene Expression  GRCh38\n",
       "...                      ...              ...     ...\n",
       "AC141272.1   ENSG00000277836  Gene Expression  GRCh38\n",
       "AC023491.2   ENSG00000278633  Gene Expression  GRCh38\n",
       "AC007325.1   ENSG00000276017  Gene Expression  GRCh38\n",
       "AC007325.4   ENSG00000278817  Gene Expression  GRCh38\n",
       "AC007325.2   ENSG00000277196  Gene Expression  GRCh38\n",
       "\n",
       "[36601 rows x 3 columns]"
      ]
     },
     "execution_count": 13,
     "metadata": {},
     "output_type": "execute_result"
    }
   ],
   "source": [
    "adata.var"
   ]
  },
  {
   "cell_type": "markdown",
   "id": "627faa9a",
   "metadata": {},
   "source": [
    "### 2) What warning was printed when you loaded the file? Why does it exist? To answer, print out the number of genes in each anndata object, then print out the number of unique genes.\n",
    "\n",
    "_hint: to find unique genes, you can use the .unique() function._"
   ]
  },
  {
   "cell_type": "code",
   "execution_count": 15,
   "id": "a06f180b",
   "metadata": {},
   "outputs": [
    {
     "name": "stdout",
     "output_type": "stream",
     "text": [
      "36601\n",
      "36591\n"
     ]
    }
   ],
   "source": [
    "print(adata.n_vars)\n",
    "print(len(adata.var_names.unique()))"
   ]
  },
  {
   "cell_type": "markdown",
   "id": "ea3301b6",
   "metadata": {},
   "source": [
    "Answer: there can be multiple Ensembl IDs associated with a single HGNC (Human Gene Nomenclature Committee) symbol. In other words, a single gene symbol (HGNC) can correspond to multiple Ensembl IDs, reflecting alternative transcripts or gene isoforms."
   ]
  },
  {
   "cell_type": "markdown",
   "id": "30758514",
   "metadata": {},
   "source": [
    "### 3) To fix the warning, run the code below. What does it do? Run your number of genes and number of unique genes again to check what changed."
   ]
  },
  {
   "cell_type": "code",
   "execution_count": 16,
   "id": "00b310c0",
   "metadata": {},
   "outputs": [],
   "source": [
    "adata.var_names_make_unique()"
   ]
  },
  {
   "cell_type": "code",
   "execution_count": 17,
   "id": "dcf0d469",
   "metadata": {},
   "outputs": [
    {
     "name": "stdout",
     "output_type": "stream",
     "text": [
      "36601\n",
      "36601\n"
     ]
    }
   ],
   "source": [
    "print(adata.n_vars)\n",
    "print(len(adata.var_names.unique()))"
   ]
  },
  {
   "cell_type": "markdown",
   "id": "77a3c76e",
   "metadata": {},
   "source": [
    "### delete this anndata object to free up memory in preparation for next steps"
   ]
  },
  {
   "cell_type": "code",
   "execution_count": 18,
   "id": "5943adc7",
   "metadata": {},
   "outputs": [],
   "source": [
    "del adata"
   ]
  },
  {
   "cell_type": "markdown",
   "id": "924a418a",
   "metadata": {},
   "source": [
    "# Working with multiple anndata objects"
   ]
  },
  {
   "cell_type": "markdown",
   "id": "88f24f7d",
   "metadata": {},
   "source": [
    "### 4) Write a for loop to iterate over all relevant (CellRanger) sample folders in your working directory and load all 'cellbenderout_filtered.h5' files into an adata_dict dictionary object, where sample names are keys and anndata objects are values.\n",
    "\n",
    "_hint: you'll need to start with a for loop that will have an if condition._"
   ]
  },
  {
   "cell_type": "code",
   "execution_count": null,
   "id": "70b9e3a1",
   "metadata": {},
   "outputs": [],
   "source": [
    "# solution 1 specific to CellRanger\n",
    "adata_dict = {}\n",
    "for folder in os.listdir(wdir):\n",
    "    if folder.startswith('CellRanger'):\n",
    "        h5_filepath = os.path.join(folder, 'cellbenderout_filtered.h5')\n",
    "        adata_dict[folder] = sc.read_10x_h5(h5_filepath)\n",
    "adata_dict"
   ]
  },
  {
   "cell_type": "code",
   "execution_count": 19,
   "id": "664592bb",
   "metadata": {},
   "outputs": [
    {
     "name": "stderr",
     "output_type": "stream",
     "text": [
      "/home/akurjan/conda/envs/scvi-env/lib/python3.9/site-packages/anndata/_core/anndata.py:1832: UserWarning: Variable names are not unique. To make them unique, call `.var_names_make_unique`.\n",
      "  utils.warn_names_duplicates(\"var\")\n",
      "/home/akurjan/conda/envs/scvi-env/lib/python3.9/site-packages/anndata/_core/anndata.py:1832: UserWarning: Variable names are not unique. To make them unique, call `.var_names_make_unique`.\n",
      "  utils.warn_names_duplicates(\"var\")\n",
      "/home/akurjan/conda/envs/scvi-env/lib/python3.9/site-packages/anndata/_core/anndata.py:1832: UserWarning: Variable names are not unique. To make them unique, call `.var_names_make_unique`.\n",
      "  utils.warn_names_duplicates(\"var\")\n"
     ]
    },
    {
     "data": {
      "text/plain": [
       "{'CellRanger_DEV16569_Ach_Jan2023': AnnData object with n_obs × n_vars = 10887 × 36601\n",
       "     var: 'gene_ids', 'feature_types', 'genome',\n",
       " 'CellRanger_DEV15984_Ach_Sep2022': AnnData object with n_obs × n_vars = 6173 × 36601\n",
       "     var: 'gene_ids', 'feature_types', 'genome',\n",
       " 'CellRanger_DEV16127_Quad_Jan2023': AnnData object with n_obs × n_vars = 13754 × 36601\n",
       "     var: 'gene_ids', 'feature_types', 'genome'}"
      ]
     },
     "execution_count": 19,
     "metadata": {},
     "output_type": "execute_result"
    }
   ],
   "source": [
    "# solution 2 that loads all cellbenderout_filtered.h5 files that exist in your working directory\n",
    "adata_dict = {}\n",
    "for folder in os.listdir(wdir):\n",
    "    h5_filepath = os.path.join(folder, 'cellbenderout_filtered.h5')\n",
    "    if os.path.exists(h5_filepath):\n",
    "        adata_dict[folder] = sc.read_10x_h5(h5_filepath) #sc.read_10x_h5(h5_filepath)\n",
    "adata_dict"
   ]
  },
  {
   "cell_type": "markdown",
   "id": "227fb428",
   "metadata": {},
   "source": [
    "### 5) Print the number of cells and genes for each of the anndata objects in your adata_dict dictionary. Use a for loop.\n",
    "_hint: you can use adata.n_obs to get the number of cells and adata.n_vars to get the number of genes_."
   ]
  },
  {
   "cell_type": "code",
   "execution_count": 21,
   "id": "bac79bd7",
   "metadata": {},
   "outputs": [
    {
     "name": "stdout",
     "output_type": "stream",
     "text": [
      "CellRanger_DEV16136_Ach_Jan2023: 636, 36601\n",
      "CellRanger_DEV16569_Ach_Jan2023: 10887, 36601\n",
      "CellRanger_DEV15984_Ach_Sep2022: 6173, 36601\n"
     ]
    }
   ],
   "source": [
    "for name, anndata in adata_dict.items():\n",
    "    print(f\"{name}: {anndata.n_obs}, {anndata.n_vars}\")"
   ]
  },
  {
   "cell_type": "markdown",
   "id": "bf7b3f97",
   "metadata": {},
   "source": [
    "### 6) Create a list of sample names called 'dict_sample_names' using keys of the 'adata_dict' object."
   ]
  },
  {
   "cell_type": "code",
   "execution_count": 20,
   "id": "3f0494a0",
   "metadata": {},
   "outputs": [
    {
     "data": {
      "text/plain": [
       "['CellRanger_DEV16569_Ach_Jan2023',\n",
       " 'CellRanger_DEV15984_Ach_Sep2022',\n",
       " 'CellRanger_DEV16127_Quad_Jan2023']"
      ]
     },
     "execution_count": 20,
     "metadata": {},
     "output_type": "execute_result"
    }
   ],
   "source": [
    "dict_sample_names = list(adata_dict.keys())\n",
    "dict_sample_names"
   ]
  },
  {
   "cell_type": "markdown",
   "id": "e7c00610",
   "metadata": {},
   "source": [
    "### 7) Show the .var of the first anndata object within adata_dict using this list. "
   ]
  },
  {
   "cell_type": "code",
   "execution_count": 21,
   "id": "deea33de",
   "metadata": {},
   "outputs": [
    {
     "data": {
      "text/html": [
       "<div>\n",
       "<style scoped>\n",
       "    .dataframe tbody tr th:only-of-type {\n",
       "        vertical-align: middle;\n",
       "    }\n",
       "\n",
       "    .dataframe tbody tr th {\n",
       "        vertical-align: top;\n",
       "    }\n",
       "\n",
       "    .dataframe thead th {\n",
       "        text-align: right;\n",
       "    }\n",
       "</style>\n",
       "<table border=\"1\" class=\"dataframe\">\n",
       "  <thead>\n",
       "    <tr style=\"text-align: right;\">\n",
       "      <th></th>\n",
       "      <th>gene_ids</th>\n",
       "      <th>feature_types</th>\n",
       "      <th>genome</th>\n",
       "    </tr>\n",
       "  </thead>\n",
       "  <tbody>\n",
       "    <tr>\n",
       "      <th>MIR1302-2HG</th>\n",
       "      <td>ENSG00000243485</td>\n",
       "      <td>Gene Expression</td>\n",
       "      <td>GRCh38</td>\n",
       "    </tr>\n",
       "    <tr>\n",
       "      <th>FAM138A</th>\n",
       "      <td>ENSG00000237613</td>\n",
       "      <td>Gene Expression</td>\n",
       "      <td>GRCh38</td>\n",
       "    </tr>\n",
       "    <tr>\n",
       "      <th>OR4F5</th>\n",
       "      <td>ENSG00000186092</td>\n",
       "      <td>Gene Expression</td>\n",
       "      <td>GRCh38</td>\n",
       "    </tr>\n",
       "    <tr>\n",
       "      <th>AL627309.1</th>\n",
       "      <td>ENSG00000238009</td>\n",
       "      <td>Gene Expression</td>\n",
       "      <td>GRCh38</td>\n",
       "    </tr>\n",
       "    <tr>\n",
       "      <th>AL627309.3</th>\n",
       "      <td>ENSG00000239945</td>\n",
       "      <td>Gene Expression</td>\n",
       "      <td>GRCh38</td>\n",
       "    </tr>\n",
       "    <tr>\n",
       "      <th>...</th>\n",
       "      <td>...</td>\n",
       "      <td>...</td>\n",
       "      <td>...</td>\n",
       "    </tr>\n",
       "    <tr>\n",
       "      <th>AC141272.1</th>\n",
       "      <td>ENSG00000277836</td>\n",
       "      <td>Gene Expression</td>\n",
       "      <td>GRCh38</td>\n",
       "    </tr>\n",
       "    <tr>\n",
       "      <th>AC023491.2</th>\n",
       "      <td>ENSG00000278633</td>\n",
       "      <td>Gene Expression</td>\n",
       "      <td>GRCh38</td>\n",
       "    </tr>\n",
       "    <tr>\n",
       "      <th>AC007325.1</th>\n",
       "      <td>ENSG00000276017</td>\n",
       "      <td>Gene Expression</td>\n",
       "      <td>GRCh38</td>\n",
       "    </tr>\n",
       "    <tr>\n",
       "      <th>AC007325.4</th>\n",
       "      <td>ENSG00000278817</td>\n",
       "      <td>Gene Expression</td>\n",
       "      <td>GRCh38</td>\n",
       "    </tr>\n",
       "    <tr>\n",
       "      <th>AC007325.2</th>\n",
       "      <td>ENSG00000277196</td>\n",
       "      <td>Gene Expression</td>\n",
       "      <td>GRCh38</td>\n",
       "    </tr>\n",
       "  </tbody>\n",
       "</table>\n",
       "<p>36601 rows × 3 columns</p>\n",
       "</div>"
      ],
      "text/plain": [
       "                    gene_ids    feature_types  genome\n",
       "MIR1302-2HG  ENSG00000243485  Gene Expression  GRCh38\n",
       "FAM138A      ENSG00000237613  Gene Expression  GRCh38\n",
       "OR4F5        ENSG00000186092  Gene Expression  GRCh38\n",
       "AL627309.1   ENSG00000238009  Gene Expression  GRCh38\n",
       "AL627309.3   ENSG00000239945  Gene Expression  GRCh38\n",
       "...                      ...              ...     ...\n",
       "AC141272.1   ENSG00000277836  Gene Expression  GRCh38\n",
       "AC023491.2   ENSG00000278633  Gene Expression  GRCh38\n",
       "AC007325.1   ENSG00000276017  Gene Expression  GRCh38\n",
       "AC007325.4   ENSG00000278817  Gene Expression  GRCh38\n",
       "AC007325.2   ENSG00000277196  Gene Expression  GRCh38\n",
       "\n",
       "[36601 rows x 3 columns]"
      ]
     },
     "execution_count": 21,
     "metadata": {},
     "output_type": "execute_result"
    }
   ],
   "source": [
    "adata_dict[dict_sample_names[0]].var"
   ]
  },
  {
   "cell_type": "markdown",
   "id": "1deaecbf",
   "metadata": {},
   "source": [
    "### 8) Now, let's add some metadata to your anndata. First, load the metadata.csv file into a dataframe called 'df' with the first column as the index of the dataframe."
   ]
  },
  {
   "cell_type": "markdown",
   "id": "534bbdd4",
   "metadata": {},
   "source": [
    "Metadata was made using the following code:\n",
    "\n",
    "```\n",
    "# Provided data\n",
    "data = {\n",
    "    'sample_name': ['CellRanger-DEV16569-Ach-Jan2023', 'CellRanger-DEV15984-Ach-Sep2022', 'CellRanger_DEV16127_Quad_Jan2023'],\n",
    "    'sex': ['female', 'male', 'male'],\n",
    "    'age': [20, 40, 60]\n",
    "}\n",
    "\n",
    "# Create a DataFrame\n",
    "df = pd.DataFrame(data)\n",
    "\n",
    "# Display the DataFrame\n",
    "print(\"DataFrame:\")\n",
    "print(df)\n",
    "\n",
    "# Save as a CSV file\n",
    "csv_filename = 'metadata.csv'\n",
    "df.to_csv(csv_filename, index=False)\n",
    "\n",
    "print(f\"\\nDataFrame saved as {csv_filename}\")\n",
    "```"
   ]
  },
  {
   "cell_type": "code",
   "execution_count": 23,
   "id": "204e8328",
   "metadata": {},
   "outputs": [
    {
     "data": {
      "text/html": [
       "<div>\n",
       "<style scoped>\n",
       "    .dataframe tbody tr th:only-of-type {\n",
       "        vertical-align: middle;\n",
       "    }\n",
       "\n",
       "    .dataframe tbody tr th {\n",
       "        vertical-align: top;\n",
       "    }\n",
       "\n",
       "    .dataframe thead th {\n",
       "        text-align: right;\n",
       "    }\n",
       "</style>\n",
       "<table border=\"1\" class=\"dataframe\">\n",
       "  <thead>\n",
       "    <tr style=\"text-align: right;\">\n",
       "      <th></th>\n",
       "      <th>sex</th>\n",
       "      <th>age</th>\n",
       "    </tr>\n",
       "    <tr>\n",
       "      <th>sample_name</th>\n",
       "      <th></th>\n",
       "      <th></th>\n",
       "    </tr>\n",
       "  </thead>\n",
       "  <tbody>\n",
       "    <tr>\n",
       "      <th>CellRanger-DEV16569-Ach-Jan2023</th>\n",
       "      <td>female</td>\n",
       "      <td>20</td>\n",
       "    </tr>\n",
       "    <tr>\n",
       "      <th>CellRanger-DEV15984-Ach-Sep2022</th>\n",
       "      <td>male</td>\n",
       "      <td>40</td>\n",
       "    </tr>\n",
       "    <tr>\n",
       "      <th>CellRanger_DEV16127_Quad_Jan2023</th>\n",
       "      <td>male</td>\n",
       "      <td>60</td>\n",
       "    </tr>\n",
       "  </tbody>\n",
       "</table>\n",
       "</div>"
      ],
      "text/plain": [
       "                                     sex  age\n",
       "sample_name                                  \n",
       "CellRanger-DEV16569-Ach-Jan2023   female   20\n",
       "CellRanger-DEV15984-Ach-Sep2022     male   40\n",
       "CellRanger_DEV16127_Quad_Jan2023    male   60"
      ]
     },
     "execution_count": 23,
     "metadata": {},
     "output_type": "execute_result"
    }
   ],
   "source": [
    "df = pd.read_csv('metadata.csv', index_col=0)\n",
    "df"
   ]
  },
  {
   "cell_type": "markdown",
   "id": "009757f0",
   "metadata": {},
   "source": [
    "### 9) We will need to add the df 'sex' and 'age' information to our anndata objects in the 'adata_dict' dictionary. First, check if the sample names in the 'df' dataframe match the names in 'adata_dict' and print out the matching names.\n",
    "\n",
    "_hint: there are different ways of doing this. One simple way involves writing a for-if loop with df and adata_dict._"
   ]
  },
  {
   "cell_type": "code",
   "execution_count": 24,
   "id": "e7b50738",
   "metadata": {},
   "outputs": [
    {
     "name": "stdout",
     "output_type": "stream",
     "text": [
      "Matching sample names:\n",
      "['CellRanger_DEV16127_Quad_Jan2023']\n"
     ]
    }
   ],
   "source": [
    "# Check if sample names in df match keys in adata_dict\n",
    "matching_samples = []\n",
    "for sample_name in df.index:\n",
    "    if sample_name in adata_dict:\n",
    "        matching_samples.append(sample_name)\n",
    "        \n",
    "# Display the matching sample names\n",
    "print(\"Matching sample names:\")\n",
    "print(matching_samples)"
   ]
  },
  {
   "cell_type": "code",
   "execution_count": 25,
   "id": "27049a10",
   "metadata": {},
   "outputs": [
    {
     "name": "stdout",
     "output_type": "stream",
     "text": [
      "Matching sample names:\n",
      "['CellRanger_DEV16127_Quad_Jan2023']\n"
     ]
    }
   ],
   "source": [
    "# A more comprehensive way to write the same thing:\n",
    "matching_samples = [sample_name for sample_name in df.index if sample_name in adata_dict]\n",
    " \n",
    "# Display the matching sample names\n",
    "print(\"Matching sample names:\")\n",
    "print(matching_samples)"
   ]
  },
  {
   "cell_type": "markdown",
   "id": "fc3d61b6",
   "metadata": {},
   "source": [
    "### 10) If the names do not match, edit them so that they do (DO NOT alter the adata_dict!). Re-run the matching check code from 9."
   ]
  },
  {
   "cell_type": "code",
   "execution_count": 26,
   "id": "14c80dec",
   "metadata": {},
   "outputs": [
    {
     "data": {
      "text/html": [
       "<div>\n",
       "<style scoped>\n",
       "    .dataframe tbody tr th:only-of-type {\n",
       "        vertical-align: middle;\n",
       "    }\n",
       "\n",
       "    .dataframe tbody tr th {\n",
       "        vertical-align: top;\n",
       "    }\n",
       "\n",
       "    .dataframe thead th {\n",
       "        text-align: right;\n",
       "    }\n",
       "</style>\n",
       "<table border=\"1\" class=\"dataframe\">\n",
       "  <thead>\n",
       "    <tr style=\"text-align: right;\">\n",
       "      <th></th>\n",
       "      <th>sex</th>\n",
       "      <th>age</th>\n",
       "    </tr>\n",
       "    <tr>\n",
       "      <th>sample_name</th>\n",
       "      <th></th>\n",
       "      <th></th>\n",
       "    </tr>\n",
       "  </thead>\n",
       "  <tbody>\n",
       "    <tr>\n",
       "      <th>CellRanger_DEV16569_Ach_Jan2023</th>\n",
       "      <td>female</td>\n",
       "      <td>20</td>\n",
       "    </tr>\n",
       "    <tr>\n",
       "      <th>CellRanger_DEV15984_Ach_Sep2022</th>\n",
       "      <td>male</td>\n",
       "      <td>40</td>\n",
       "    </tr>\n",
       "    <tr>\n",
       "      <th>CellRanger_DEV16127_Quad_Jan2023</th>\n",
       "      <td>male</td>\n",
       "      <td>60</td>\n",
       "    </tr>\n",
       "  </tbody>\n",
       "</table>\n",
       "</div>"
      ],
      "text/plain": [
       "                                     sex  age\n",
       "sample_name                                  \n",
       "CellRanger_DEV16569_Ach_Jan2023   female   20\n",
       "CellRanger_DEV15984_Ach_Sep2022     male   40\n",
       "CellRanger_DEV16127_Quad_Jan2023    male   60"
      ]
     },
     "execution_count": 26,
     "metadata": {},
     "output_type": "execute_result"
    }
   ],
   "source": [
    "# Rename the index in the DataFrame by replacing '-' with '_'\n",
    "df.index = df.index.str.replace('-', '_')\n",
    "df"
   ]
  },
  {
   "cell_type": "code",
   "execution_count": 27,
   "id": "5530e3ad",
   "metadata": {},
   "outputs": [
    {
     "name": "stdout",
     "output_type": "stream",
     "text": [
      "Matching sample names:\n",
      "['CellRanger_DEV16569_Ach_Jan2023', 'CellRanger_DEV15984_Ach_Sep2022', 'CellRanger_DEV16127_Quad_Jan2023']\n"
     ]
    }
   ],
   "source": [
    "# A more comprehensive way to write the same thing:\n",
    "matching_samples = [sample_name for sample_name in df.index if sample_name in adata_dict]\n",
    " \n",
    "# Display the matching sample names\n",
    "print(\"Matching sample names:\")\n",
    "print(matching_samples)"
   ]
  },
  {
   "cell_type": "markdown",
   "id": "13b836f3",
   "metadata": {},
   "source": [
    "### 11) Add the 'sex' and 'age' variables to your anndata observations in adata_dict by matching to their sample name in df.index. Would they need to be added to the .obs or .var? Check that this has been done correctly by accesing each sample using 'dict_sample_names' like before.\n",
    "_hint: you will need to use an if statement within a for loop to iterate over sample names in both the index of your dataframe and the keys of adata_dict. Use the df.loc[] indexer within a loop to access and assign values from the DataFrame (df) to the AnnData objects based on the sample names. This allows you to precisely locate and match the 'sex' and 'age' values for each sample in your AnnData objects._"
   ]
  },
  {
   "cell_type": "code",
   "execution_count": null,
   "id": "8a3db84f",
   "metadata": {},
   "outputs": [],
   "source": [
    "# if you were working with a single sample and your df had only a single value, your code would look like this:\n",
    "adata.obs['sex'] = df['sex']\n",
    "adata.obs['age'] = df['age']\n",
    "\n",
    "# for multiple samples and different values of 'sex' and 'age', \n",
    "# you need to make sure they are matched to the correct sample name, \n",
    "# which in this case is stored in the df.index. For this, you can use the df.loc[] indexer functionality:\n",
    "df.loc[row_label, column_label]"
   ]
  },
  {
   "cell_type": "code",
   "execution_count": 34,
   "id": "bcbddd9a",
   "metadata": {},
   "outputs": [
    {
     "name": "stdout",
     "output_type": "stream",
     "text": [
      "\n",
      "Sample: CellRanger_DEV16569_Ach_Jan2023\n",
      "AnnData object with n_obs × n_vars = 10887 × 36601\n",
      "    obs: 'sex', 'age'\n",
      "    var: 'gene_ids', 'feature_types', 'genome'\n",
      "\n",
      "Sample: CellRanger_DEV15984_Ach_Sep2022\n",
      "AnnData object with n_obs × n_vars = 6173 × 36601\n",
      "    obs: 'sex', 'age'\n",
      "    var: 'gene_ids', 'feature_types', 'genome'\n",
      "\n",
      "Sample: CellRanger_DEV16127_Quad_Jan2023\n",
      "AnnData object with n_obs × n_vars = 13754 × 36601\n",
      "    obs: 'sex', 'age'\n",
      "    var: 'gene_ids', 'feature_types', 'genome'\n"
     ]
    }
   ],
   "source": [
    "for sample_name, adata in adata_dict.items():\n",
    "    if sample_name in df.index:\n",
    "        # Add 'sex' and 'age' as observation variables to the AnnData object\n",
    "        adata.obs['sex'] = df.loc[sample_name, 'sex']\n",
    "        adata.obs['age'] = df.loc[sample_name, 'age']\n",
    "\n",
    "# Display the modified AnnData objects\n",
    "for sample_name, adata in adata_dict.items():\n",
    "    print(f\"\\nSample: {sample_name}\")\n",
    "    print(adata)"
   ]
  },
  {
   "cell_type": "code",
   "execution_count": 35,
   "id": "daaff52e",
   "metadata": {},
   "outputs": [
    {
     "data": {
      "text/html": [
       "<div>\n",
       "<style scoped>\n",
       "    .dataframe tbody tr th:only-of-type {\n",
       "        vertical-align: middle;\n",
       "    }\n",
       "\n",
       "    .dataframe tbody tr th {\n",
       "        vertical-align: top;\n",
       "    }\n",
       "\n",
       "    .dataframe thead th {\n",
       "        text-align: right;\n",
       "    }\n",
       "</style>\n",
       "<table border=\"1\" class=\"dataframe\">\n",
       "  <thead>\n",
       "    <tr style=\"text-align: right;\">\n",
       "      <th></th>\n",
       "      <th>sex</th>\n",
       "      <th>age</th>\n",
       "    </tr>\n",
       "  </thead>\n",
       "  <tbody>\n",
       "    <tr>\n",
       "      <th>CACTAAGTCATCCTAT-1</th>\n",
       "      <td>female</td>\n",
       "      <td>20</td>\n",
       "    </tr>\n",
       "    <tr>\n",
       "      <th>GCCATTCTCAGGCGAA-1</th>\n",
       "      <td>female</td>\n",
       "      <td>20</td>\n",
       "    </tr>\n",
       "    <tr>\n",
       "      <th>CTCAGAAAGAATTGTG-1</th>\n",
       "      <td>female</td>\n",
       "      <td>20</td>\n",
       "    </tr>\n",
       "    <tr>\n",
       "      <th>TAACTTCCATTCATCT-1</th>\n",
       "      <td>female</td>\n",
       "      <td>20</td>\n",
       "    </tr>\n",
       "    <tr>\n",
       "      <th>TGGCGTGTCCATTTCA-1</th>\n",
       "      <td>female</td>\n",
       "      <td>20</td>\n",
       "    </tr>\n",
       "    <tr>\n",
       "      <th>...</th>\n",
       "      <td>...</td>\n",
       "      <td>...</td>\n",
       "    </tr>\n",
       "    <tr>\n",
       "      <th>CCGGTGAAGTCGAATA-1</th>\n",
       "      <td>female</td>\n",
       "      <td>20</td>\n",
       "    </tr>\n",
       "    <tr>\n",
       "      <th>ATTACCTCAAGTCCCG-1</th>\n",
       "      <td>female</td>\n",
       "      <td>20</td>\n",
       "    </tr>\n",
       "    <tr>\n",
       "      <th>TGGTTAGGTTGACGGA-1</th>\n",
       "      <td>female</td>\n",
       "      <td>20</td>\n",
       "    </tr>\n",
       "    <tr>\n",
       "      <th>TTCTCTCAGACGTCCC-1</th>\n",
       "      <td>female</td>\n",
       "      <td>20</td>\n",
       "    </tr>\n",
       "    <tr>\n",
       "      <th>TTGACCCAGAGGCCAT-1</th>\n",
       "      <td>female</td>\n",
       "      <td>20</td>\n",
       "    </tr>\n",
       "  </tbody>\n",
       "</table>\n",
       "<p>10887 rows × 2 columns</p>\n",
       "</div>"
      ],
      "text/plain": [
       "                       sex  age\n",
       "CACTAAGTCATCCTAT-1  female   20\n",
       "GCCATTCTCAGGCGAA-1  female   20\n",
       "CTCAGAAAGAATTGTG-1  female   20\n",
       "TAACTTCCATTCATCT-1  female   20\n",
       "TGGCGTGTCCATTTCA-1  female   20\n",
       "...                    ...  ...\n",
       "CCGGTGAAGTCGAATA-1  female   20\n",
       "ATTACCTCAAGTCCCG-1  female   20\n",
       "TGGTTAGGTTGACGGA-1  female   20\n",
       "TTCTCTCAGACGTCCC-1  female   20\n",
       "TTGACCCAGAGGCCAT-1  female   20\n",
       "\n",
       "[10887 rows x 2 columns]"
      ]
     },
     "execution_count": 35,
     "metadata": {},
     "output_type": "execute_result"
    }
   ],
   "source": [
    "adata_dict[dict_sample_names[0]].obs"
   ]
  },
  {
   "cell_type": "markdown",
   "id": "50850445",
   "metadata": {},
   "source": [
    "### 12) Let's create more metadata columns, but now within the anndata objects directly. Our anndata objects currently do not have a 'sample_name' column in their observations. Let's add that in using the adata_dict keys."
   ]
  },
  {
   "cell_type": "code",
   "execution_count": 36,
   "id": "6f426a47",
   "metadata": {},
   "outputs": [
    {
     "data": {
      "text/html": [
       "<div>\n",
       "<style scoped>\n",
       "    .dataframe tbody tr th:only-of-type {\n",
       "        vertical-align: middle;\n",
       "    }\n",
       "\n",
       "    .dataframe tbody tr th {\n",
       "        vertical-align: top;\n",
       "    }\n",
       "\n",
       "    .dataframe thead th {\n",
       "        text-align: right;\n",
       "    }\n",
       "</style>\n",
       "<table border=\"1\" class=\"dataframe\">\n",
       "  <thead>\n",
       "    <tr style=\"text-align: right;\">\n",
       "      <th></th>\n",
       "      <th>sex</th>\n",
       "      <th>age</th>\n",
       "      <th>sample_name</th>\n",
       "    </tr>\n",
       "  </thead>\n",
       "  <tbody>\n",
       "    <tr>\n",
       "      <th>CACTAAGTCATCCTAT-1</th>\n",
       "      <td>female</td>\n",
       "      <td>20</td>\n",
       "      <td>CellRanger_DEV16569_Ach_Jan2023</td>\n",
       "    </tr>\n",
       "    <tr>\n",
       "      <th>GCCATTCTCAGGCGAA-1</th>\n",
       "      <td>female</td>\n",
       "      <td>20</td>\n",
       "      <td>CellRanger_DEV16569_Ach_Jan2023</td>\n",
       "    </tr>\n",
       "    <tr>\n",
       "      <th>CTCAGAAAGAATTGTG-1</th>\n",
       "      <td>female</td>\n",
       "      <td>20</td>\n",
       "      <td>CellRanger_DEV16569_Ach_Jan2023</td>\n",
       "    </tr>\n",
       "    <tr>\n",
       "      <th>TAACTTCCATTCATCT-1</th>\n",
       "      <td>female</td>\n",
       "      <td>20</td>\n",
       "      <td>CellRanger_DEV16569_Ach_Jan2023</td>\n",
       "    </tr>\n",
       "    <tr>\n",
       "      <th>TGGCGTGTCCATTTCA-1</th>\n",
       "      <td>female</td>\n",
       "      <td>20</td>\n",
       "      <td>CellRanger_DEV16569_Ach_Jan2023</td>\n",
       "    </tr>\n",
       "    <tr>\n",
       "      <th>...</th>\n",
       "      <td>...</td>\n",
       "      <td>...</td>\n",
       "      <td>...</td>\n",
       "    </tr>\n",
       "    <tr>\n",
       "      <th>CCGGTGAAGTCGAATA-1</th>\n",
       "      <td>female</td>\n",
       "      <td>20</td>\n",
       "      <td>CellRanger_DEV16569_Ach_Jan2023</td>\n",
       "    </tr>\n",
       "    <tr>\n",
       "      <th>ATTACCTCAAGTCCCG-1</th>\n",
       "      <td>female</td>\n",
       "      <td>20</td>\n",
       "      <td>CellRanger_DEV16569_Ach_Jan2023</td>\n",
       "    </tr>\n",
       "    <tr>\n",
       "      <th>TGGTTAGGTTGACGGA-1</th>\n",
       "      <td>female</td>\n",
       "      <td>20</td>\n",
       "      <td>CellRanger_DEV16569_Ach_Jan2023</td>\n",
       "    </tr>\n",
       "    <tr>\n",
       "      <th>TTCTCTCAGACGTCCC-1</th>\n",
       "      <td>female</td>\n",
       "      <td>20</td>\n",
       "      <td>CellRanger_DEV16569_Ach_Jan2023</td>\n",
       "    </tr>\n",
       "    <tr>\n",
       "      <th>TTGACCCAGAGGCCAT-1</th>\n",
       "      <td>female</td>\n",
       "      <td>20</td>\n",
       "      <td>CellRanger_DEV16569_Ach_Jan2023</td>\n",
       "    </tr>\n",
       "  </tbody>\n",
       "</table>\n",
       "<p>10887 rows × 3 columns</p>\n",
       "</div>"
      ],
      "text/plain": [
       "                       sex  age                      sample_name\n",
       "CACTAAGTCATCCTAT-1  female   20  CellRanger_DEV16569_Ach_Jan2023\n",
       "GCCATTCTCAGGCGAA-1  female   20  CellRanger_DEV16569_Ach_Jan2023\n",
       "CTCAGAAAGAATTGTG-1  female   20  CellRanger_DEV16569_Ach_Jan2023\n",
       "TAACTTCCATTCATCT-1  female   20  CellRanger_DEV16569_Ach_Jan2023\n",
       "TGGCGTGTCCATTTCA-1  female   20  CellRanger_DEV16569_Ach_Jan2023\n",
       "...                    ...  ...                              ...\n",
       "CCGGTGAAGTCGAATA-1  female   20  CellRanger_DEV16569_Ach_Jan2023\n",
       "ATTACCTCAAGTCCCG-1  female   20  CellRanger_DEV16569_Ach_Jan2023\n",
       "TGGTTAGGTTGACGGA-1  female   20  CellRanger_DEV16569_Ach_Jan2023\n",
       "TTCTCTCAGACGTCCC-1  female   20  CellRanger_DEV16569_Ach_Jan2023\n",
       "TTGACCCAGAGGCCAT-1  female   20  CellRanger_DEV16569_Ach_Jan2023\n",
       "\n",
       "[10887 rows x 3 columns]"
      ]
     },
     "execution_count": 36,
     "metadata": {},
     "output_type": "execute_result"
    }
   ],
   "source": [
    "for sample_name, adata in adata_dict.items():\n",
    "    adata.obs['sample_name'] = sample_name\n",
    "adata_dict[dict_sample_names[0]].obs"
   ]
  },
  {
   "cell_type": "markdown",
   "id": "fc642c8d",
   "metadata": {},
   "source": [
    "### 13) You'll notice that the sample names follow a consistent format like 'CellRanger_patientID_tissueType_libraryPreparationDate'. Using this sample name, create the 'donor', 'type' and 'libbatch' variables directly in each of your anndata objects.\n",
    "\n",
    "_hint: you can use the split() function to split the sample name string by a given separator value. Then simply do e.g. adata.obs['donor'] = second part of string_"
   ]
  },
  {
   "cell_type": "code",
   "execution_count": 37,
   "id": "995eb118",
   "metadata": {},
   "outputs": [],
   "source": [
    "# Iterate over the items in adata_dict and extract variables from sample names\n",
    "for sample_name, adata in adata_dict.items():\n",
    "    # Split the sample name into components using underscores\n",
    "    components = sample_name.split('_')\n",
    "\n",
    "    # Extract donor, type, and libbatch from the components\n",
    "    donor = components[1]  # Assuming patient ID is the second component\n",
    "    tissue_type = components[2]\n",
    "    libbatch = components[3]\n",
    "\n",
    "    # Add 'donor', 'type', and 'libbatch' to observations\n",
    "    adata.obs['donor'] = donor\n",
    "    adata.obs['type'] = tissue_type\n",
    "    adata.obs['libbatch'] = libbatch"
   ]
  },
  {
   "cell_type": "code",
   "execution_count": 38,
   "id": "ce6f22f8",
   "metadata": {},
   "outputs": [
    {
     "data": {
      "text/html": [
       "<div>\n",
       "<style scoped>\n",
       "    .dataframe tbody tr th:only-of-type {\n",
       "        vertical-align: middle;\n",
       "    }\n",
       "\n",
       "    .dataframe tbody tr th {\n",
       "        vertical-align: top;\n",
       "    }\n",
       "\n",
       "    .dataframe thead th {\n",
       "        text-align: right;\n",
       "    }\n",
       "</style>\n",
       "<table border=\"1\" class=\"dataframe\">\n",
       "  <thead>\n",
       "    <tr style=\"text-align: right;\">\n",
       "      <th></th>\n",
       "      <th>sex</th>\n",
       "      <th>age</th>\n",
       "      <th>sample_name</th>\n",
       "      <th>donor</th>\n",
       "      <th>type</th>\n",
       "      <th>libbatch</th>\n",
       "    </tr>\n",
       "  </thead>\n",
       "  <tbody>\n",
       "    <tr>\n",
       "      <th>CACTAAGTCATCCTAT-1</th>\n",
       "      <td>female</td>\n",
       "      <td>20</td>\n",
       "      <td>CellRanger_DEV16569_Ach_Jan2023</td>\n",
       "      <td>DEV16569</td>\n",
       "      <td>Ach</td>\n",
       "      <td>Jan2023</td>\n",
       "    </tr>\n",
       "    <tr>\n",
       "      <th>GCCATTCTCAGGCGAA-1</th>\n",
       "      <td>female</td>\n",
       "      <td>20</td>\n",
       "      <td>CellRanger_DEV16569_Ach_Jan2023</td>\n",
       "      <td>DEV16569</td>\n",
       "      <td>Ach</td>\n",
       "      <td>Jan2023</td>\n",
       "    </tr>\n",
       "    <tr>\n",
       "      <th>CTCAGAAAGAATTGTG-1</th>\n",
       "      <td>female</td>\n",
       "      <td>20</td>\n",
       "      <td>CellRanger_DEV16569_Ach_Jan2023</td>\n",
       "      <td>DEV16569</td>\n",
       "      <td>Ach</td>\n",
       "      <td>Jan2023</td>\n",
       "    </tr>\n",
       "    <tr>\n",
       "      <th>TAACTTCCATTCATCT-1</th>\n",
       "      <td>female</td>\n",
       "      <td>20</td>\n",
       "      <td>CellRanger_DEV16569_Ach_Jan2023</td>\n",
       "      <td>DEV16569</td>\n",
       "      <td>Ach</td>\n",
       "      <td>Jan2023</td>\n",
       "    </tr>\n",
       "    <tr>\n",
       "      <th>TGGCGTGTCCATTTCA-1</th>\n",
       "      <td>female</td>\n",
       "      <td>20</td>\n",
       "      <td>CellRanger_DEV16569_Ach_Jan2023</td>\n",
       "      <td>DEV16569</td>\n",
       "      <td>Ach</td>\n",
       "      <td>Jan2023</td>\n",
       "    </tr>\n",
       "    <tr>\n",
       "      <th>...</th>\n",
       "      <td>...</td>\n",
       "      <td>...</td>\n",
       "      <td>...</td>\n",
       "      <td>...</td>\n",
       "      <td>...</td>\n",
       "      <td>...</td>\n",
       "    </tr>\n",
       "    <tr>\n",
       "      <th>CCGGTGAAGTCGAATA-1</th>\n",
       "      <td>female</td>\n",
       "      <td>20</td>\n",
       "      <td>CellRanger_DEV16569_Ach_Jan2023</td>\n",
       "      <td>DEV16569</td>\n",
       "      <td>Ach</td>\n",
       "      <td>Jan2023</td>\n",
       "    </tr>\n",
       "    <tr>\n",
       "      <th>ATTACCTCAAGTCCCG-1</th>\n",
       "      <td>female</td>\n",
       "      <td>20</td>\n",
       "      <td>CellRanger_DEV16569_Ach_Jan2023</td>\n",
       "      <td>DEV16569</td>\n",
       "      <td>Ach</td>\n",
       "      <td>Jan2023</td>\n",
       "    </tr>\n",
       "    <tr>\n",
       "      <th>TGGTTAGGTTGACGGA-1</th>\n",
       "      <td>female</td>\n",
       "      <td>20</td>\n",
       "      <td>CellRanger_DEV16569_Ach_Jan2023</td>\n",
       "      <td>DEV16569</td>\n",
       "      <td>Ach</td>\n",
       "      <td>Jan2023</td>\n",
       "    </tr>\n",
       "    <tr>\n",
       "      <th>TTCTCTCAGACGTCCC-1</th>\n",
       "      <td>female</td>\n",
       "      <td>20</td>\n",
       "      <td>CellRanger_DEV16569_Ach_Jan2023</td>\n",
       "      <td>DEV16569</td>\n",
       "      <td>Ach</td>\n",
       "      <td>Jan2023</td>\n",
       "    </tr>\n",
       "    <tr>\n",
       "      <th>TTGACCCAGAGGCCAT-1</th>\n",
       "      <td>female</td>\n",
       "      <td>20</td>\n",
       "      <td>CellRanger_DEV16569_Ach_Jan2023</td>\n",
       "      <td>DEV16569</td>\n",
       "      <td>Ach</td>\n",
       "      <td>Jan2023</td>\n",
       "    </tr>\n",
       "  </tbody>\n",
       "</table>\n",
       "<p>10887 rows × 6 columns</p>\n",
       "</div>"
      ],
      "text/plain": [
       "                       sex  age                      sample_name     donor  \\\n",
       "CACTAAGTCATCCTAT-1  female   20  CellRanger_DEV16569_Ach_Jan2023  DEV16569   \n",
       "GCCATTCTCAGGCGAA-1  female   20  CellRanger_DEV16569_Ach_Jan2023  DEV16569   \n",
       "CTCAGAAAGAATTGTG-1  female   20  CellRanger_DEV16569_Ach_Jan2023  DEV16569   \n",
       "TAACTTCCATTCATCT-1  female   20  CellRanger_DEV16569_Ach_Jan2023  DEV16569   \n",
       "TGGCGTGTCCATTTCA-1  female   20  CellRanger_DEV16569_Ach_Jan2023  DEV16569   \n",
       "...                    ...  ...                              ...       ...   \n",
       "CCGGTGAAGTCGAATA-1  female   20  CellRanger_DEV16569_Ach_Jan2023  DEV16569   \n",
       "ATTACCTCAAGTCCCG-1  female   20  CellRanger_DEV16569_Ach_Jan2023  DEV16569   \n",
       "TGGTTAGGTTGACGGA-1  female   20  CellRanger_DEV16569_Ach_Jan2023  DEV16569   \n",
       "TTCTCTCAGACGTCCC-1  female   20  CellRanger_DEV16569_Ach_Jan2023  DEV16569   \n",
       "TTGACCCAGAGGCCAT-1  female   20  CellRanger_DEV16569_Ach_Jan2023  DEV16569   \n",
       "\n",
       "                   type libbatch  \n",
       "CACTAAGTCATCCTAT-1  Ach  Jan2023  \n",
       "GCCATTCTCAGGCGAA-1  Ach  Jan2023  \n",
       "CTCAGAAAGAATTGTG-1  Ach  Jan2023  \n",
       "TAACTTCCATTCATCT-1  Ach  Jan2023  \n",
       "TGGCGTGTCCATTTCA-1  Ach  Jan2023  \n",
       "...                 ...      ...  \n",
       "CCGGTGAAGTCGAATA-1  Ach  Jan2023  \n",
       "ATTACCTCAAGTCCCG-1  Ach  Jan2023  \n",
       "TGGTTAGGTTGACGGA-1  Ach  Jan2023  \n",
       "TTCTCTCAGACGTCCC-1  Ach  Jan2023  \n",
       "TTGACCCAGAGGCCAT-1  Ach  Jan2023  \n",
       "\n",
       "[10887 rows x 6 columns]"
      ]
     },
     "execution_count": 38,
     "metadata": {},
     "output_type": "execute_result"
    }
   ],
   "source": [
    "adata_dict[dict_sample_names[0]].obs"
   ]
  },
  {
   "cell_type": "markdown",
   "id": "48a5c495",
   "metadata": {},
   "source": [
    "### 14) Now, using a similar approach, edit the adata.obs indices of all adata_dict anndata objects so that they contain the barcode without the '-1' at the end, the donor name, and the tissue type in the following format: 'Barcode.DonorName_TissueType'.\n",
    "\n",
    "_hint: barcodes are stored in adata.obs_names and you should make a new 'barcode' obs column to store them in before you alter the index._"
   ]
  },
  {
   "cell_type": "code",
   "execution_count": 39,
   "id": "6dcb6050",
   "metadata": {},
   "outputs": [],
   "source": [
    "for sample_name, adata in adata_dict.items():\n",
    "    samplename = sample_name.split('_')[1] +'_'+ sample_name.split('_')[2]\n",
    "    barcode = adata.obs_names.str[:-2] #or you can do replace(\"-1\", \"\") or adata.obs_names.str.split('-').str[0]\n",
    "    adata.obs['barcode'] = barcode\n",
    "    donor = adata.obs['donor'][0]\n",
    "    tissuetype = adata.obs['type'][0]\n",
    "    adata.obs.index = barcode + '.' + donor + '_' + tissuetype"
   ]
  },
  {
   "cell_type": "code",
   "execution_count": 40,
   "id": "a0f7426f",
   "metadata": {},
   "outputs": [
    {
     "data": {
      "text/html": [
       "<div>\n",
       "<style scoped>\n",
       "    .dataframe tbody tr th:only-of-type {\n",
       "        vertical-align: middle;\n",
       "    }\n",
       "\n",
       "    .dataframe tbody tr th {\n",
       "        vertical-align: top;\n",
       "    }\n",
       "\n",
       "    .dataframe thead th {\n",
       "        text-align: right;\n",
       "    }\n",
       "</style>\n",
       "<table border=\"1\" class=\"dataframe\">\n",
       "  <thead>\n",
       "    <tr style=\"text-align: right;\">\n",
       "      <th></th>\n",
       "      <th>sex</th>\n",
       "      <th>age</th>\n",
       "      <th>sample_name</th>\n",
       "      <th>donor</th>\n",
       "      <th>type</th>\n",
       "      <th>libbatch</th>\n",
       "      <th>barcode</th>\n",
       "    </tr>\n",
       "  </thead>\n",
       "  <tbody>\n",
       "    <tr>\n",
       "      <th>CACTAAGTCATCCTAT.DEV16569_Ach</th>\n",
       "      <td>female</td>\n",
       "      <td>20</td>\n",
       "      <td>CellRanger_DEV16569_Ach_Jan2023</td>\n",
       "      <td>DEV16569</td>\n",
       "      <td>Ach</td>\n",
       "      <td>Jan2023</td>\n",
       "      <td>CACTAAGTCATCCTAT</td>\n",
       "    </tr>\n",
       "    <tr>\n",
       "      <th>GCCATTCTCAGGCGAA.DEV16569_Ach</th>\n",
       "      <td>female</td>\n",
       "      <td>20</td>\n",
       "      <td>CellRanger_DEV16569_Ach_Jan2023</td>\n",
       "      <td>DEV16569</td>\n",
       "      <td>Ach</td>\n",
       "      <td>Jan2023</td>\n",
       "      <td>GCCATTCTCAGGCGAA</td>\n",
       "    </tr>\n",
       "    <tr>\n",
       "      <th>CTCAGAAAGAATTGTG.DEV16569_Ach</th>\n",
       "      <td>female</td>\n",
       "      <td>20</td>\n",
       "      <td>CellRanger_DEV16569_Ach_Jan2023</td>\n",
       "      <td>DEV16569</td>\n",
       "      <td>Ach</td>\n",
       "      <td>Jan2023</td>\n",
       "      <td>CTCAGAAAGAATTGTG</td>\n",
       "    </tr>\n",
       "    <tr>\n",
       "      <th>TAACTTCCATTCATCT.DEV16569_Ach</th>\n",
       "      <td>female</td>\n",
       "      <td>20</td>\n",
       "      <td>CellRanger_DEV16569_Ach_Jan2023</td>\n",
       "      <td>DEV16569</td>\n",
       "      <td>Ach</td>\n",
       "      <td>Jan2023</td>\n",
       "      <td>TAACTTCCATTCATCT</td>\n",
       "    </tr>\n",
       "    <tr>\n",
       "      <th>TGGCGTGTCCATTTCA.DEV16569_Ach</th>\n",
       "      <td>female</td>\n",
       "      <td>20</td>\n",
       "      <td>CellRanger_DEV16569_Ach_Jan2023</td>\n",
       "      <td>DEV16569</td>\n",
       "      <td>Ach</td>\n",
       "      <td>Jan2023</td>\n",
       "      <td>TGGCGTGTCCATTTCA</td>\n",
       "    </tr>\n",
       "    <tr>\n",
       "      <th>...</th>\n",
       "      <td>...</td>\n",
       "      <td>...</td>\n",
       "      <td>...</td>\n",
       "      <td>...</td>\n",
       "      <td>...</td>\n",
       "      <td>...</td>\n",
       "      <td>...</td>\n",
       "    </tr>\n",
       "    <tr>\n",
       "      <th>CCGGTGAAGTCGAATA.DEV16569_Ach</th>\n",
       "      <td>female</td>\n",
       "      <td>20</td>\n",
       "      <td>CellRanger_DEV16569_Ach_Jan2023</td>\n",
       "      <td>DEV16569</td>\n",
       "      <td>Ach</td>\n",
       "      <td>Jan2023</td>\n",
       "      <td>CCGGTGAAGTCGAATA</td>\n",
       "    </tr>\n",
       "    <tr>\n",
       "      <th>ATTACCTCAAGTCCCG.DEV16569_Ach</th>\n",
       "      <td>female</td>\n",
       "      <td>20</td>\n",
       "      <td>CellRanger_DEV16569_Ach_Jan2023</td>\n",
       "      <td>DEV16569</td>\n",
       "      <td>Ach</td>\n",
       "      <td>Jan2023</td>\n",
       "      <td>ATTACCTCAAGTCCCG</td>\n",
       "    </tr>\n",
       "    <tr>\n",
       "      <th>TGGTTAGGTTGACGGA.DEV16569_Ach</th>\n",
       "      <td>female</td>\n",
       "      <td>20</td>\n",
       "      <td>CellRanger_DEV16569_Ach_Jan2023</td>\n",
       "      <td>DEV16569</td>\n",
       "      <td>Ach</td>\n",
       "      <td>Jan2023</td>\n",
       "      <td>TGGTTAGGTTGACGGA</td>\n",
       "    </tr>\n",
       "    <tr>\n",
       "      <th>TTCTCTCAGACGTCCC.DEV16569_Ach</th>\n",
       "      <td>female</td>\n",
       "      <td>20</td>\n",
       "      <td>CellRanger_DEV16569_Ach_Jan2023</td>\n",
       "      <td>DEV16569</td>\n",
       "      <td>Ach</td>\n",
       "      <td>Jan2023</td>\n",
       "      <td>TTCTCTCAGACGTCCC</td>\n",
       "    </tr>\n",
       "    <tr>\n",
       "      <th>TTGACCCAGAGGCCAT.DEV16569_Ach</th>\n",
       "      <td>female</td>\n",
       "      <td>20</td>\n",
       "      <td>CellRanger_DEV16569_Ach_Jan2023</td>\n",
       "      <td>DEV16569</td>\n",
       "      <td>Ach</td>\n",
       "      <td>Jan2023</td>\n",
       "      <td>TTGACCCAGAGGCCAT</td>\n",
       "    </tr>\n",
       "  </tbody>\n",
       "</table>\n",
       "<p>10887 rows × 7 columns</p>\n",
       "</div>"
      ],
      "text/plain": [
       "                                  sex  age                      sample_name  \\\n",
       "CACTAAGTCATCCTAT.DEV16569_Ach  female   20  CellRanger_DEV16569_Ach_Jan2023   \n",
       "GCCATTCTCAGGCGAA.DEV16569_Ach  female   20  CellRanger_DEV16569_Ach_Jan2023   \n",
       "CTCAGAAAGAATTGTG.DEV16569_Ach  female   20  CellRanger_DEV16569_Ach_Jan2023   \n",
       "TAACTTCCATTCATCT.DEV16569_Ach  female   20  CellRanger_DEV16569_Ach_Jan2023   \n",
       "TGGCGTGTCCATTTCA.DEV16569_Ach  female   20  CellRanger_DEV16569_Ach_Jan2023   \n",
       "...                               ...  ...                              ...   \n",
       "CCGGTGAAGTCGAATA.DEV16569_Ach  female   20  CellRanger_DEV16569_Ach_Jan2023   \n",
       "ATTACCTCAAGTCCCG.DEV16569_Ach  female   20  CellRanger_DEV16569_Ach_Jan2023   \n",
       "TGGTTAGGTTGACGGA.DEV16569_Ach  female   20  CellRanger_DEV16569_Ach_Jan2023   \n",
       "TTCTCTCAGACGTCCC.DEV16569_Ach  female   20  CellRanger_DEV16569_Ach_Jan2023   \n",
       "TTGACCCAGAGGCCAT.DEV16569_Ach  female   20  CellRanger_DEV16569_Ach_Jan2023   \n",
       "\n",
       "                                  donor type libbatch           barcode  \n",
       "CACTAAGTCATCCTAT.DEV16569_Ach  DEV16569  Ach  Jan2023  CACTAAGTCATCCTAT  \n",
       "GCCATTCTCAGGCGAA.DEV16569_Ach  DEV16569  Ach  Jan2023  GCCATTCTCAGGCGAA  \n",
       "CTCAGAAAGAATTGTG.DEV16569_Ach  DEV16569  Ach  Jan2023  CTCAGAAAGAATTGTG  \n",
       "TAACTTCCATTCATCT.DEV16569_Ach  DEV16569  Ach  Jan2023  TAACTTCCATTCATCT  \n",
       "TGGCGTGTCCATTTCA.DEV16569_Ach  DEV16569  Ach  Jan2023  TGGCGTGTCCATTTCA  \n",
       "...                                 ...  ...      ...               ...  \n",
       "CCGGTGAAGTCGAATA.DEV16569_Ach  DEV16569  Ach  Jan2023  CCGGTGAAGTCGAATA  \n",
       "ATTACCTCAAGTCCCG.DEV16569_Ach  DEV16569  Ach  Jan2023  ATTACCTCAAGTCCCG  \n",
       "TGGTTAGGTTGACGGA.DEV16569_Ach  DEV16569  Ach  Jan2023  TGGTTAGGTTGACGGA  \n",
       "TTCTCTCAGACGTCCC.DEV16569_Ach  DEV16569  Ach  Jan2023  TTCTCTCAGACGTCCC  \n",
       "TTGACCCAGAGGCCAT.DEV16569_Ach  DEV16569  Ach  Jan2023  TTGACCCAGAGGCCAT  \n",
       "\n",
       "[10887 rows x 7 columns]"
      ]
     },
     "execution_count": 40,
     "metadata": {},
     "output_type": "execute_result"
    }
   ],
   "source": [
    "adata_dict[dict_sample_names[0]].obs"
   ]
  },
  {
   "cell_type": "markdown",
   "id": "aceff57d",
   "metadata": {},
   "source": [
    "### 15) Now let's look at anndata.var. First, print out the number of genes in each anndata object, then print out the number of unique genes as before. Make the vars unique if needed."
   ]
  },
  {
   "cell_type": "code",
   "execution_count": 41,
   "id": "b9c44a8d",
   "metadata": {},
   "outputs": [
    {
     "name": "stdout",
     "output_type": "stream",
     "text": [
      "36601\n",
      "36591\n",
      "36601\n",
      "36591\n",
      "36601\n",
      "36591\n"
     ]
    }
   ],
   "source": [
    "for adata in adata_dict.values():\n",
    "    print(adata.n_vars)\n",
    "    print(len(adata.var_names.unique()))"
   ]
  },
  {
   "cell_type": "code",
   "execution_count": 42,
   "id": "3ca001f8",
   "metadata": {},
   "outputs": [],
   "source": [
    "for adata in adata_dict.values():\n",
    "    adata.var_names_make_unique()"
   ]
  },
  {
   "cell_type": "markdown",
   "id": "dfffc37f",
   "metadata": {},
   "source": [
    "### 16) Save the anndata objects in the dictionary as .h5ad files in their respective folders. We will use them again tomorrow."
   ]
  },
  {
   "cell_type": "code",
   "execution_count": null,
   "id": "4cbfb1fa",
   "metadata": {},
   "outputs": [],
   "source": [
    "# to save a single anndata object, you usually run the following command:\n",
    "adata.write('nameofsample.h5ad')\n",
    "# to save all the anndata objects from a dictionary, simply write a double for loop using os.listdir() and adata_dict.items().\n",
    "# use the f-string functionality to automate sample naming, e.g. f'{sample_name}.h5ad'"
   ]
  },
  {
   "cell_type": "code",
   "execution_count": 44,
   "id": "b5b275bd",
   "metadata": {},
   "outputs": [],
   "source": [
    "for folder in os.listdir(wdir):\n",
    "    for sample_name, adata in adata_dict.items():\n",
    "        adata.write(os.path.join(sample_name, f'{sample_name}.h5ad'))"
   ]
  },
  {
   "cell_type": "markdown",
   "id": "84e13f7b",
   "metadata": {},
   "source": [
    "### 17) Concatenate the anndata objects together in your adata_dict dictionary using anndata.concat(). \n",
    "_hint: If you get an InvalidIndexError, run adata.var_names_make_unique(). you will need to put the anndata objects into a list for anndata.concat() to work. You should also specify join='outer'_"
   ]
  },
  {
   "cell_type": "code",
   "execution_count": 45,
   "id": "bbe3e23a",
   "metadata": {},
   "outputs": [
    {
     "data": {
      "text/plain": [
       "AnnData object with n_obs × n_vars = 30814 × 36601\n",
       "    obs: 'sex', 'age', 'sample_name', 'donor', 'type', 'libbatch', 'barcode'"
      ]
     },
     "execution_count": 45,
     "metadata": {},
     "output_type": "execute_result"
    }
   ],
   "source": [
    "concatenated_adata = ad.concat(list(adata_dict.values()), index_unique=None, join='outer', axis=0)\n",
    "concatenated_adata"
   ]
  },
  {
   "cell_type": "code",
   "execution_count": 46,
   "id": "3d5ac84f",
   "metadata": {},
   "outputs": [
    {
     "data": {
      "text/html": [
       "<div>\n",
       "<style scoped>\n",
       "    .dataframe tbody tr th:only-of-type {\n",
       "        vertical-align: middle;\n",
       "    }\n",
       "\n",
       "    .dataframe tbody tr th {\n",
       "        vertical-align: top;\n",
       "    }\n",
       "\n",
       "    .dataframe thead th {\n",
       "        text-align: right;\n",
       "    }\n",
       "</style>\n",
       "<table border=\"1\" class=\"dataframe\">\n",
       "  <thead>\n",
       "    <tr style=\"text-align: right;\">\n",
       "      <th></th>\n",
       "      <th>sex</th>\n",
       "      <th>age</th>\n",
       "      <th>sample_name</th>\n",
       "      <th>donor</th>\n",
       "      <th>type</th>\n",
       "      <th>libbatch</th>\n",
       "      <th>barcode</th>\n",
       "    </tr>\n",
       "  </thead>\n",
       "  <tbody>\n",
       "    <tr>\n",
       "      <th>CACTAAGTCATCCTAT.DEV16569_Ach</th>\n",
       "      <td>female</td>\n",
       "      <td>20</td>\n",
       "      <td>CellRanger_DEV16569_Ach_Jan2023</td>\n",
       "      <td>DEV16569</td>\n",
       "      <td>Ach</td>\n",
       "      <td>Jan2023</td>\n",
       "      <td>CACTAAGTCATCCTAT</td>\n",
       "    </tr>\n",
       "    <tr>\n",
       "      <th>GCCATTCTCAGGCGAA.DEV16569_Ach</th>\n",
       "      <td>female</td>\n",
       "      <td>20</td>\n",
       "      <td>CellRanger_DEV16569_Ach_Jan2023</td>\n",
       "      <td>DEV16569</td>\n",
       "      <td>Ach</td>\n",
       "      <td>Jan2023</td>\n",
       "      <td>GCCATTCTCAGGCGAA</td>\n",
       "    </tr>\n",
       "    <tr>\n",
       "      <th>CTCAGAAAGAATTGTG.DEV16569_Ach</th>\n",
       "      <td>female</td>\n",
       "      <td>20</td>\n",
       "      <td>CellRanger_DEV16569_Ach_Jan2023</td>\n",
       "      <td>DEV16569</td>\n",
       "      <td>Ach</td>\n",
       "      <td>Jan2023</td>\n",
       "      <td>CTCAGAAAGAATTGTG</td>\n",
       "    </tr>\n",
       "    <tr>\n",
       "      <th>TAACTTCCATTCATCT.DEV16569_Ach</th>\n",
       "      <td>female</td>\n",
       "      <td>20</td>\n",
       "      <td>CellRanger_DEV16569_Ach_Jan2023</td>\n",
       "      <td>DEV16569</td>\n",
       "      <td>Ach</td>\n",
       "      <td>Jan2023</td>\n",
       "      <td>TAACTTCCATTCATCT</td>\n",
       "    </tr>\n",
       "    <tr>\n",
       "      <th>TGGCGTGTCCATTTCA.DEV16569_Ach</th>\n",
       "      <td>female</td>\n",
       "      <td>20</td>\n",
       "      <td>CellRanger_DEV16569_Ach_Jan2023</td>\n",
       "      <td>DEV16569</td>\n",
       "      <td>Ach</td>\n",
       "      <td>Jan2023</td>\n",
       "      <td>TGGCGTGTCCATTTCA</td>\n",
       "    </tr>\n",
       "    <tr>\n",
       "      <th>...</th>\n",
       "      <td>...</td>\n",
       "      <td>...</td>\n",
       "      <td>...</td>\n",
       "      <td>...</td>\n",
       "      <td>...</td>\n",
       "      <td>...</td>\n",
       "      <td>...</td>\n",
       "    </tr>\n",
       "    <tr>\n",
       "      <th>AGCGTCGCACCAGCCA.DEV16127_Quad</th>\n",
       "      <td>male</td>\n",
       "      <td>60</td>\n",
       "      <td>CellRanger_DEV16127_Quad_Jan2023</td>\n",
       "      <td>DEV16127</td>\n",
       "      <td>Quad</td>\n",
       "      <td>Jan2023</td>\n",
       "      <td>AGCGTCGCACCAGCCA</td>\n",
       "    </tr>\n",
       "    <tr>\n",
       "      <th>TATCTTGAGCTGCGAA.DEV16127_Quad</th>\n",
       "      <td>male</td>\n",
       "      <td>60</td>\n",
       "      <td>CellRanger_DEV16127_Quad_Jan2023</td>\n",
       "      <td>DEV16127</td>\n",
       "      <td>Quad</td>\n",
       "      <td>Jan2023</td>\n",
       "      <td>TATCTTGAGCTGCGAA</td>\n",
       "    </tr>\n",
       "    <tr>\n",
       "      <th>GGTGTTATCGTAGGGA.DEV16127_Quad</th>\n",
       "      <td>male</td>\n",
       "      <td>60</td>\n",
       "      <td>CellRanger_DEV16127_Quad_Jan2023</td>\n",
       "      <td>DEV16127</td>\n",
       "      <td>Quad</td>\n",
       "      <td>Jan2023</td>\n",
       "      <td>GGTGTTATCGTAGGGA</td>\n",
       "    </tr>\n",
       "    <tr>\n",
       "      <th>CTCAACCTCATCTATC.DEV16127_Quad</th>\n",
       "      <td>male</td>\n",
       "      <td>60</td>\n",
       "      <td>CellRanger_DEV16127_Quad_Jan2023</td>\n",
       "      <td>DEV16127</td>\n",
       "      <td>Quad</td>\n",
       "      <td>Jan2023</td>\n",
       "      <td>CTCAACCTCATCTATC</td>\n",
       "    </tr>\n",
       "    <tr>\n",
       "      <th>AGAAGCGCAGTGGTGA.DEV16127_Quad</th>\n",
       "      <td>male</td>\n",
       "      <td>60</td>\n",
       "      <td>CellRanger_DEV16127_Quad_Jan2023</td>\n",
       "      <td>DEV16127</td>\n",
       "      <td>Quad</td>\n",
       "      <td>Jan2023</td>\n",
       "      <td>AGAAGCGCAGTGGTGA</td>\n",
       "    </tr>\n",
       "  </tbody>\n",
       "</table>\n",
       "<p>30814 rows × 7 columns</p>\n",
       "</div>"
      ],
      "text/plain": [
       "                                   sex  age                       sample_name  \\\n",
       "CACTAAGTCATCCTAT.DEV16569_Ach   female   20   CellRanger_DEV16569_Ach_Jan2023   \n",
       "GCCATTCTCAGGCGAA.DEV16569_Ach   female   20   CellRanger_DEV16569_Ach_Jan2023   \n",
       "CTCAGAAAGAATTGTG.DEV16569_Ach   female   20   CellRanger_DEV16569_Ach_Jan2023   \n",
       "TAACTTCCATTCATCT.DEV16569_Ach   female   20   CellRanger_DEV16569_Ach_Jan2023   \n",
       "TGGCGTGTCCATTTCA.DEV16569_Ach   female   20   CellRanger_DEV16569_Ach_Jan2023   \n",
       "...                                ...  ...                               ...   \n",
       "AGCGTCGCACCAGCCA.DEV16127_Quad    male   60  CellRanger_DEV16127_Quad_Jan2023   \n",
       "TATCTTGAGCTGCGAA.DEV16127_Quad    male   60  CellRanger_DEV16127_Quad_Jan2023   \n",
       "GGTGTTATCGTAGGGA.DEV16127_Quad    male   60  CellRanger_DEV16127_Quad_Jan2023   \n",
       "CTCAACCTCATCTATC.DEV16127_Quad    male   60  CellRanger_DEV16127_Quad_Jan2023   \n",
       "AGAAGCGCAGTGGTGA.DEV16127_Quad    male   60  CellRanger_DEV16127_Quad_Jan2023   \n",
       "\n",
       "                                   donor  type libbatch           barcode  \n",
       "CACTAAGTCATCCTAT.DEV16569_Ach   DEV16569   Ach  Jan2023  CACTAAGTCATCCTAT  \n",
       "GCCATTCTCAGGCGAA.DEV16569_Ach   DEV16569   Ach  Jan2023  GCCATTCTCAGGCGAA  \n",
       "CTCAGAAAGAATTGTG.DEV16569_Ach   DEV16569   Ach  Jan2023  CTCAGAAAGAATTGTG  \n",
       "TAACTTCCATTCATCT.DEV16569_Ach   DEV16569   Ach  Jan2023  TAACTTCCATTCATCT  \n",
       "TGGCGTGTCCATTTCA.DEV16569_Ach   DEV16569   Ach  Jan2023  TGGCGTGTCCATTTCA  \n",
       "...                                  ...   ...      ...               ...  \n",
       "AGCGTCGCACCAGCCA.DEV16127_Quad  DEV16127  Quad  Jan2023  AGCGTCGCACCAGCCA  \n",
       "TATCTTGAGCTGCGAA.DEV16127_Quad  DEV16127  Quad  Jan2023  TATCTTGAGCTGCGAA  \n",
       "GGTGTTATCGTAGGGA.DEV16127_Quad  DEV16127  Quad  Jan2023  GGTGTTATCGTAGGGA  \n",
       "CTCAACCTCATCTATC.DEV16127_Quad  DEV16127  Quad  Jan2023  CTCAACCTCATCTATC  \n",
       "AGAAGCGCAGTGGTGA.DEV16127_Quad  DEV16127  Quad  Jan2023  AGAAGCGCAGTGGTGA  \n",
       "\n",
       "[30814 rows x 7 columns]"
      ]
     },
     "execution_count": 46,
     "metadata": {},
     "output_type": "execute_result"
    }
   ],
   "source": [
    "concatenated_adata.obs"
   ]
  },
  {
   "cell_type": "markdown",
   "id": "ca30d583",
   "metadata": {},
   "source": [
    "### Print out the number of cells for each donor."
   ]
  },
  {
   "cell_type": "code",
   "execution_count": 47,
   "id": "318b0326",
   "metadata": {},
   "outputs": [
    {
     "data": {
      "text/plain": [
       "donor\n",
       "DEV16127    13754\n",
       "DEV16569    10887\n",
       "DEV15984     6173\n",
       "Name: count, dtype: int64"
      ]
     },
     "execution_count": 47,
     "metadata": {},
     "output_type": "execute_result"
    }
   ],
   "source": [
    "concatenated_adata.obs['donor'].value_counts()"
   ]
  },
  {
   "cell_type": "code",
   "execution_count": 51,
   "id": "d12b1799",
   "metadata": {},
   "outputs": [
    {
     "data": {
      "text/plain": [
       "type  sex     donor   \n",
       "Quad  male    DEV16127    13754\n",
       "Ach   female  DEV16569    10887\n",
       "      male    DEV15984     6173\n",
       "Name: count, dtype: int64"
      ]
     },
     "execution_count": 51,
     "metadata": {},
     "output_type": "execute_result"
    }
   ],
   "source": [
    "concatenated_adata.obs[['type', 'sex', 'donor']].value_counts()"
   ]
  },
  {
   "cell_type": "markdown",
   "id": "554973e4",
   "metadata": {},
   "source": [
    "### 18) Create a new anndata object called 'subset' by subset the concatenated object to only male donors.\n",
    "_hint: since you are subsetting by an obs variable that works as a dataframe, think about how you would filter rows in a dataframe based on a condition. _"
   ]
  },
  {
   "cell_type": "code",
   "execution_count": null,
   "id": "2c760c7e",
   "metadata": {},
   "outputs": [],
   "source": [
    "# something like this:\n",
    "subset = df[df[column] == value to subset to].copy()"
   ]
  },
  {
   "cell_type": "code",
   "execution_count": 52,
   "id": "8993d0a6",
   "metadata": {},
   "outputs": [
    {
     "data": {
      "text/plain": [
       "AnnData object with n_obs × n_vars = 19927 × 36601\n",
       "    obs: 'sex', 'age', 'sample_name', 'donor', 'type', 'libbatch', 'barcode'"
      ]
     },
     "execution_count": 52,
     "metadata": {},
     "output_type": "execute_result"
    }
   ],
   "source": [
    "subset = concatenated_adata[concatenated_adata.obs['sex'] == 'male'].copy()\n",
    "subset"
   ]
  },
  {
   "cell_type": "code",
   "execution_count": 53,
   "id": "04c97c9e",
   "metadata": {},
   "outputs": [
    {
     "data": {
      "text/html": [
       "<div>\n",
       "<style scoped>\n",
       "    .dataframe tbody tr th:only-of-type {\n",
       "        vertical-align: middle;\n",
       "    }\n",
       "\n",
       "    .dataframe tbody tr th {\n",
       "        vertical-align: top;\n",
       "    }\n",
       "\n",
       "    .dataframe thead th {\n",
       "        text-align: right;\n",
       "    }\n",
       "</style>\n",
       "<table border=\"1\" class=\"dataframe\">\n",
       "  <thead>\n",
       "    <tr style=\"text-align: right;\">\n",
       "      <th></th>\n",
       "      <th>sex</th>\n",
       "      <th>age</th>\n",
       "      <th>sample_name</th>\n",
       "      <th>donor</th>\n",
       "      <th>type</th>\n",
       "      <th>libbatch</th>\n",
       "      <th>barcode</th>\n",
       "    </tr>\n",
       "  </thead>\n",
       "  <tbody>\n",
       "    <tr>\n",
       "      <th>AGGTTACTCTATCGTT.DEV15984_Ach</th>\n",
       "      <td>male</td>\n",
       "      <td>40</td>\n",
       "      <td>CellRanger_DEV15984_Ach_Sep2022</td>\n",
       "      <td>DEV15984</td>\n",
       "      <td>Ach</td>\n",
       "      <td>Sep2022</td>\n",
       "      <td>AGGTTACTCTATCGTT</td>\n",
       "    </tr>\n",
       "    <tr>\n",
       "      <th>TCTGGCTCACGTACAT.DEV15984_Ach</th>\n",
       "      <td>male</td>\n",
       "      <td>40</td>\n",
       "      <td>CellRanger_DEV15984_Ach_Sep2022</td>\n",
       "      <td>DEV15984</td>\n",
       "      <td>Ach</td>\n",
       "      <td>Sep2022</td>\n",
       "      <td>TCTGGCTCACGTACAT</td>\n",
       "    </tr>\n",
       "    <tr>\n",
       "      <th>CCCTCAAGTCATAACC.DEV15984_Ach</th>\n",
       "      <td>male</td>\n",
       "      <td>40</td>\n",
       "      <td>CellRanger_DEV15984_Ach_Sep2022</td>\n",
       "      <td>DEV15984</td>\n",
       "      <td>Ach</td>\n",
       "      <td>Sep2022</td>\n",
       "      <td>CCCTCAAGTCATAACC</td>\n",
       "    </tr>\n",
       "    <tr>\n",
       "      <th>AATGACCCAACCTATG.DEV15984_Ach</th>\n",
       "      <td>male</td>\n",
       "      <td>40</td>\n",
       "      <td>CellRanger_DEV15984_Ach_Sep2022</td>\n",
       "      <td>DEV15984</td>\n",
       "      <td>Ach</td>\n",
       "      <td>Sep2022</td>\n",
       "      <td>AATGACCCAACCTATG</td>\n",
       "    </tr>\n",
       "    <tr>\n",
       "      <th>GGTAATCCACTGGCCA.DEV15984_Ach</th>\n",
       "      <td>male</td>\n",
       "      <td>40</td>\n",
       "      <td>CellRanger_DEV15984_Ach_Sep2022</td>\n",
       "      <td>DEV15984</td>\n",
       "      <td>Ach</td>\n",
       "      <td>Sep2022</td>\n",
       "      <td>GGTAATCCACTGGCCA</td>\n",
       "    </tr>\n",
       "    <tr>\n",
       "      <th>...</th>\n",
       "      <td>...</td>\n",
       "      <td>...</td>\n",
       "      <td>...</td>\n",
       "      <td>...</td>\n",
       "      <td>...</td>\n",
       "      <td>...</td>\n",
       "      <td>...</td>\n",
       "    </tr>\n",
       "    <tr>\n",
       "      <th>AGCGTCGCACCAGCCA.DEV16127_Quad</th>\n",
       "      <td>male</td>\n",
       "      <td>60</td>\n",
       "      <td>CellRanger_DEV16127_Quad_Jan2023</td>\n",
       "      <td>DEV16127</td>\n",
       "      <td>Quad</td>\n",
       "      <td>Jan2023</td>\n",
       "      <td>AGCGTCGCACCAGCCA</td>\n",
       "    </tr>\n",
       "    <tr>\n",
       "      <th>TATCTTGAGCTGCGAA.DEV16127_Quad</th>\n",
       "      <td>male</td>\n",
       "      <td>60</td>\n",
       "      <td>CellRanger_DEV16127_Quad_Jan2023</td>\n",
       "      <td>DEV16127</td>\n",
       "      <td>Quad</td>\n",
       "      <td>Jan2023</td>\n",
       "      <td>TATCTTGAGCTGCGAA</td>\n",
       "    </tr>\n",
       "    <tr>\n",
       "      <th>GGTGTTATCGTAGGGA.DEV16127_Quad</th>\n",
       "      <td>male</td>\n",
       "      <td>60</td>\n",
       "      <td>CellRanger_DEV16127_Quad_Jan2023</td>\n",
       "      <td>DEV16127</td>\n",
       "      <td>Quad</td>\n",
       "      <td>Jan2023</td>\n",
       "      <td>GGTGTTATCGTAGGGA</td>\n",
       "    </tr>\n",
       "    <tr>\n",
       "      <th>CTCAACCTCATCTATC.DEV16127_Quad</th>\n",
       "      <td>male</td>\n",
       "      <td>60</td>\n",
       "      <td>CellRanger_DEV16127_Quad_Jan2023</td>\n",
       "      <td>DEV16127</td>\n",
       "      <td>Quad</td>\n",
       "      <td>Jan2023</td>\n",
       "      <td>CTCAACCTCATCTATC</td>\n",
       "    </tr>\n",
       "    <tr>\n",
       "      <th>AGAAGCGCAGTGGTGA.DEV16127_Quad</th>\n",
       "      <td>male</td>\n",
       "      <td>60</td>\n",
       "      <td>CellRanger_DEV16127_Quad_Jan2023</td>\n",
       "      <td>DEV16127</td>\n",
       "      <td>Quad</td>\n",
       "      <td>Jan2023</td>\n",
       "      <td>AGAAGCGCAGTGGTGA</td>\n",
       "    </tr>\n",
       "  </tbody>\n",
       "</table>\n",
       "<p>19927 rows × 7 columns</p>\n",
       "</div>"
      ],
      "text/plain": [
       "                                 sex  age                       sample_name  \\\n",
       "AGGTTACTCTATCGTT.DEV15984_Ach   male   40   CellRanger_DEV15984_Ach_Sep2022   \n",
       "TCTGGCTCACGTACAT.DEV15984_Ach   male   40   CellRanger_DEV15984_Ach_Sep2022   \n",
       "CCCTCAAGTCATAACC.DEV15984_Ach   male   40   CellRanger_DEV15984_Ach_Sep2022   \n",
       "AATGACCCAACCTATG.DEV15984_Ach   male   40   CellRanger_DEV15984_Ach_Sep2022   \n",
       "GGTAATCCACTGGCCA.DEV15984_Ach   male   40   CellRanger_DEV15984_Ach_Sep2022   \n",
       "...                              ...  ...                               ...   \n",
       "AGCGTCGCACCAGCCA.DEV16127_Quad  male   60  CellRanger_DEV16127_Quad_Jan2023   \n",
       "TATCTTGAGCTGCGAA.DEV16127_Quad  male   60  CellRanger_DEV16127_Quad_Jan2023   \n",
       "GGTGTTATCGTAGGGA.DEV16127_Quad  male   60  CellRanger_DEV16127_Quad_Jan2023   \n",
       "CTCAACCTCATCTATC.DEV16127_Quad  male   60  CellRanger_DEV16127_Quad_Jan2023   \n",
       "AGAAGCGCAGTGGTGA.DEV16127_Quad  male   60  CellRanger_DEV16127_Quad_Jan2023   \n",
       "\n",
       "                                   donor  type libbatch           barcode  \n",
       "AGGTTACTCTATCGTT.DEV15984_Ach   DEV15984   Ach  Sep2022  AGGTTACTCTATCGTT  \n",
       "TCTGGCTCACGTACAT.DEV15984_Ach   DEV15984   Ach  Sep2022  TCTGGCTCACGTACAT  \n",
       "CCCTCAAGTCATAACC.DEV15984_Ach   DEV15984   Ach  Sep2022  CCCTCAAGTCATAACC  \n",
       "AATGACCCAACCTATG.DEV15984_Ach   DEV15984   Ach  Sep2022  AATGACCCAACCTATG  \n",
       "GGTAATCCACTGGCCA.DEV15984_Ach   DEV15984   Ach  Sep2022  GGTAATCCACTGGCCA  \n",
       "...                                  ...   ...      ...               ...  \n",
       "AGCGTCGCACCAGCCA.DEV16127_Quad  DEV16127  Quad  Jan2023  AGCGTCGCACCAGCCA  \n",
       "TATCTTGAGCTGCGAA.DEV16127_Quad  DEV16127  Quad  Jan2023  TATCTTGAGCTGCGAA  \n",
       "GGTGTTATCGTAGGGA.DEV16127_Quad  DEV16127  Quad  Jan2023  GGTGTTATCGTAGGGA  \n",
       "CTCAACCTCATCTATC.DEV16127_Quad  DEV16127  Quad  Jan2023  CTCAACCTCATCTATC  \n",
       "AGAAGCGCAGTGGTGA.DEV16127_Quad  DEV16127  Quad  Jan2023  AGAAGCGCAGTGGTGA  \n",
       "\n",
       "[19927 rows x 7 columns]"
      ]
     },
     "execution_count": 53,
     "metadata": {},
     "output_type": "execute_result"
    }
   ],
   "source": [
    "subset.obs"
   ]
  },
  {
   "cell_type": "markdown",
   "id": "207d3424",
   "metadata": {},
   "source": [
    "###  * Non-10X .h5 files might require a more customised function for loading. Here is an example of one that should be applicable to any type of .h5 file"
   ]
  },
  {
   "cell_type": "code",
   "execution_count": null,
   "id": "193f3d5a",
   "metadata": {},
   "outputs": [],
   "source": [
    "import tables\n",
    "import scipy.sparse as sp\n",
    "import anndata\n",
    "from typing import Dict, Optional\n",
    "\n",
    "\n",
    "def anndata_from_h5(file: str,\n",
    "                    analyzed_barcodes_only: bool = True) -> 'anndata.AnnData':\n",
    "    \"\"\"Load an output h5 file into an AnnData object for downstream work.\n",
    "\n",
    "    Args:\n",
    "        file: The h5 file\n",
    "        analyzed_barcodes_only: False to load all barcodes, so that the size of\n",
    "            the AnnData object will match the size of the input raw count matrix.\n",
    "            True to load a limited set of barcodes: only those analyzed by the\n",
    "            algorithm. This allows relevant latent variables to be loaded\n",
    "            properly into adata.obs and adata.obsm, rather than adata.uns.\n",
    "\n",
    "    Returns:\n",
    "        adata: The anndata object, populated with inferred latent variables\n",
    "            and metadata.\n",
    "\n",
    "    \"\"\"\n",
    "\n",
    "    d = dict_from_h5(file)\n",
    "    X = sp.csc_matrix((d.pop('data'), d.pop('indices'), d.pop('indptr')),\n",
    "                      shape=d.pop('shape')).transpose().tocsr()\n",
    "\n",
    "    # check and see if we have barcode index annotations, and if the file is filtered\n",
    "    barcode_key = [k for k in d.keys() if (('barcode' in k) and ('ind' in k))]\n",
    "    if len(barcode_key) > 0:\n",
    "        max_barcode_ind = d[barcode_key[0]].max()\n",
    "        filtered_file = (max_barcode_ind >= X.shape[0])\n",
    "    else:\n",
    "        filtered_file = True\n",
    "\n",
    "    if analyzed_barcodes_only:\n",
    "        if filtered_file:\n",
    "            # filtered file being read, so we don't need to subset\n",
    "            print('Assuming we are loading a \"filtered\" file that contains only cells.')\n",
    "            pass\n",
    "        elif 'barcode_indices_for_latents' in d.keys():\n",
    "            X = X[d['barcode_indices_for_latents'], :]\n",
    "            d['barcodes'] = d['barcodes'][d['barcode_indices_for_latents']]\n",
    "        elif 'barcodes_analyzed_inds' in d.keys():\n",
    "            X = X[d['barcodes_analyzed_inds'], :]\n",
    "            d['barcodes'] = d['barcodes'][d['barcodes_analyzed_inds']]\n",
    "        else:\n",
    "            print('Warning: analyzed_barcodes_only=True, but the key '\n",
    "                  '\"barcodes_analyzed_inds\" or \"barcode_indices_for_latents\" '\n",
    "                  'is missing from the h5 file. '\n",
    "                  'Will output all barcodes, and proceed as if '\n",
    "                  'analyzed_barcodes_only=False')\n",
    "\n",
    "    # Construct the anndata object.\n",
    "    adata = anndata.AnnData(X=X,\n",
    "                            obs={'barcode': d.pop('barcodes').astype(str)},\n",
    "                            var={'gene_name': (d.pop('gene_names') if 'gene_names' in d.keys()\n",
    "                                               else d.pop('name')).astype(str)},\n",
    "                            dtype=X.dtype)\n",
    "    adata.obs.set_index('barcode', inplace=True)\n",
    "    adata.var.set_index('gene_name', inplace=True)\n",
    "\n",
    "    # For CellRanger v2 legacy format, \"gene_ids\" was called \"genes\"... rename this\n",
    "    if 'genes' in d.keys():\n",
    "        d['id'] = d.pop('genes')\n",
    "\n",
    "    # For purely aesthetic purposes, rename \"id\" to \"gene_id\"\n",
    "    if 'id' in d.keys():\n",
    "        d['gene_id'] = d.pop('id')\n",
    "\n",
    "    # If genomes are empty, try to guess them based on gene_id\n",
    "    if 'genome' in d.keys():\n",
    "        if np.array([s.decode() == '' for s in d['genome']]).all():\n",
    "            if '_' in d['gene_id'][0].decode():\n",
    "                print('Genome field blank, so attempting to guess genomes based on gene_id prefixes')\n",
    "                d['genome'] = np.array([s.decode().split('_')[0] for s in d['gene_id']], dtype=str)\n",
    "\n",
    "    # Add other information to the anndata object in the appropriate slot.\n",
    "    _fill_adata_slots_automatically(adata, d)\n",
    "\n",
    "    # Add a special additional field to .var if it exists.\n",
    "    if 'features_analyzed_inds' in adata.uns.keys():\n",
    "        adata.var['cellbender_analyzed'] = [True if (i in adata.uns['features_analyzed_inds'])\n",
    "                                            else False for i in range(adata.shape[1])]\n",
    "\n",
    "    if analyzed_barcodes_only:\n",
    "        for col in adata.obs.columns[adata.obs.columns.str.startswith('barcodes_analyzed')\n",
    "                                     | adata.obs.columns.str.startswith('barcode_indices')]:\n",
    "            try:\n",
    "                del adata.obs[col]\n",
    "            except Exception:\n",
    "                pass\n",
    "    else:\n",
    "        # Add a special additional field to .obs if all barcodes are included.\n",
    "        if 'barcodes_analyzed_inds' in adata.uns.keys():\n",
    "            adata.obs['cellbender_analyzed'] = [True if (i in adata.uns['barcodes_analyzed_inds'])\n",
    "                                                else False for i in range(adata.shape[0])]\n",
    "\n",
    "    return adata\n",
    "\n",
    "def dict_from_h5(file: str) -> Dict[str, np.ndarray]:\n",
    "    \"\"\"Read in everything from an h5 file and put into a dictionary.\"\"\"\n",
    "    d = {}\n",
    "    with tables.open_file(file) as f:\n",
    "        # read in everything\n",
    "        for array in f.walk_nodes(\"/\", \"Array\"):\n",
    "            d[array.name] = array.read()\n",
    "    return d\n",
    "\n",
    "\n",
    "def _fill_adata_slots_automatically(adata, d):\n",
    "    \"\"\"Add other information to the adata object in the appropriate slot.\"\"\"\n",
    "\n",
    "    for key, value in d.items():\n",
    "        try:\n",
    "            if value is None:\n",
    "                continue\n",
    "            value = np.asarray(value)\n",
    "            if len(value.shape) == 0:\n",
    "                adata.uns[key] = value\n",
    "            elif value.shape[0] == adata.shape[0]:\n",
    "                if (len(value.shape) < 2) or (value.shape[1] < 2):\n",
    "                    adata.obs[key] = value\n",
    "                else:\n",
    "                    adata.obsm[key] = value\n",
    "            elif value.shape[0] == adata.shape[1]:\n",
    "                if value.dtype.name.startswith('bytes'):\n",
    "                    adata.var[key] = value.astype(str)\n",
    "                else:\n",
    "                    adata.var[key] = value\n",
    "            else:\n",
    "                adata.uns[key] = value\n",
    "        except Exception:\n",
    "            print('Unable to load data into AnnData: ', key, value, type(value))"
   ]
  }
 ],
 "metadata": {
  "kernelspec": {
   "display_name": "Python [conda env:scvi-env]",
   "language": "python",
   "name": "conda-env-scvi-env-py"
  },
  "language_info": {
   "codemirror_mode": {
    "name": "ipython",
    "version": 3
   },
   "file_extension": ".py",
   "mimetype": "text/x-python",
   "name": "python",
   "nbconvert_exporter": "python",
   "pygments_lexer": "ipython3",
   "version": "3.9.16"
  }
 },
 "nbformat": 4,
 "nbformat_minor": 5
}
