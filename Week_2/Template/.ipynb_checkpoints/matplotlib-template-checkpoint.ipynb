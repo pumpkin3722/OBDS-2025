{
 "cells": [
  {
   "cell_type": "code",
   "execution_count": null,
   "id": "bc199422-0af4-4ed0-a3fc-56e060940669",
   "metadata": {
    "tags": []
   },
   "outputs": [],
   "source": [
    "import matplotlib.pyplot as plt\n",
    "import numpy as np"
   ]
  },
  {
   "cell_type": "markdown",
   "id": "3fada69d-229d-4697-9021-31c70eb14f3a",
   "metadata": {},
   "source": [
    "# Exercise part 1"
   ]
  },
  {
   "cell_type": "markdown",
   "id": "2a0ac4b1-2c49-4536-a8fc-f42bc2d1d4f6",
   "metadata": {},
   "source": [
    "Create a figure with two subplots."
   ]
  },
  {
   "cell_type": "code",
   "execution_count": null,
   "id": "17728628-4f2c-4300-af6f-8fdfa437ed20",
   "metadata": {
    "tags": []
   },
   "outputs": [],
   "source": []
  },
  {
   "cell_type": "markdown",
   "id": "95c26f13-32c1-40b5-ba68-712b5791d569",
   "metadata": {},
   "source": [
    "Plot the following data on the first subplot as a scatter plot:"
   ]
  },
  {
   "cell_type": "code",
   "execution_count": null,
   "id": "5cd4383d-d818-42fe-b031-ced974c9bbbb",
   "metadata": {
    "tags": []
   },
   "outputs": [],
   "source": [
    "x = [1, 2, 3, 4, 5]\n",
    "y = [1, 4, 9, 16, 25]"
   ]
  },
  {
   "cell_type": "code",
   "execution_count": null,
   "id": "863f6459-0dc4-4da8-8770-84b7f465d29c",
   "metadata": {
    "tags": []
   },
   "outputs": [],
   "source": []
  },
  {
   "cell_type": "markdown",
   "id": "83c26d8d-7216-4d40-82bd-1a435a2340b7",
   "metadata": {},
   "source": [
    "Plot the following data on the second subplot as a bar plot:\n",
    "NOTE: You will need to copy-paste some of the previous code."
   ]
  },
  {
   "cell_type": "code",
   "execution_count": null,
   "id": "0baa299a-104a-42c7-8d61-c4b17d15475c",
   "metadata": {
    "tags": []
   },
   "outputs": [],
   "source": [
    "x_2 = [1, 2, 3, 4, 5]\n",
    "y_2 = [1, 8, 27, 16, 25]"
   ]
  },
  {
   "cell_type": "code",
   "execution_count": null,
   "id": "45636eae-17da-4548-b2ef-396326d8126e",
   "metadata": {
    "tags": []
   },
   "outputs": [],
   "source": []
  },
  {
   "cell_type": "markdown",
   "id": "08974bcd-cfc0-48f9-b6c6-c6fefb7110cb",
   "metadata": {
    "tags": []
   },
   "source": [
    "Set the y-axis limits to 0 and 130.\n",
    "NOTE: You will need to copy-paste some of the previous code."
   ]
  },
  {
   "cell_type": "code",
   "execution_count": null,
   "id": "3d6d0977-c858-47c6-8a1c-b1ddd08aad06",
   "metadata": {
    "tags": []
   },
   "outputs": [],
   "source": []
  },
  {
   "cell_type": "markdown",
   "id": "e7c2dac3-8986-4c6b-8a2e-59571d9951cf",
   "metadata": {},
   "source": [
    "Set the first x-axis label to “x-axis”.\n",
    "NOTE: You will need to copy-paste some of the previous code. Also, use `plt.tight_layout()` at the end of the code cell to adjust the overall layout of the figure."
   ]
  },
  {
   "cell_type": "code",
   "execution_count": null,
   "id": "ee6b2765-6520-4a0c-ab45-8d168036ab3a",
   "metadata": {
    "tags": []
   },
   "outputs": [],
   "source": [
    "\n",
    "\n",
    "plt.tight_layout()"
   ]
  },
  {
   "cell_type": "markdown",
   "id": "20b479e3-3ea0-403b-a0bd-b33a01709570",
   "metadata": {},
   "source": [
    "Set the title of the first subplot to \"First subplot\".\n",
    "NOTE: You will need to copy-paste some of the previous code. Also, use `plt.tight_layout()` at the end of the code cell to adjust the overall layout of the figure."
   ]
  },
  {
   "cell_type": "code",
   "execution_count": null,
   "id": "4d9b4d3f-8c68-4127-98f3-7ebb836d70b9",
   "metadata": {
    "tags": []
   },
   "outputs": [],
   "source": [
    "\n",
    "\n",
    "plt.tight_layout()"
   ]
  },
  {
   "cell_type": "markdown",
   "id": "f3ada3f9-091d-4637-991e-5f948c21dcf2",
   "metadata": {},
   "source": [
    "Change the color of the bars to red and the color of the scatter points to green (`#00FF00`).\n",
    "NOTE: You will need to copy-paste some of the previous code. Also, use `plt.tight_layout()` at the end of the code cell to adjust the overall layout of the figure."
   ]
  },
  {
   "cell_type": "code",
   "execution_count": null,
   "id": "39b94853-5623-4877-a6e7-acbc7aaf7821",
   "metadata": {
    "tags": []
   },
   "outputs": [],
   "source": [
    "\n",
    "\n",
    "plt.tight_layout()"
   ]
  },
  {
   "cell_type": "markdown",
   "id": "fdd0102d-ba27-4bde-959f-915bc7f5f64c",
   "metadata": {},
   "source": [
    "Take the same data, generate a new figure with 1 plot and overlay the scatter and bar plot on the same axes."
   ]
  },
  {
   "cell_type": "code",
   "execution_count": null,
   "id": "7d81f632-f14e-4758-836a-b9247075f5e7",
   "metadata": {
    "tags": []
   },
   "outputs": [],
   "source": []
  },
  {
   "cell_type": "markdown",
   "id": "dc6dc854-e1e3-4cca-98f7-37ade7850d27",
   "metadata": {},
   "source": [
    "# Exercise part 2"
   ]
  },
  {
   "cell_type": "markdown",
   "id": "a8b2a0fd-cb39-4823-83f7-e6423de660f0",
   "metadata": {},
   "source": [
    "Load the data from the file deseq2_results.npy into an array called deseq2_res."
   ]
  },
  {
   "cell_type": "code",
   "execution_count": null,
   "id": "2fa84faa-f2c4-4425-8821-f890d0fc4793",
   "metadata": {
    "tags": []
   },
   "outputs": [],
   "source": [
    "deseq2_res = np.load(\"/project/shared/python/2_python_data_science/data/deseq2_results.npy\",\n",
    "                     allow_pickle=True)\n",
    "deseq2_res"
   ]
  },
  {
   "cell_type": "markdown",
   "id": "bfa09e22-b1ee-44dc-8de5-d35d29d5e68d",
   "metadata": {},
   "source": [
    "Run `deseq2_res = deseq2_res.astype(float)` to convert the array data type to floating point."
   ]
  },
  {
   "cell_type": "code",
   "execution_count": null,
   "id": "2aaef74c-12b1-4cdc-8347-2d2a781b5c0e",
   "metadata": {
    "tags": []
   },
   "outputs": [],
   "source": [
    "deseq2_res = deseq2_res.astype(float)\n",
    "deseq2_res"
   ]
  },
  {
   "cell_type": "markdown",
   "id": "337ac1dd-e588-4129-8deb-4c9ca0b2d5d8",
   "metadata": {},
   "source": [
    "Run `deseq2_res = np.nan_to_num(deseq2_res)` to convert `NaN` values to numeric."
   ]
  },
  {
   "cell_type": "code",
   "execution_count": null,
   "id": "f8fc2292-207f-4fa9-8b61-d7b2a60edc5c",
   "metadata": {},
   "outputs": [],
   "source": [
    "deseq2_res = np.nan_to_num(deseq2_res)"
   ]
  },
  {
   "cell_type": "markdown",
   "id": "05fe1c30-8470-477d-ab35-e50e577eb34a",
   "metadata": {},
   "source": [
    "Generate an MA plot of the data:\n",
    "- X-axis: log2BaseMean\n",
    "- Y-axis: log2FoldChange\n",
    "- Color: `padj < 0.05` = red and `pad >= 0.5` = grey\n",
    "- Add a horizontal line at `y = 0` dashed and grey\n",
    "- Add a title, x-axis label, y-axis label and legend\n",
    "\n",
    "NOTE: Add `plt.tight_layout()` at the end of the code cell to adjust the overall figure layout."
   ]
  },
  {
   "cell_type": "code",
   "execution_count": null,
   "id": "96bf4204-f3fe-4fad-afc2-3a8a4065d0dd",
   "metadata": {
    "tags": []
   },
   "outputs": [],
   "source": [
    "\n",
    "\n",
    "plt.tight_layout()"
   ]
  },
  {
   "cell_type": "code",
   "execution_count": null,
   "id": "f8da2606-1906-4ef1-b4c0-cddf939df963",
   "metadata": {},
   "outputs": [],
   "source": []
  }
 ],
 "metadata": {
  "kernelspec": {
   "display_name": "Python 3 (ipykernel)",
   "language": "python",
   "name": "python3"
  },
  "language_info": {
   "codemirror_mode": {
    "name": "ipython",
    "version": 3
   },
   "file_extension": ".py",
   "mimetype": "text/x-python",
   "name": "python",
   "nbconvert_exporter": "python",
   "pygments_lexer": "ipython3",
   "version": "3.11.3"
  }
 },
 "nbformat": 4,
 "nbformat_minor": 5
}
