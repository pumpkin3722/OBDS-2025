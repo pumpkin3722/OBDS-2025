{
 "cells": [
  {
   "cell_type": "code",
   "execution_count": null,
   "id": "98b3cabc-60aa-491f-a04a-c04365e25f4d",
   "metadata": {
    "tags": []
   },
   "outputs": [],
   "source": [
    "import pandas as pd"
   ]
  },
  {
   "cell_type": "markdown",
   "id": "eeab478e-e9c7-4cda-8d0e-15a6d432991d",
   "metadata": {},
   "source": [
    "# Exercise 1"
   ]
  },
  {
   "cell_type": "markdown",
   "id": "b3aa3a60-1d25-4cd9-8747-f611ce112e4e",
   "metadata": {},
   "source": [
    "Read in data stored in the file \"idxstats.tsv\" and save to variable called `idx_df`."
   ]
  },
  {
   "cell_type": "code",
   "execution_count": null,
   "id": "50d7e891-4b15-4d68-b877-f341e08b08fb",
   "metadata": {
    "tags": []
   },
   "outputs": [],
   "source": []
  },
  {
   "cell_type": "markdown",
   "id": "d5b894e7-12ab-4f26-bd3c-6b841f4ec601",
   "metadata": {},
   "source": [
    "Set the column names to “name”, “length”, “mapped”, and “unmapped”."
   ]
  },
  {
   "cell_type": "code",
   "execution_count": null,
   "id": "e4c95c64-7383-41df-bd32-9ef60c399929",
   "metadata": {
    "tags": []
   },
   "outputs": [],
   "source": []
  },
  {
   "cell_type": "markdown",
   "id": "2c0bef42-2054-44c5-8b46-a901ded62d69",
   "metadata": {},
   "source": [
    "Apply the `.describe()` and `.info()` methods to the `idx_df` object."
   ]
  },
  {
   "cell_type": "code",
   "execution_count": null,
   "id": "f6f2e69e-529b-40fb-8ef5-a5c976ac879c",
   "metadata": {
    "tags": []
   },
   "outputs": [],
   "source": []
  },
  {
   "cell_type": "code",
   "execution_count": null,
   "id": "dfed8bde-c2fe-4a5d-884c-c0c198b57b03",
   "metadata": {
    "tags": []
   },
   "outputs": [],
   "source": []
  },
  {
   "cell_type": "markdown",
   "id": "5157b644-dd1b-4037-9c8c-cbde34903fd9",
   "metadata": {},
   "source": [
    "Look at the shape and index attributes of `idx_df`."
   ]
  },
  {
   "cell_type": "code",
   "execution_count": null,
   "id": "f3b2ffb7-6db1-40c6-8f9f-8f4128cd4e0c",
   "metadata": {
    "tags": []
   },
   "outputs": [],
   "source": []
  },
  {
   "cell_type": "code",
   "execution_count": null,
   "id": "2ae26722-092f-4038-87e3-bea295931ca5",
   "metadata": {
    "tags": []
   },
   "outputs": [],
   "source": []
  },
  {
   "cell_type": "markdown",
   "id": "11e61faa-d5a8-42c3-a2ca-942ddaa4323f",
   "metadata": {},
   "source": [
    "From `idx_df` select rows 6-12 and create a new variable called `idx_df2`."
   ]
  },
  {
   "cell_type": "code",
   "execution_count": null,
   "id": "699df557-493d-41d6-9501-238d7423ac07",
   "metadata": {
    "tags": []
   },
   "outputs": [],
   "source": []
  },
  {
   "cell_type": "markdown",
   "id": "33443e42-286f-4a82-a1a1-64689640dcfb",
   "metadata": {},
   "source": [
    "From `idx_df` make a new dataframe `chr_mapped` consisting of columns 1 and 3 (“name” and ”mapped”). Save to a new file called `\"mapped_reads_per_chr.tsv\"` - Make sure the output is TAB separated."
   ]
  },
  {
   "cell_type": "code",
   "execution_count": null,
   "id": "c67c0ad8-5420-4987-9304-36ab84887d09",
   "metadata": {
    "tags": []
   },
   "outputs": [],
   "source": []
  },
  {
   "cell_type": "markdown",
   "id": "24d6699b-5f98-40fe-aafc-87131d0288bd",
   "metadata": {},
   "source": [
    "# Exercise 2"
   ]
  },
  {
   "cell_type": "markdown",
   "id": "1ea35385-0c04-4157-8b22-5e6cd40d0d00",
   "metadata": {},
   "source": [
    "Create a new column for `idx_df` called reads_per_kb by dividing number of mapped reads by the `length` column and multiplying by 1000."
   ]
  },
  {
   "cell_type": "code",
   "execution_count": null,
   "id": "b60b08ed-ec1d-4a3d-bdbd-7370d8c47bd4",
   "metadata": {
    "tags": []
   },
   "outputs": [],
   "source": []
  },
  {
   "cell_type": "markdown",
   "id": "168b05a5-36c0-440b-a893-638002cc684d",
   "metadata": {},
   "source": [
    "Subset the rows that have `reads_per_kb` values greater than 5"
   ]
  },
  {
   "cell_type": "code",
   "execution_count": null,
   "id": "c3db0a14-9fc2-4407-a276-a30a8d236902",
   "metadata": {
    "tags": []
   },
   "outputs": [],
   "source": []
  },
  {
   "cell_type": "markdown",
   "id": "24b27de6-4bb7-45f8-bf56-b3278ad00913",
   "metadata": {},
   "source": [
    "Create a new column called `length_mbs` with length divided by 1 million (i.e., length in Megabases)."
   ]
  },
  {
   "cell_type": "code",
   "execution_count": null,
   "id": "6710f1ca-6e6b-4235-b30b-9d2e501f1a37",
   "metadata": {
    "tags": []
   },
   "outputs": [],
   "source": []
  },
  {
   "cell_type": "markdown",
   "id": "fa044bd6-ec1e-43ff-8916-4c00a66ba275",
   "metadata": {},
   "source": [
    "Subset the rows that have `reads_per_kb` values greater than 5 and a chromosome length under 100 Mb."
   ]
  },
  {
   "cell_type": "code",
   "execution_count": null,
   "id": "d2efec08-e9e3-48cc-b27d-5a1f69861a58",
   "metadata": {
    "tags": []
   },
   "outputs": [],
   "source": []
  },
  {
   "cell_type": "markdown",
   "id": "9451117a-8214-405e-a54f-87dffcbd6852",
   "metadata": {},
   "source": [
    "Delete the `reads_per_kb` column."
   ]
  },
  {
   "cell_type": "code",
   "execution_count": null,
   "id": "db35acf7-08db-4c0b-8064-09f1406087d1",
   "metadata": {
    "tags": []
   },
   "outputs": [],
   "source": []
  },
  {
   "cell_type": "markdown",
   "id": "d75d93b4-5729-466c-9ec4-913ad0a7ada3",
   "metadata": {},
   "source": [
    "# Exercise 3"
   ]
  },
  {
   "cell_type": "markdown",
   "id": "de0af99c-1ae9-49a8-b975-2cacf50c8d39",
   "metadata": {
    "tags": []
   },
   "source": [
    "Read in GTF File \"Homo_sapiens_GRCh38_107_2.gtf” as a `DataFrame`."
   ]
  },
  {
   "cell_type": "code",
   "execution_count": null,
   "id": "2733e4af-4126-4129-8fe0-95c633a7678b",
   "metadata": {
    "tags": []
   },
   "outputs": [],
   "source": []
  },
  {
   "cell_type": "markdown",
   "id": "c5ed1277-b4bb-4fd9-8c35-258ce18235db",
   "metadata": {},
   "source": [
    "Set the column names to: 'seqname', 'source', 'feature’, 'start', 'end', 'score', 'strand', 'frame’, and 'attribute'."
   ]
  },
  {
   "cell_type": "code",
   "execution_count": null,
   "id": "5f69a4fe-fd41-492a-8f30-aff5abe806a2",
   "metadata": {
    "tags": []
   },
   "outputs": [],
   "source": []
  },
  {
   "cell_type": "markdown",
   "id": "19d2e1d9-f48d-4f4e-8a0b-d513aa0ec49f",
   "metadata": {
    "tags": []
   },
   "source": [
    "How many unique values are there for the \"source\" column?"
   ]
  },
  {
   "cell_type": "code",
   "execution_count": null,
   "id": "5227afa4-9bb9-4a04-b256-724d8300bbbe",
   "metadata": {
    "tags": []
   },
   "outputs": [],
   "source": []
  },
  {
   "cell_type": "markdown",
   "id": "828bac8e-f1cc-4639-8ee6-cb126119e123",
   "metadata": {},
   "source": [
    "Subset all rows with the “ensembl_havana” source and assign to new DataFrame called `ens_df`."
   ]
  },
  {
   "cell_type": "code",
   "execution_count": null,
   "id": "b599cd77-e151-42a3-9612-a1d799a31020",
   "metadata": {
    "tags": []
   },
   "outputs": [],
   "source": []
  },
  {
   "cell_type": "markdown",
   "id": "9b30adf7-3c0a-4025-adc0-f29660339e29",
   "metadata": {},
   "source": [
    "What is the shape of `ens_df`?"
   ]
  },
  {
   "cell_type": "code",
   "execution_count": null,
   "id": "9a2ca8b2-b231-4eac-b3ee-7de7f3ac8858",
   "metadata": {
    "tags": []
   },
   "outputs": [],
   "source": []
  },
  {
   "cell_type": "markdown",
   "id": "71f6dfbd-9350-4d11-a3cb-6500db112658",
   "metadata": {},
   "source": [
    "Group `ens_df` by feature column and apply the `value_counts` method to get the number of rows in each feature."
   ]
  },
  {
   "cell_type": "code",
   "execution_count": null,
   "id": "defd5520-dfc3-450d-8e72-107464a1abf4",
   "metadata": {
    "tags": []
   },
   "outputs": [],
   "source": []
  },
  {
   "cell_type": "markdown",
   "id": "53355ecf-974e-457c-a060-180405d556ec",
   "metadata": {
    "tags": []
   },
   "source": [
    "# Exercise 4"
   ]
  },
  {
   "cell_type": "markdown",
   "id": "52d16dd4-df24-4923-873c-1d8850e3f62f",
   "metadata": {},
   "source": [
    "Create a new DataFrame called `genes` by subsetting all rows with “gene” feature type in `ens_df`."
   ]
  },
  {
   "cell_type": "code",
   "execution_count": null,
   "id": "9f042135-0567-493e-915d-7c15f97f6612",
   "metadata": {
    "tags": []
   },
   "outputs": [],
   "source": []
  },
  {
   "cell_type": "markdown",
   "id": "ef5a0aa4-35ce-4a60-ad06-d269148e17a7",
   "metadata": {},
   "source": [
    "Create a new column called “gene_length” that contains the length of each gene in dataframe genes."
   ]
  },
  {
   "cell_type": "code",
   "execution_count": null,
   "id": "0a15d22f-2500-4fce-8206-c757c8bde6e7",
   "metadata": {
    "tags": []
   },
   "outputs": [],
   "source": []
  },
  {
   "cell_type": "markdown",
   "id": "156894f8-e87b-4690-8de3-d0b3dcd82513",
   "metadata": {},
   "source": [
    "Print the mean and median of the gene lengths."
   ]
  },
  {
   "cell_type": "code",
   "execution_count": null,
   "id": "f3f3b383-3618-4e7b-b01f-56e6e5702c25",
   "metadata": {
    "tags": []
   },
   "outputs": [],
   "source": []
  },
  {
   "cell_type": "markdown",
   "id": "c1c311d3-7a5c-4f98-b758-221c55514ebb",
   "metadata": {},
   "source": [
    "Find the top 10 longest genes and print their gene identifier."
   ]
  },
  {
   "cell_type": "code",
   "execution_count": null,
   "id": "82ca9832-2846-4a48-8607-3c134cfc2b25",
   "metadata": {
    "tags": []
   },
   "outputs": [],
   "source": []
  },
  {
   "cell_type": "markdown",
   "id": "8676700d-4fdf-4633-abde-c39a527701ca",
   "metadata": {},
   "source": [
    "Find the lowest 20 shortest genes and print their gene identifier."
   ]
  },
  {
   "cell_type": "code",
   "execution_count": null,
   "id": "85cffbfd-7c9e-47bf-9746-228348579da7",
   "metadata": {
    "tags": []
   },
   "outputs": [],
   "source": []
  },
  {
   "cell_type": "markdown",
   "id": "fe7eeed1-71d5-43ca-8edb-01048012ad80",
   "metadata": {
    "tags": []
   },
   "source": [
    "Split the “attribute” column of the dataframe `genes` using `;` as delimiter, store the result in a new dataframe called `attributes`, then concatenante `genes` and `attributes`"
   ]
  },
  {
   "cell_type": "code",
   "execution_count": null,
   "id": "49bca6d8-84f4-4a93-9a20-c9025c37a078",
   "metadata": {
    "tags": []
   },
   "outputs": [],
   "source": []
  },
  {
   "cell_type": "markdown",
   "id": "0ef23030-d210-4f64-bd97-df7420c0d6fa",
   "metadata": {
    "tags": []
   },
   "source": [
    "Using `genes`, count the number of genes per chromosome and add the number of genes per chomosome into the `idx_df` from part 1 using the `merge` method. NOTE: use `astype()` and `pd.StringDtype()` to convert chromosome names to `string` type."
   ]
  },
  {
   "cell_type": "code",
   "execution_count": null,
   "id": "ba02fdd5-b295-4e24-b5af-ab8f19a68675",
   "metadata": {
    "tags": []
   },
   "outputs": [],
   "source": [
    "# Convert chromosome names to string type in both data sets\n",
    "idx_df = idx_df.astype({'name': pd.StringDtype()})\n",
    "genes = genes.astype({'seqname': pd.StringDtype()})\n",
    "# Count the number of genes per chromosome\n",
    "\n",
    "# Add that information to idx_df\n"
   ]
  },
  {
   "cell_type": "code",
   "execution_count": null,
   "id": "0cf00ff3-5048-4290-8136-e88581f8f6c8",
   "metadata": {},
   "outputs": [],
   "source": []
  }
 ],
 "metadata": {
  "kernelspec": {
   "display_name": "Python 3 (ipykernel)",
   "language": "python",
   "name": "python3"
  },
  "language_info": {
   "codemirror_mode": {
    "name": "ipython",
    "version": 3
   },
   "file_extension": ".py",
   "mimetype": "text/x-python",
   "name": "python",
   "nbconvert_exporter": "python",
   "pygments_lexer": "ipython3",
   "version": "3.11.3"
  }
 },
 "nbformat": 4,
 "nbformat_minor": 5
}
