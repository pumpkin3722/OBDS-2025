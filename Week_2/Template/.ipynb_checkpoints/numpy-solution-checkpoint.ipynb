{
 "cells": [
  {
   "cell_type": "markdown",
   "id": "f23dc30d-e605-448d-8600-bd0967d2162b",
   "metadata": {
    "tags": []
   },
   "source": [
    "# Exercise - part 1"
   ]
  },
  {
   "cell_type": "code",
   "execution_count": 1,
   "id": "1f416d69-6c75-4614-8f27-161e6802ac0a",
   "metadata": {
    "tags": []
   },
   "outputs": [],
   "source": [
    "import numpy as np"
   ]
  },
  {
   "cell_type": "markdown",
   "id": "0a38d676-5273-4967-a3d3-294b66cdc29b",
   "metadata": {},
   "source": [
    "Create a 20x3 array of random numbers between 0 and 1 – call it `arr`."
   ]
  },
  {
   "cell_type": "code",
   "execution_count": 2,
   "id": "93630626-ca23-4a1e-a6e1-69e901cdc029",
   "metadata": {
    "tags": []
   },
   "outputs": [
    {
     "data": {
      "text/plain": [
       "array([[0.50722447, 0.60666646, 0.17956881],\n",
       "       [0.31453598, 0.56046594, 0.83053841],\n",
       "       [0.64585019, 0.7163084 , 0.71682263],\n",
       "       [0.53305913, 0.66626973, 0.41455559],\n",
       "       [0.57771267, 0.13175305, 0.90134738],\n",
       "       [0.56708982, 0.87316945, 0.40105568],\n",
       "       [0.63578909, 0.6247049 , 0.66123157],\n",
       "       [0.60744933, 0.8374417 , 0.34486628],\n",
       "       [0.22382784, 0.05016604, 0.05607545],\n",
       "       [0.98621282, 0.65553241, 0.91289732],\n",
       "       [0.36113844, 0.26446002, 0.00177387],\n",
       "       [0.1341573 , 0.35858647, 0.69525899],\n",
       "       [0.8990395 , 0.35239318, 0.80991597],\n",
       "       [0.82647468, 0.63285022, 0.44529205],\n",
       "       [0.22022308, 0.48694459, 0.72545599],\n",
       "       [0.84069581, 0.32878299, 0.926201  ],\n",
       "       [0.95891717, 0.81169426, 0.13067811],\n",
       "       [0.31871064, 0.85579916, 0.66566366],\n",
       "       [0.02022646, 0.48632363, 0.57349555],\n",
       "       [0.8685568 , 0.02285022, 0.19761117]])"
      ]
     },
     "execution_count": 2,
     "metadata": {},
     "output_type": "execute_result"
    }
   ],
   "source": [
    "arr = np.random.rand(20, 3)\n",
    "arr"
   ]
  },
  {
   "cell_type": "markdown",
   "id": "0543c393-8edb-4ed4-b2af-f3eb152b6248",
   "metadata": {},
   "source": [
    "Select all rows and the first two columns."
   ]
  },
  {
   "cell_type": "code",
   "execution_count": 3,
   "id": "4f1505f1-aee5-4ff7-822d-e6901366af8b",
   "metadata": {
    "tags": []
   },
   "outputs": [
    {
     "data": {
      "text/plain": [
       "array([[0.50722447, 0.60666646],\n",
       "       [0.31453598, 0.56046594],\n",
       "       [0.64585019, 0.7163084 ],\n",
       "       [0.53305913, 0.66626973],\n",
       "       [0.57771267, 0.13175305],\n",
       "       [0.56708982, 0.87316945],\n",
       "       [0.63578909, 0.6247049 ],\n",
       "       [0.60744933, 0.8374417 ],\n",
       "       [0.22382784, 0.05016604],\n",
       "       [0.98621282, 0.65553241],\n",
       "       [0.36113844, 0.26446002],\n",
       "       [0.1341573 , 0.35858647],\n",
       "       [0.8990395 , 0.35239318],\n",
       "       [0.82647468, 0.63285022],\n",
       "       [0.22022308, 0.48694459],\n",
       "       [0.84069581, 0.32878299],\n",
       "       [0.95891717, 0.81169426],\n",
       "       [0.31871064, 0.85579916],\n",
       "       [0.02022646, 0.48632363],\n",
       "       [0.8685568 , 0.02285022]])"
      ]
     },
     "execution_count": 3,
     "metadata": {},
     "output_type": "execute_result"
    }
   ],
   "source": [
    "arr[:, :2]"
   ]
  },
  {
   "cell_type": "markdown",
   "id": "00a7ba44-1919-44f1-bd7f-51d286dba994",
   "metadata": {},
   "source": [
    "Select the first two rows and the last two columns."
   ]
  },
  {
   "cell_type": "code",
   "execution_count": 4,
   "id": "79e732e8-b7bf-4b3f-b05a-263f756c8ee2",
   "metadata": {
    "tags": []
   },
   "outputs": [
    {
     "data": {
      "text/plain": [
       "array([[0.60666646, 0.17956881],\n",
       "       [0.56046594, 0.83053841]])"
      ]
     },
     "execution_count": 4,
     "metadata": {},
     "output_type": "execute_result"
    }
   ],
   "source": [
    "arr[:2, arr.shape[1]-2:]"
   ]
  },
  {
   "cell_type": "markdown",
   "id": "f62bf670-0239-4b5f-81c7-14cc5b91ba65",
   "metadata": {},
   "source": [
    "Create a 2D array from `[[1, 2, 3], [4, 5, 6], [7, 8, 9]]` - call it `arr2`."
   ]
  },
  {
   "cell_type": "code",
   "execution_count": 5,
   "id": "db462088-17b8-4bb0-ad39-0857444fe1db",
   "metadata": {
    "tags": []
   },
   "outputs": [
    {
     "data": {
      "text/plain": [
       "array([[1, 2, 3],\n",
       "       [4, 5, 6],\n",
       "       [7, 8, 9]])"
      ]
     },
     "execution_count": 5,
     "metadata": {},
     "output_type": "execute_result"
    }
   ],
   "source": [
    "arr2 = np.array([[1, 2, 3], [4, 5, 6], [7, 8, 9]])\n",
    "arr2"
   ]
  },
  {
   "cell_type": "markdown",
   "id": "05da7057-f62d-4cec-8e4c-f6981550139f",
   "metadata": {},
   "source": [
    "Determine the dimensions of `arr2`."
   ]
  },
  {
   "cell_type": "code",
   "execution_count": 6,
   "id": "a6b8b1d8-b9e2-4a12-9150-966eb26f4fa4",
   "metadata": {
    "tags": []
   },
   "outputs": [
    {
     "data": {
      "text/plain": [
       "(3, 3)"
      ]
     },
     "execution_count": 6,
     "metadata": {},
     "output_type": "execute_result"
    }
   ],
   "source": [
    "arr2.shape"
   ]
  },
  {
   "cell_type": "markdown",
   "id": "6ae23b03-ff76-4631-9dca-76ad781108ff",
   "metadata": {},
   "source": [
    "Take the last column of `arr2` and store it in a variable called `col`."
   ]
  },
  {
   "cell_type": "code",
   "execution_count": 7,
   "id": "298743ed-943f-4551-8206-f1e943c3861d",
   "metadata": {
    "tags": []
   },
   "outputs": [
    {
     "data": {
      "text/plain": [
       "array([3, 6, 9])"
      ]
     },
     "execution_count": 7,
     "metadata": {},
     "output_type": "execute_result"
    }
   ],
   "source": [
    "col = arr2[:, arr2.shape[1]-1]\n",
    "col"
   ]
  },
  {
   "cell_type": "markdown",
   "id": "cd8a8ff1-3a54-41b4-956c-cc73f0ef23a9",
   "metadata": {
    "tags": []
   },
   "source": [
    "Identify the elements of `col` that are greater than 5."
   ]
  },
  {
   "cell_type": "code",
   "execution_count": 8,
   "id": "a0bd55f5-a3d8-4500-8114-864895931068",
   "metadata": {},
   "outputs": [
    {
     "data": {
      "text/plain": [
       "array([6, 9])"
      ]
     },
     "execution_count": 8,
     "metadata": {},
     "output_type": "execute_result"
    }
   ],
   "source": [
    "col[col > 5]"
   ]
  },
  {
   "cell_type": "markdown",
   "id": "58ef9816-7481-45f1-81ee-82824911c7a8",
   "metadata": {},
   "source": [
    "# Exercise - part 2"
   ]
  },
  {
   "cell_type": "markdown",
   "id": "2ce683cb-22c1-41c6-9894-5b39acd7c490",
   "metadata": {
    "tags": []
   },
   "source": [
    "Load the `counts.npy` file into a numpy array called `counts`. This file contains gene counts for 5 samples across all genes in the genome."
   ]
  },
  {
   "cell_type": "code",
   "execution_count": 9,
   "id": "a97fe318-1edf-41a6-8083-ded19952cecc",
   "metadata": {
    "tags": []
   },
   "outputs": [
    {
     "data": {
      "text/plain": [
       "array([[  6,  86,   0, ...,   0,   0,   0],\n",
       "       [  8, 105,   0, ...,   0,   0,   0],\n",
       "       [  8,  93,   0, ...,   0,   0,   0],\n",
       "       [  8, 102,   0, ...,   0,   0,   0],\n",
       "       [  6, 135,   0, ...,   0,   0,   0]])"
      ]
     },
     "execution_count": 9,
     "metadata": {},
     "output_type": "execute_result"
    }
   ],
   "source": [
    "counts = np.load(\"/project/shared/python/2_python_data_science/data/counts.npy\")\n",
    "counts"
   ]
  },
  {
   "cell_type": "markdown",
   "id": "841f482c-3095-4d3a-8bf4-6cfe15649eed",
   "metadata": {},
   "source": [
    "Ensure the counts are in the correct format (rows = genes, columns = samples)."
   ]
  },
  {
   "cell_type": "code",
   "execution_count": 10,
   "id": "d672eabc-2d5a-4e20-bd17-a777c57aaab9",
   "metadata": {
    "tags": []
   },
   "outputs": [
    {
     "data": {
      "text/plain": [
       "array([[  6,   8,   8,   8,   6],\n",
       "       [ 86, 105,  93, 102, 135],\n",
       "       [  0,   0,   0,   0,   0],\n",
       "       ...,\n",
       "       [  0,   0,   0,   0,   0],\n",
       "       [  0,   0,   0,   0,   0],\n",
       "       [  0,   0,   0,   0,   0]])"
      ]
     },
     "execution_count": 10,
     "metadata": {},
     "output_type": "execute_result"
    }
   ],
   "source": [
    "counts = counts.transpose()\n",
    "counts"
   ]
  },
  {
   "cell_type": "markdown",
   "id": "089ca1b1-1bc4-4d92-b622-6264e11a3785",
   "metadata": {
    "tags": []
   },
   "source": [
    "Remove all genes with a count of less than 10 across all samples call this `counts_filtered`."
   ]
  },
  {
   "cell_type": "code",
   "execution_count": 11,
   "id": "f17363d8-e90d-4765-8c4b-549bd08eff9c",
   "metadata": {
    "tags": []
   },
   "outputs": [
    {
     "data": {
      "text/plain": [
       "array([[   6,    8,    8,    8,    6],\n",
       "       [  86,  105,   93,  102,  135],\n",
       "       [  72,   73,   69,   26,   62],\n",
       "       ...,\n",
       "       [   1,    1,    8,    2,    1],\n",
       "       [   3,    4,    1,    1,    1],\n",
       "       [ 953, 1126,   27,   46,   21]])"
      ]
     },
     "execution_count": 11,
     "metadata": {},
     "output_type": "execute_result"
    }
   ],
   "source": [
    "counts_filtered = counts[counts.sum(axis = 1) >= 10, :]\n",
    "counts_filtered"
   ]
  },
  {
   "cell_type": "markdown",
   "id": "829ac0bb-a55a-4295-8447-54aade29fbc2",
   "metadata": {},
   "source": [
    "CPM (Counts Per Million) normalise the data (divide each value by the total count for that sample and multiply by 1 million). Call this `counts_cpm`."
   ]
  },
  {
   "cell_type": "code",
   "execution_count": 12,
   "id": "f33648ff-000e-4e33-a632-3f9aaf81af47",
   "metadata": {
    "tags": []
   },
   "outputs": [
    {
     "data": {
      "text/plain": [
       "array([[9.44093460e-07, 1.09949797e-06, 1.12746785e-06, 8.88032530e-07,\n",
       "        8.03803599e-07],\n",
       "       [1.35320063e-05, 1.44309108e-05, 1.31068138e-05, 1.13224148e-05,\n",
       "        1.80855810e-05],\n",
       "       [1.13291215e-05, 1.00329190e-05, 9.72441021e-06, 2.88610572e-06,\n",
       "        8.30597052e-06],\n",
       "       ...,\n",
       "       [1.57348910e-07, 1.37437246e-07, 1.12746785e-06, 2.22008132e-07,\n",
       "        1.33967266e-07],\n",
       "       [4.72046730e-07, 5.49748985e-07, 1.40933481e-07, 1.11004066e-07,\n",
       "        1.33967266e-07],\n",
       "       [1.49953511e-04, 1.54754339e-04, 3.80520400e-06, 5.10618704e-06,\n",
       "        2.81331260e-06]])"
      ]
     },
     "execution_count": 12,
     "metadata": {},
     "output_type": "execute_result"
    }
   ],
   "source": [
    "counts_cpm = counts_filtered / counts_filtered.sum(axis = 0)\n",
    "counts_cpm"
   ]
  },
  {
   "cell_type": "markdown",
   "id": "00ccfa6f-a9c0-465e-bd54-02e0aa36eb79",
   "metadata": {},
   "source": [
    "Add a pseudo count of 1 to each value in `counts_cpm` and take the log2 of the values. Call this `counts_log2`.\n"
   ]
  },
  {
   "cell_type": "code",
   "execution_count": 13,
   "id": "b224938c-75b7-4343-91c1-d60c19df7675",
   "metadata": {},
   "outputs": [
    {
     "data": {
      "text/plain": [
       "array([[1.36203831e-06, 1.58623940e-06, 1.62659136e-06, 1.28115956e-06,\n",
       "        1.15964300e-06],\n",
       "       [1.95224262e-05, 2.08192533e-05, 1.89090113e-05, 1.63346991e-05,\n",
       "        2.60917420e-05],\n",
       "       [1.63443749e-05, 1.44743698e-05, 1.40292902e-05, 4.16376440e-06,\n",
       "        1.19829327e-05],\n",
       "       ...,\n",
       "       [2.27006474e-07, 1.98280020e-07, 1.62659136e-06, 3.20289996e-07,\n",
       "        1.93273898e-07],\n",
       "       [6.81019316e-07, 7.93119916e-07, 2.03324020e-07, 1.60145007e-07,\n",
       "        1.93273898e-07],\n",
       "       [2.16320968e-04, 2.23246044e-04, 5.48973849e-06, 7.36665192e-06,\n",
       "        4.05874642e-06]])"
      ]
     },
     "execution_count": 13,
     "metadata": {},
     "output_type": "execute_result"
    }
   ],
   "source": [
    "counts_log2 = np.log2(counts_cpm + 1)\n",
    "counts_log2"
   ]
  },
  {
   "cell_type": "code",
   "execution_count": null,
   "id": "7ec3ff60-75fa-47a8-9654-43a32e26fae4",
   "metadata": {},
   "outputs": [],
   "source": []
  }
 ],
 "metadata": {
  "kernelspec": {
   "display_name": "Python 3 (ipykernel)",
   "language": "python",
   "name": "python3"
  },
  "language_info": {
   "codemirror_mode": {
    "name": "ipython",
    "version": 3
   },
   "file_extension": ".py",
   "mimetype": "text/x-python",
   "name": "python",
   "nbconvert_exporter": "python",
   "pygments_lexer": "ipython3",
   "version": "3.11.3"
  }
 },
 "nbformat": 4,
 "nbformat_minor": 5
}
