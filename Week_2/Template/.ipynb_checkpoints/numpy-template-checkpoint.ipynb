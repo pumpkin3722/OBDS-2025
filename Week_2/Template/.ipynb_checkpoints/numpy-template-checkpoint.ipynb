{
 "cells": [
  {
   "cell_type": "markdown",
   "id": "f23dc30d-e605-448d-8600-bd0967d2162b",
   "metadata": {
    "tags": []
   },
   "source": [
    "# Exercise - part 1"
   ]
  },
  {
   "cell_type": "code",
   "execution_count": 1,
   "id": "1f416d69-6c75-4614-8f27-161e6802ac0a",
   "metadata": {
    "tags": []
   },
   "outputs": [],
   "source": [
    "import numpy as np"
   ]
  },
  {
   "cell_type": "markdown",
   "id": "0a38d676-5273-4967-a3d3-294b66cdc29b",
   "metadata": {},
   "source": [
    "Create a 20x3 array of random numbers between 0 and 1 – call it `arr`."
   ]
  },
  {
   "cell_type": "code",
   "execution_count": null,
   "id": "93630626-ca23-4a1e-a6e1-69e901cdc029",
   "metadata": {
    "tags": []
   },
   "outputs": [],
   "source": []
  },
  {
   "cell_type": "markdown",
   "id": "0543c393-8edb-4ed4-b2af-f3eb152b6248",
   "metadata": {},
   "source": [
    "Select all rows and the first two columns."
   ]
  },
  {
   "cell_type": "code",
   "execution_count": null,
   "id": "4f1505f1-aee5-4ff7-822d-e6901366af8b",
   "metadata": {
    "tags": []
   },
   "outputs": [],
   "source": []
  },
  {
   "cell_type": "markdown",
   "id": "00a7ba44-1919-44f1-bd7f-51d286dba994",
   "metadata": {},
   "source": [
    "Select the first two rows and the last two columns."
   ]
  },
  {
   "cell_type": "code",
   "execution_count": null,
   "id": "79e732e8-b7bf-4b3f-b05a-263f756c8ee2",
   "metadata": {
    "tags": []
   },
   "outputs": [],
   "source": []
  },
  {
   "cell_type": "markdown",
   "id": "f62bf670-0239-4b5f-81c7-14cc5b91ba65",
   "metadata": {},
   "source": [
    "Create a 2D array from `[[1, 2, 3], [4, 5, 6], [7, 8, 9]]` - call it `arr2`."
   ]
  },
  {
   "cell_type": "code",
   "execution_count": null,
   "id": "db462088-17b8-4bb0-ad39-0857444fe1db",
   "metadata": {
    "tags": []
   },
   "outputs": [],
   "source": []
  },
  {
   "cell_type": "markdown",
   "id": "05da7057-f62d-4cec-8e4c-f6981550139f",
   "metadata": {},
   "source": [
    "Determine the dimensions of `arr2`."
   ]
  },
  {
   "cell_type": "code",
   "execution_count": null,
   "id": "a6b8b1d8-b9e2-4a12-9150-966eb26f4fa4",
   "metadata": {
    "tags": []
   },
   "outputs": [],
   "source": []
  },
  {
   "cell_type": "markdown",
   "id": "6ae23b03-ff76-4631-9dca-76ad781108ff",
   "metadata": {},
   "source": [
    "Take the last column of `arr2` and store it in a variable called `col`."
   ]
  },
  {
   "cell_type": "code",
   "execution_count": null,
   "id": "298743ed-943f-4551-8206-f1e943c3861d",
   "metadata": {
    "tags": []
   },
   "outputs": [],
   "source": []
  },
  {
   "cell_type": "markdown",
   "id": "cd8a8ff1-3a54-41b4-956c-cc73f0ef23a9",
   "metadata": {
    "tags": []
   },
   "source": [
    "Identify the elements of `col` that are greater than 5."
   ]
  },
  {
   "cell_type": "code",
   "execution_count": null,
   "id": "a0bd55f5-a3d8-4500-8114-864895931068",
   "metadata": {},
   "outputs": [],
   "source": []
  },
  {
   "cell_type": "markdown",
   "id": "58ef9816-7481-45f1-81ee-82824911c7a8",
   "metadata": {},
   "source": [
    "# Exercise - part 2"
   ]
  },
  {
   "cell_type": "markdown",
   "id": "2ce683cb-22c1-41c6-9894-5b39acd7c490",
   "metadata": {
    "tags": []
   },
   "source": [
    "Load the `counts.npy` file into a numpy array called `counts`. This file contains gene counts for 5 samples across all genes in the genome."
   ]
  },
  {
   "cell_type": "code",
   "execution_count": null,
   "id": "a97fe318-1edf-41a6-8083-ded19952cecc",
   "metadata": {
    "tags": []
   },
   "outputs": [],
   "source": []
  },
  {
   "cell_type": "markdown",
   "id": "841f482c-3095-4d3a-8bf4-6cfe15649eed",
   "metadata": {},
   "source": [
    "Ensure the counts are in the correct format (rows = genes, columns = samples)."
   ]
  },
  {
   "cell_type": "code",
   "execution_count": null,
   "id": "d672eabc-2d5a-4e20-bd17-a777c57aaab9",
   "metadata": {
    "tags": []
   },
   "outputs": [],
   "source": []
  },
  {
   "cell_type": "markdown",
   "id": "089ca1b1-1bc4-4d92-b622-6264e11a3785",
   "metadata": {
    "tags": []
   },
   "source": [
    "Remove all genes with a count of less than 10 across all samples call this `counts_filtered`."
   ]
  },
  {
   "cell_type": "code",
   "execution_count": null,
   "id": "f17363d8-e90d-4765-8c4b-549bd08eff9c",
   "metadata": {
    "tags": []
   },
   "outputs": [],
   "source": []
  },
  {
   "cell_type": "markdown",
   "id": "829ac0bb-a55a-4295-8447-54aade29fbc2",
   "metadata": {},
   "source": [
    "CPM (Counts Per Million) normalise the data (divide each value by the total count for that sample and multiply by 1 million). Call this `counts_cpm`."
   ]
  },
  {
   "cell_type": "code",
   "execution_count": null,
   "id": "f33648ff-000e-4e33-a632-3f9aaf81af47",
   "metadata": {
    "tags": []
   },
   "outputs": [],
   "source": []
  },
  {
   "cell_type": "markdown",
   "id": "00ccfa6f-a9c0-465e-bd54-02e0aa36eb79",
   "metadata": {},
   "source": [
    "Add a pseudo count of 1 to each value in `counts_cpm` and take the log2 of the resulting values. Call this `counts_log2`.\n"
   ]
  },
  {
   "cell_type": "code",
   "execution_count": null,
   "id": "b224938c-75b7-4343-91c1-d60c19df7675",
   "metadata": {},
   "outputs": [],
   "source": []
  },
  {
   "cell_type": "code",
   "execution_count": null,
   "id": "7ec3ff60-75fa-47a8-9654-43a32e26fae4",
   "metadata": {},
   "outputs": [],
   "source": []
  }
 ],
 "metadata": {
  "kernelspec": {
   "display_name": "Python 3 (ipykernel)",
   "language": "python",
   "name": "python3"
  },
  "language_info": {
   "codemirror_mode": {
    "name": "ipython",
    "version": 3
   },
   "file_extension": ".py",
   "mimetype": "text/x-python",
   "name": "python",
   "nbconvert_exporter": "python",
   "pygments_lexer": "ipython3",
   "version": "3.11.3"
  }
 },
 "nbformat": 4,
 "nbformat_minor": 5
}
