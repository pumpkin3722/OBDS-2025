{
 "cells": [
  {
   "cell_type": "code",
   "execution_count": 1,
   "id": "5ced60a1",
   "metadata": {},
   "outputs": [],
   "source": [
    "dna_sequence = \"GaTC\""
   ]
  },
  {
   "cell_type": "code",
   "execution_count": 2,
   "id": "1ca35aa0",
   "metadata": {},
   "outputs": [
    {
     "name": "stdout",
     "output_type": "stream",
     "text": [
      "The type of the variable is <class 'str'>\n"
     ]
    }
   ],
   "source": [
    "print(\"The type of the variable is\", type(dna_sequence))"
   ]
  },
  {
   "cell_type": "code",
   "execution_count": 3,
   "id": "a8bb0ae6",
   "metadata": {},
   "outputs": [
    {
     "name": "stdout",
     "output_type": "stream",
     "text": [
      "Original sequence: GaTC\n",
      "Uppercase sequence: GATC\n"
     ]
    }
   ],
   "source": [
    "print(\"Original sequence:\", dna_sequence)\n",
    "print(\"Uppercase sequence:\", dna_sequence.upper())"
   ]
  },
  {
   "cell_type": "code",
   "execution_count": 4,
   "id": "c4f2c74f",
   "metadata": {},
   "outputs": [],
   "source": [
    "class DNASequence:\n",
    "  \n",
    "  def __init__(self, sequence):\n",
    "    self.sequence = sequence\n",
    "    \n",
    "  def upper(self):\n",
    "    return self.sequence.upper()"
   ]
  },
  {
   "cell_type": "code",
   "execution_count": 5,
   "id": "076ec49c",
   "metadata": {},
   "outputs": [
    {
     "name": "stdout",
     "output_type": "stream",
     "text": [
      "<__main__.DNASequence object at 0x7f570051ea90>\n"
     ]
    }
   ],
   "source": [
    "dna_sequence = DNASequence(\"gatc\")\n",
    "print(dna_sequence)"
   ]
  },
  {
   "cell_type": "code",
   "execution_count": 6,
   "id": "ac25caa5",
   "metadata": {},
   "outputs": [
    {
     "data": {
      "text/plain": [
       "'GATC'"
      ]
     },
     "execution_count": 6,
     "metadata": {},
     "output_type": "execute_result"
    }
   ],
   "source": [
    "dna_sequence.upper()"
   ]
  },
  {
   "cell_type": "code",
   "execution_count": 7,
   "id": "22cc57cd",
   "metadata": {},
   "outputs": [
    {
     "data": {
      "text/plain": [
       "'gatc'"
      ]
     },
     "execution_count": 7,
     "metadata": {},
     "output_type": "execute_result"
    }
   ],
   "source": [
    "dna_sequence.sequence"
   ]
  },
  {
   "cell_type": "code",
   "execution_count": 8,
   "id": "fd03ed85",
   "metadata": {},
   "outputs": [],
   "source": [
    "class Person:\n",
    "\n",
    "  def __init__(self, name):\n",
    "    self.name = name\n",
    "\n",
    "  def __think(self, thought):\n",
    "    return self.name+\" thinks: \" + thought\n",
    "\n",
    "  def say_hi(self):\n",
    "    print(self.__think(\"I feel sociable today...\"))\n",
    "    return \"Hi, my name is \" + self.name"
   ]
  },
  {
   "cell_type": "markdown",
   "id": "c242d866",
   "metadata": {},
   "source": [
    "## Exercise"
   ]
  },
  {
   "cell_type": "code",
   "execution_count": 9,
   "id": "e183e37a",
   "metadata": {},
   "outputs": [],
   "source": [
    "class DNAString:\n",
    "    \n",
    "    def __init__(self, sequence):\n",
    "        self.sequence = sequence\n",
    "    \n",
    "    def dna_or_rna(self):\n",
    "        if all([n in 'ATCG' for n in self.sequence]):\n",
    "            return 'DNA'\n",
    "        elif all([n in 'AUCG' for n in self.sequence]):\n",
    "            return 'RNA'\n",
    "        else:\n",
    "            raise ValueError('Sequence is neither DNA nor RNA.')\n",
    "    \n",
    "    def reverse_complement(self):\n",
    "        rc = ''\n",
    "        for nt in self.sequence[::-1]:\n",
    "            if nt == 'A':\n",
    "                rc += 'T'\n",
    "            elif nt == 'T':\n",
    "                rc += 'A'\n",
    "            elif nt == 'C':\n",
    "                rc += 'G'\n",
    "            elif nt == 'G':\n",
    "                rc += 'C'\n",
    "            else:\n",
    "                raise ValueError('Nucleotide is not DNA:', nt)\n",
    "        return rc\n",
    "    \n",
    "    def gc_content(self):\n",
    "        g_count = self.sequence.count('G')\n",
    "        c_count = self.sequence.count('C')\n",
    "        gc = (g_count + c_count) / len(self.sequence)\n",
    "        return (gc)"
   ]
  },
  {
   "cell_type": "code",
   "execution_count": 10,
   "id": "2a8568f7",
   "metadata": {},
   "outputs": [
    {
     "name": "stdout",
     "output_type": "stream",
     "text": [
      "CGAT\n",
      "0.5\n",
      "DNA\n"
     ]
    }
   ],
   "source": [
    "dna_seq = DNAString(\"ATCG\")\n",
    "print(dna_seq.reverse_complement())\n",
    "print(dna_seq.gc_content())\n",
    "print(dna_seq.dna_or_rna())"
   ]
  },
  {
   "cell_type": "markdown",
   "id": "41af79d8",
   "metadata": {},
   "source": [
    "## Exercise"
   ]
  },
  {
   "cell_type": "code",
   "execution_count": 11,
   "id": "ca0c85e0",
   "metadata": {},
   "outputs": [
    {
     "data": {
      "text/plain": [
       "[<__main__.DNAString at 0x7f57004f6a90>,\n",
       " <__main__.DNAString at 0x7f5700525f10>,\n",
       " <__main__.DNAString at 0x7f5700514b50>,\n",
       " <__main__.DNAString at 0x7f5700515c50>]"
      ]
     },
     "execution_count": 11,
     "metadata": {},
     "output_type": "execute_result"
    }
   ],
   "source": [
    "sequences = [\n",
    "    \"ATCG\",\n",
    "    \"AATT\",\n",
    "    \"CCGGAACCGG\",\n",
    "    \"ATCGATCGATCGATCG\",\n",
    "    ## Exercise\"ATCGATCGATCGATCGATCG\",\n",
    "]\n",
    "dna_strings = [DNAString(s) for s in sequences]\n",
    "dna_strings"
   ]
  },
  {
   "cell_type": "code",
   "execution_count": 12,
   "id": "d8a638ad",
   "metadata": {
    "scrolled": true
   },
   "outputs": [
    {
     "data": {
      "text/plain": [
       "'CCGGTTCCGG'"
      ]
     },
     "execution_count": 12,
     "metadata": {},
     "output_type": "execute_result"
    }
   ],
   "source": [
    "gc_max = -1\n",
    "gc_max_index = -1\n",
    "for i in range(len(dna_strings)):\n",
    "    s = dna_strings[i]\n",
    "    s_gc = s.gc_content()\n",
    "    if s_gc > gc_max:\n",
    "        gc_max = s_gc\n",
    "        gc_max_index = i\n",
    "dna_strings[gc_max_index].sequence\n",
    "dna_strings[gc_max_index].reverse_complement()"
   ]
  },
  {
   "cell_type": "markdown",
   "id": "a15b7104",
   "metadata": {},
   "source": [
    "## Exercise - Optional"
   ]
  },
  {
   "cell_type": "code",
   "execution_count": 13,
   "id": "f6ab2d88",
   "metadata": {},
   "outputs": [],
   "source": [
    "import re\n",
    "\n",
    "class DNAString:\n",
    "    \n",
    "    def __init__(self, sequence):\n",
    "        self.sequence = sequence\n",
    "    \n",
    "    def count_motifs(self, motif):\n",
    "        n_matches = len(re.findall(motif, self.sequence))\n",
    "        return(n_matches)"
   ]
  },
  {
   "cell_type": "code",
   "execution_count": 14,
   "id": "32188c97",
   "metadata": {},
   "outputs": [
    {
     "name": "stdout",
     "output_type": "stream",
     "text": [
      "3\n",
      "2\n"
     ]
    }
   ],
   "source": [
    "dna_seq = DNAString(\"ATCGATATCG\")\n",
    "print(dna_seq.count_motifs(\"AT\"))\n",
    "print(dna_seq.count_motifs(\"CG\"))"
   ]
  },
  {
   "cell_type": "code",
   "execution_count": null,
   "id": "ed9db983",
   "metadata": {},
   "outputs": [],
   "source": []
  }
 ],
 "metadata": {
  "kernelspec": {
   "display_name": "Python 3 (ipykernel)",
   "language": "python",
   "name": "python3"
  },
  "language_info": {
   "codemirror_mode": {
    "name": "ipython",
    "version": 3
   },
   "file_extension": ".py",
   "mimetype": "text/x-python",
   "name": "python",
   "nbconvert_exporter": "python",
   "pygments_lexer": "ipython3",
   "version": "3.11.3"
  }
 },
 "nbformat": 4,
 "nbformat_minor": 5
}
