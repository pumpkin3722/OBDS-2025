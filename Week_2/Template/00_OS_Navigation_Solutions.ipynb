{
 "cells": [
  {
   "cell_type": "markdown",
   "id": "02072859",
   "metadata": {},
   "source": [
    "# OS Navigation Exercises"
   ]
  },
  {
   "cell_type": "markdown",
   "id": "0801460f",
   "metadata": {},
   "source": [
    "### Prepare the workbook"
   ]
  },
  {
   "cell_type": "code",
   "execution_count": 4,
   "id": "e4d8d4d8",
   "metadata": {},
   "outputs": [
    {
     "name": "stdout",
     "output_type": "stream",
     "text": [
      "Current date and time = 2025-01-21 14:34:03.254433\n"
     ]
    }
   ],
   "source": [
    "# Import dependencies\n",
    "import os\n",
    "\n",
    "# Print date and time:\n",
    "import datetime\n",
    "e = datetime.datetime.now()\n",
    "print (\"Current date and time = %s\" % e)\n",
    "\n",
    "# Set a working directory\n",
    "wdir = \"/Users/alinakurjan/Devel/scRNAseq in Python OBDS (10-14 Feb 2025)/Teaching Data\" #replace with where you want to run the code in\n",
    "os.chdir( wdir )"
   ]
  },
  {
   "cell_type": "markdown",
   "id": "4e06a2db",
   "metadata": {},
   "source": [
    "### check you're in the right place by checking the contents of your directory"
   ]
  },
  {
   "cell_type": "code",
   "execution_count": 5,
   "id": "3becfa25",
   "metadata": {},
   "outputs": [
    {
     "name": "stdout",
     "output_type": "stream",
     "text": [
      "\u001b[34mCellRanger_DEV15984_Ach_Sep2022\u001b[m\u001b[m/  \u001b[34mFCAImmFolder2\u001b[m\u001b[m/\n",
      "\u001b[34mCellRanger_DEV16127_Quad_Jan2023\u001b[m\u001b[m/ \u001b[34mWSSTraining1\u001b[m\u001b[m/\n",
      "\u001b[34mCellRanger_DEV16569_Ach_Jan2023\u001b[m\u001b[m/  \u001b[34mWSSTraining2\u001b[m\u001b[m/\n",
      "\u001b[34mFCAImmFolder1\u001b[m\u001b[m/                    metadata.csv\n"
     ]
    }
   ],
   "source": [
    "ls"
   ]
  },
  {
   "cell_type": "markdown",
   "id": "1b595ef2",
   "metadata": {},
   "source": [
    "### the following commands have been run to generate folders containing data"
   ]
  },
  {
   "cell_type": "markdown",
   "id": "0388dd9c",
   "metadata": {},
   "source": [
    "CellRanger (FASTQ -> .h5 alignment):\n",
    "```\n",
    "!cellranger count \\\n",
    "--id=CellRanger_OMB1248_Quad_Oct2021 \\\n",
    "--fastqs=../data.dir/fastq_path/ \\\n",
    "--sample=OMB1248-Quad-MB-H-date11102021 \\\n",
    "--transcriptome=../cellranger/refdata-gex-GRCh38-2020-A\n",
    "```\n",
    "\n",
    "CellBender (.h5 -> .h5 ambient RNA removal):\n",
    "```\n",
    "!cellbender remove-background \\\n",
    "--input CellRanger_OMB1248_Quad_Oct2021/outs/raw_feature_bc_matrix.h5 \\\n",
    "--output CellRanger_OMB1248_Quad_Oct2021/cellbenderout.h5 \\\n",
    "--expected-cells 1345 \\\n",
    "--total-droplets-included 20000 \\\n",
    "--fpr 0.01 \\\n",
    "--epochs 150\n",
    "```\n",
    "\n",
    "Velocyto (BAM/.h5 -> .loom):\n",
    "```\n",
    "!velocyto run10x \\\n",
    "-m ../cellranger/h38_repeat_mask.gtf \\\n",
    "--verbose \\\n",
    "CellRanger_OMB1248_Quad_Oct2021 \\\n",
    "../cellranger/refdata-gex-GRCh38-2020-A/genes/genes.gtf\n",
    "```"
   ]
  },
  {
   "cell_type": "markdown",
   "id": "637677dd",
   "metadata": {},
   "source": [
    "### 1) write a for loop to print out the names of folders in the working directory.\n",
    "_hint: use os.listdir()_"
   ]
  },
  {
   "cell_type": "code",
   "execution_count": 3,
   "id": "e81b2778",
   "metadata": {},
   "outputs": [
    {
     "name": "stdout",
     "output_type": "stream",
     "text": [
      "WSSTraining1\n",
      "WSSTraining2\n",
      "CellRanger_DEV16569_Ach_Jan2023\n",
      "CellRanger_DEV15984_Ach_Sep2022\n",
      "FCAImmFolder1\n",
      "QC\n",
      "CellRanger_DEV16127_Quad_Jan2023\n",
      "metadata.csv\n",
      "FCAImmFolder2\n"
     ]
    }
   ],
   "source": [
    "for folder in os.listdir(wdir):\n",
    "    print(folder)"
   ]
  },
  {
   "cell_type": "markdown",
   "id": "07fa4a29",
   "metadata": {},
   "source": [
    "### 2) print out only the names of folders that are relevant for your work. They start with \"CellRanger\".\n",
    "_hint: you need a for loop with an if statement._"
   ]
  },
  {
   "cell_type": "code",
   "execution_count": 4,
   "id": "ef3af37b",
   "metadata": {},
   "outputs": [
    {
     "name": "stdout",
     "output_type": "stream",
     "text": [
      "CellRanger_DEV16569_Ach_Jan2023\n",
      "CellRanger_DEV15984_Ach_Sep2022\n",
      "CellRanger_DEV16127_Quad_Jan2023\n"
     ]
    }
   ],
   "source": [
    "for folder in os.listdir(wdir):\n",
    "    if folder.startswith('CellRanger'):\n",
    "        print(folder)"
   ]
  },
  {
   "cell_type": "markdown",
   "id": "6b11b71d",
   "metadata": {},
   "source": [
    "### 3) Create a new dictionary object called folder_dict with relevant folder names as keys and folder paths as values.\n",
    "_hint: use the previous function. You will need to use os.path.join() to get the paths._"
   ]
  },
  {
   "cell_type": "code",
   "execution_count": 5,
   "id": "b3117db4",
   "metadata": {},
   "outputs": [
    {
     "data": {
      "text/plain": [
       "{'CellRanger_DEV16569_Ach_Jan2023': '/mnt/da8aa2c4-0136-465b-87a2-d12a59afec55/akurjan/analysis/files/Training/CellRanger_DEV16569_Ach_Jan2023',\n",
       " 'CellRanger_DEV15984_Ach_Sep2022': '/mnt/da8aa2c4-0136-465b-87a2-d12a59afec55/akurjan/analysis/files/Training/CellRanger_DEV15984_Ach_Sep2022',\n",
       " 'CellRanger_DEV16127_Quad_Jan2023': '/mnt/da8aa2c4-0136-465b-87a2-d12a59afec55/akurjan/analysis/files/Training/CellRanger_DEV16127_Quad_Jan2023'}"
      ]
     },
     "execution_count": 5,
     "metadata": {},
     "output_type": "execute_result"
    }
   ],
   "source": [
    "folder_dict = {}\n",
    "for folder in os.listdir(wdir):\n",
    "    if folder.startswith('CellRanger'):\n",
    "        folder_path = os.path.join(wdir, folder)\n",
    "        folder_dict[folder] = folder_path\n",
    "        \n",
    "folder_dict"
   ]
  },
  {
   "cell_type": "markdown",
   "id": "3ca50286",
   "metadata": {},
   "source": [
    "### 4) write a loop to check if there are 'outs/web_summary.html' output files already present in the folders that you are interested in. Use the function in 3) as a starting point.\n",
    "\n",
    "_hint: use the os.path.exists() function. If this is too easy, try doing this without using that function!_"
   ]
  },
  {
   "cell_type": "code",
   "execution_count": 6,
   "id": "9871dc40",
   "metadata": {},
   "outputs": [
    {
     "name": "stdout",
     "output_type": "stream",
     "text": [
      "Web summary found in CellRanger_DEV16569_Ach_Jan2023: CellRanger_DEV16569_Ach_Jan2023/outs/web_summary.html\n",
      "Web summary found in CellRanger_DEV15984_Ach_Sep2022: CellRanger_DEV15984_Ach_Sep2022/outs/web_summary.html\n",
      "Web summary found in CellRanger_DEV16127_Quad_Jan2023: CellRanger_DEV16127_Quad_Jan2023/outs/web_summary.html\n"
     ]
    }
   ],
   "source": [
    "for folder in os.listdir(wdir):\n",
    "    if folder.startswith('CellRanger'):\n",
    "        web_summary_path = os.path.join(folder, 'outs/web_summary.html')\n",
    "        if os.path.exists(web_summary_path):\n",
    "            print(f\"Web summary found in {folder}: {web_summary_path}\")"
   ]
  },
  {
   "cell_type": "code",
   "execution_count": 7,
   "id": "68356a03",
   "metadata": {},
   "outputs": [
    {
     "name": "stdout",
     "output_type": "stream",
     "text": [
      "Output files already exist in folder CellRanger_DEV16569_Ach_Jan2023. Skipping...\n",
      "Output files already exist in folder CellRanger_DEV15984_Ach_Sep2022. Skipping...\n",
      "Output files already exist in folder CellRanger_DEV16127_Quad_Jan2023. Skipping...\n"
     ]
    }
   ],
   "source": [
    "# solution without os.path.exists:\n",
    "for folder in os.listdir(wdir):\n",
    "    if folder.startswith('CellRanger'):\n",
    "        output_files_exist = any(file.startswith('web_summary') for file in os.listdir(os.path.join(wdir, folder, 'outs')))\n",
    "        if output_files_exist:\n",
    "            print(f\"Output files already exist in folder {folder}. Skipping...\")"
   ]
  },
  {
   "cell_type": "markdown",
   "id": "f2542072",
   "metadata": {},
   "source": [
    "### 5) write the same loop again, but this time using the folder_dict object created in 4)."
   ]
  },
  {
   "cell_type": "code",
   "execution_count": 8,
   "id": "3bec3dff",
   "metadata": {},
   "outputs": [
    {
     "name": "stdout",
     "output_type": "stream",
     "text": [
      "Web summary found in CellRanger_DEV16569_Ach_Jan2023: /mnt/da8aa2c4-0136-465b-87a2-d12a59afec55/akurjan/analysis/files/Training/CellRanger_DEV16569_Ach_Jan2023/outs/web_summary.html\n",
      "Web summary found in CellRanger_DEV15984_Ach_Sep2022: /mnt/da8aa2c4-0136-465b-87a2-d12a59afec55/akurjan/analysis/files/Training/CellRanger_DEV15984_Ach_Sep2022/outs/web_summary.html\n",
      "Web summary found in CellRanger_DEV16127_Quad_Jan2023: /mnt/da8aa2c4-0136-465b-87a2-d12a59afec55/akurjan/analysis/files/Training/CellRanger_DEV16127_Quad_Jan2023/outs/web_summary.html\n"
     ]
    }
   ],
   "source": [
    "for folder_name, folder_path in folder_dict.items():\n",
    "    web_summary_path = os.path.join(folder_path, 'outs/web_summary.html')\n",
    "    if os.path.exists(web_summary_path):\n",
    "        print(f\"Web summary found in {folder_name}: {web_summary_path}\")\n",
    "    else:\n",
    "        print(f\"Web summary not found in {folder_name}\")"
   ]
  },
  {
   "cell_type": "markdown",
   "id": "7162aecb",
   "metadata": {},
   "source": [
    "### 6) using the previous function (either from 5 or 6) as basis, find the \"outs/metrics_summary.csv\" file and extract the CellRanger-estimated number of cells from it. The number of cells will need to be stored in a new dictionary called sample_cells, with folder names as keys and number of cells as values.\n",
    "\n",
    "_hint: You should first go through this step-by-step using a single sample before writing the loop. The file is in the .csv format, meaning that we will need to read it in as a dataframe using pd.read_csv(). You will find that the estimated number of cells contains a comma. If you want to extract it as a number, you will need to get rid of the comma; you can do so by using .replace(',', '') on your imported dataframe cell column, which will remove it._"
   ]
  },
  {
   "cell_type": "code",
   "execution_count": 9,
   "id": "34d17522",
   "metadata": {},
   "outputs": [
    {
     "name": "stdout",
     "output_type": "stream",
     "text": [
      "Metrics summary found in CellRanger_DEV16569_Ach_Jan2023\n",
      "Metrics summary found in CellRanger_DEV15984_Ach_Sep2022\n",
      "Metrics summary not found in CellRanger_DEV16127_Quad_Jan2023\n"
     ]
    },
    {
     "data": {
      "text/plain": [
       "{'CellRanger_DEV16569_Ach_Jan2023': 9376.0,\n",
       " 'CellRanger_DEV15984_Ach_Sep2022': 5910.0}"
      ]
     },
     "execution_count": 9,
     "metadata": {},
     "output_type": "execute_result"
    }
   ],
   "source": [
    "import pandas as pd\n",
    "\n",
    "sample_cells = {}\n",
    "for folder_name, folder_path in folder_dict.items():\n",
    "    metrics_summary_path = os.path.join(folder_path, 'outs/metrics_summary.csv')\n",
    "    if os.path.exists(metrics_summary_path):\n",
    "        print(f\"Metrics summary found in {folder_name}\")\n",
    "        metrics_df = pd.read_csv(metrics_summary_path)\n",
    "        expected_cells = float(metrics_df['Estimated Number of Cells'][0].replace(',', ''))   \n",
    "        sample_cells[folder_name] = expected_cells\n",
    "    else:\n",
    "        print(f\"Metrics summary not found in {folder_name}\")\n",
    "        pass\n",
    "    \n",
    "sample_cells"
   ]
  },
  {
   "cell_type": "markdown",
   "id": "433f2bf7",
   "metadata": {},
   "source": [
    "### Why did we just do all this?...\n",
    "\n",
    "_The function below is a pipelined version of cellbender that can be run locally from this notebook within the specified folder and with automated input of input paths, output paths, and expected cells. While I personally do not advise using this, it is a useful illustration for how to work with os navigation and what kinds of things you can do._"
   ]
  },
  {
   "cell_type": "code",
   "execution_count": null,
   "id": "f29c9486",
   "metadata": {},
   "outputs": [],
   "source": [
    "import os\n",
    "import subprocess\n",
    "import pandas as pd\n",
    "\n",
    "def run_cellbender(working_dir):\n",
    "    for folder in os.listdir(working_dir):\n",
    "        if folder.startswith('cellranger700'):\n",
    "            print(f'PROCESSING FOLDER: {folder}')\n",
    "            \n",
    "            # Check if output files already exist in the folder\n",
    "            output_files_exist = any(file.startswith('cellbender') for file in os.listdir(os.path.join(working_dir, \n",
    "                                                                                                       folder)))\n",
    "            if output_files_exist:\n",
    "                print(f\"Output files already exist in folder {folder}. Skipping...\")\n",
    "                continue\n",
    "            \n",
    "            # Process the folder\n",
    "            input_path = os.path.join(working_dir, folder, 'raw_feature_bc_matrix.h5')\n",
    "            output_path = os.path.join(working_dir, folder, 'cellbenderout.h5')\n",
    "            metrics_summary_path = os.path.join(working_dir, folder, 'metrics_summary.csv')\n",
    "            log_file = os.path.join(working_dir, folder, 'cellbender_running.log')\n",
    "\n",
    "            # Extract the estimated number of cells from metrics_summary.csv\n",
    "            metrics_df = pd.read_csv(metrics_summary_path)\n",
    "            expected_cells = float(metrics_df['Estimated Number of Cells'][0].replace(',', ''))\n",
    "            \n",
    "            if expected_cells is not None:\n",
    "                # Run the CellBender subprocess and redirect stdout to log file\n",
    "                command = [\n",
    "                    'cellbender', 'remove-background',\n",
    "                    '--input', input_path,\n",
    "                    '--output', output_path,\n",
    "                    '--expected-cells', str(int(expected_cells)),\n",
    "                    '--total-droplets-included', '30000', # ran with 15000 for all but one sample\n",
    "                    '--fpr', '0.01',\n",
    "                    '--epochs', '150',\n",
    "                    '--cuda'\n",
    "                ]\n",
    "                print(f'Running {command}')\n",
    "                with open(log_file, 'w') as log:\n",
    "                    try:\n",
    "                        result = subprocess.run(command, check=True, stdout=log, \n",
    "                                                stderr=subprocess.PIPE, encoding='utf-8')\n",
    "                    except subprocess.CalledProcessError as e:\n",
    "                        print(f'Error occurred: {e.returncode}\\n{e.stderr}')\n",
    "                    else:\n",
    "                        print(f'Command executed successfully')\n",
    "            else:\n",
    "                print(f\"No estimated number of cells found for {folder}. Skipping...\")\n"
   ]
  },
  {
   "cell_type": "code",
   "execution_count": 56,
   "id": "f140f6fc",
   "metadata": {},
   "outputs": [
    {
     "name": "stdout",
     "output_type": "stream",
     "text": [
      "PROCESSING FOLDER: cellranger700_count_26155_FCAImmP7536759_GRCh38-2020-A\n",
      "Output files already exist in folder cellranger700_count_26155_FCAImmP7536759_GRCh38-2020-A. Skipping...\n",
      "PROCESSING FOLDER: cellranger700_count_26322_5386STDY7557336_GRCh38-2020-A\n",
      "Output files already exist in folder cellranger700_count_26322_5386STDY7557336_GRCh38-2020-A. Skipping...\n",
      "PROCESSING FOLDER: cellranger700_count_35528_WSSS_THYst9384958_GRCh38-2020-A\n",
      "Output files already exist in folder cellranger700_count_35528_WSSS_THYst9384958_GRCh38-2020-A. Skipping...\n",
      "PROCESSING FOLDER: cellranger700_count_34113_WSSS_THYst8796440_GRCh38-2020-A\n",
      "Output files already exist in folder cellranger700_count_34113_WSSS_THYst8796440_GRCh38-2020-A. Skipping...\n",
      "PROCESSING FOLDER: cellranger700_count_35528_WSSS_THYst9384955_GRCh38-2020-A\n",
      "Output files already exist in folder cellranger700_count_35528_WSSS_THYst9384955_GRCh38-2020-A. Skipping...\n",
      "PROCESSING FOLDER: cellranger700_count_34113_WSSS_THYst8796442_GRCh38-2020-A\n",
      "Output files already exist in folder cellranger700_count_34113_WSSS_THYst8796442_GRCh38-2020-A. Skipping...\n",
      "PROCESSING FOLDER: cellranger700_count_34113_WSSS_THYst8796438_GRCh38-2020-A\n",
      "Output files already exist in folder cellranger700_count_34113_WSSS_THYst8796438_GRCh38-2020-A. Skipping...\n",
      "PROCESSING FOLDER: cellranger700_count_34113_WSSS_THYst8796441_GRCh38-2020-A\n",
      "Output files already exist in folder cellranger700_count_34113_WSSS_THYst8796441_GRCh38-2020-A. Skipping...\n",
      "PROCESSING FOLDER: cellranger700_count_27370_5478STDY7717492_GRCh38-2020-A\n",
      "Output files already exist in folder cellranger700_count_27370_5478STDY7717492_GRCh38-2020-A. Skipping...\n",
      "PROCESSING FOLDER: cellranger700_count_29750_5478STDY7980348_GRCh38-2020-A\n",
      "Output files already exist in folder cellranger700_count_29750_5478STDY7980348_GRCh38-2020-A. Skipping...\n",
      "PROCESSING FOLDER: cellranger700_count_26155_5386STDY7537944_GRCh38-2020-A\n",
      "Output files already exist in folder cellranger700_count_26155_5386STDY7537944_GRCh38-2020-A. Skipping...\n",
      "PROCESSING FOLDER: cellranger700_count_35528_WSSS_THYst9384953_GRCh38-2020-A\n",
      "Output files already exist in folder cellranger700_count_35528_WSSS_THYst9384953_GRCh38-2020-A. Skipping...\n",
      "PROCESSING FOLDER: cellranger700_count_34113_WSSS_THYst8796437_GRCh38-2020-A\n",
      "Output files already exist in folder cellranger700_count_34113_WSSS_THYst8796437_GRCh38-2020-A. Skipping...\n",
      "PROCESSING FOLDER: cellranger700_count_26322_5386STDY7557335_GRCh38-2020-A\n",
      "Output files already exist in folder cellranger700_count_26322_5386STDY7557335_GRCh38-2020-A. Skipping...\n",
      "PROCESSING FOLDER: cellranger700_count_27023_5478STDY7652318_GRCh38-2020-A\n",
      "Output files already exist in folder cellranger700_count_27023_5478STDY7652318_GRCh38-2020-A. Skipping...\n",
      "PROCESSING FOLDER: cellranger700_count_35528_WSSS_THYst9384957_GRCh38-2020-A\n",
      "Output files already exist in folder cellranger700_count_35528_WSSS_THYst9384957_GRCh38-2020-A. Skipping...\n",
      "PROCESSING FOLDER: cellranger700_count_27370_5478STDY7717491_GRCh38-2020-A\n",
      "Output files already exist in folder cellranger700_count_27370_5478STDY7717491_GRCh38-2020-A. Skipping...\n",
      "PROCESSING FOLDER: cellranger700_count_29346_5478STDY7935102_GRCh38-2020-A\n",
      "Running ['cellbender', 'remove-background', '--input', '/mnt/da8aa2c4-0136-465b-87a2-d12a59afec55/akurjan/analysis/files/Teichmann Group/cellranger700_count_29346_5478STDY7935102_GRCh38-2020-A/raw_feature_bc_matrix.h5', '--output', '/mnt/da8aa2c4-0136-465b-87a2-d12a59afec55/akurjan/analysis/files/Teichmann Group/cellranger700_count_29346_5478STDY7935102_GRCh38-2020-A/cellbenderout.h5', '--expected-cells', '18207', '--total-droplets-included', '30000', '--fpr', '0.01', '--epochs', '150', '--cuda']\n",
      "Command executed successfully\n",
      "PROCESSING FOLDER: cellranger700_count_29750_5478STDY7980349_GRCh38-2020-A\n",
      "Output files already exist in folder cellranger700_count_29750_5478STDY7980349_GRCh38-2020-A. Skipping...\n",
      "PROCESSING FOLDER: cellranger700_count_35528_WSSS_THYst9384954_GRCh38-2020-A\n",
      "Output files already exist in folder cellranger700_count_35528_WSSS_THYst9384954_GRCh38-2020-A. Skipping...\n",
      "PROCESSING FOLDER: cellranger700_count_29346_5478STDY7935101_GRCh38-2020-A\n",
      "Output files already exist in folder cellranger700_count_29346_5478STDY7935101_GRCh38-2020-A. Skipping...\n",
      "PROCESSING FOLDER: cellranger700_count_34113_WSSS_THYst8796439_GRCh38-2020-A\n",
      "Output files already exist in folder cellranger700_count_34113_WSSS_THYst8796439_GRCh38-2020-A. Skipping...\n",
      "PROCESSING FOLDER: cellranger700_count_26322_5386STDY7557337_GRCh38-2020-A\n",
      "Output files already exist in folder cellranger700_count_26322_5386STDY7557337_GRCh38-2020-A. Skipping...\n",
      "PROCESSING FOLDER: cellranger700_count_26155_FCAImmP7536758_GRCh38-2020-A\n",
      "Output files already exist in folder cellranger700_count_26155_FCAImmP7536758_GRCh38-2020-A. Skipping...\n",
      "PROCESSING FOLDER: cellranger700_count_35528_WSSS_THYst9384956_GRCh38-2020-A\n",
      "Output files already exist in folder cellranger700_count_35528_WSSS_THYst9384956_GRCh38-2020-A. Skipping...\n"
     ]
    }
   ],
   "source": [
    "run_cellbender(wdir)"
   ]
  }
 ],
 "metadata": {
  "kernelspec": {
   "display_name": "Python [conda env:scvitools]",
   "language": "python",
   "name": "conda-env-scvitools-py"
  },
  "language_info": {
   "codemirror_mode": {
    "name": "ipython",
    "version": 3
   },
   "file_extension": ".py",
   "mimetype": "text/x-python",
   "name": "python",
   "nbconvert_exporter": "python",
   "pygments_lexer": "ipython3",
   "version": "3.12.8"
  }
 },
 "nbformat": 4,
 "nbformat_minor": 5
}
