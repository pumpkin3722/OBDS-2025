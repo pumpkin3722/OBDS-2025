{
 "cells": [
  {
   "cell_type": "code",
   "execution_count": 41,
   "id": "19c2d73f-0f87-4ddb-84a6-7fcb27f1fe31",
   "metadata": {
    "tags": []
   },
   "outputs": [
    {
     "ename": "TypeError",
     "evalue": "unsupported operand type(s) for -: 'str' and 'int'",
     "output_type": "error",
     "traceback": [
      "\u001b[0;31m---------------------------------------------------------------------------\u001b[0m",
      "\u001b[0;31mTypeError\u001b[0m                                 Traceback (most recent call last)",
      "Cell \u001b[0;32mIn[41], line 9\u001b[0m\n\u001b[1;32m      7\u001b[0m \u001b[38;5;28;01mif\u001b[39;00m result[\u001b[38;5;241m2\u001b[39m][\u001b[38;5;241m0\u001b[39m:\u001b[38;5;241m3\u001b[39m] \u001b[38;5;241m==\u001b[39m \u001b[38;5;124m'\u001b[39m\u001b[38;5;124mchr\u001b[39m\u001b[38;5;124m'\u001b[39m:\n\u001b[1;32m      8\u001b[0m     chrom \u001b[38;5;241m=\u001b[39m result[\u001b[38;5;241m2\u001b[39m]\n\u001b[0;32m----> 9\u001b[0m     start \u001b[38;5;241m=\u001b[39m \u001b[43mresult\u001b[49m\u001b[43m[\u001b[49m\u001b[38;5;241;43m3\u001b[39;49m\u001b[43m]\u001b[49m\u001b[38;5;241;43m-\u001b[39;49m\u001b[38;5;241;43m1\u001b[39;49m\n\u001b[1;32m     10\u001b[0m     end \u001b[38;5;241m=\u001b[39m \u001b[38;5;28mint\u001b[39m(result[\u001b[38;5;241m3\u001b[39m])\u001b[38;5;241m+\u001b[39m\u001b[38;5;28mlen\u001b[39m(result[\u001b[38;5;241m9\u001b[39m])\n\u001b[1;32m     11\u001b[0m     name \u001b[38;5;241m=\u001b[39m result[\u001b[38;5;241m0\u001b[39m]\n",
      "\u001b[0;31mTypeError\u001b[0m: unsupported operand type(s) for -: 'str' and 'int'"
     ]
    }
   ],
   "source": [
    "# Read sam file\n",
    "\n",
    "with open('SHARED/python/1_python_programming/cd4_subset.sam', 'r') as sam, open('b.bed', 'w') as bed:\n",
    "    if not line.startswith(\"@\"):\n",
    "        for line in sam:\n",
    "            result = line.split(\"\\t\")\n",
    "            if result[2][0:3] == 'chr':\n",
    "                chrom = result[2]\n",
    "                start = result[3]-1\n",
    "                end = int(result[3])+len(result[9])\n",
    "                name = result[0]\n",
    "                score = result[4]\n",
    "                bed.write(f'{chrom}\\t{start}\\t{end}\\t{name}\\t{score}\\n')"
   ]
  },
  {
   "cell_type": "code",
   "execution_count": null,
   "id": "2a8c4a91-8bb7-4b0a-954f-a337a7982380",
   "metadata": {},
   "outputs": [],
   "source": []
  },
  {
   "cell_type": "code",
   "execution_count": null,
   "id": "47ee79c1-9b8a-4944-be84-63f023091d2e",
   "metadata": {},
   "outputs": [],
   "source": [
    "ERR1755082.1543\t99\tchrX\t48414607\t60\t43M\t=\t48414712\t148\tCCACATGAAAATGCTTCACAATTTTGCCCGGTGGGTCATACTT\tAAAAAEEEEEEEEEEEEEEEEEEEEEEEEEEEEEEEEAEEEEA\tAS:i:0\tXN:i:0\tXM:i:0\tXO:i:0\tXG:i:0\tNM:i:0\tMD:Z:43\tYS:i:0\tYT:Z:CP\tNH:i:1\n",
    "ERR1755082.1543\t147\tchrX\t48414712\t60\t43M\t=\t48414607\t-148\tGAGAAAGGGGCCTGGGTTGGGGATCTGGTCACACTAGGCTCAG\t//6EE/EAEEEE/EEA<<EEEEEEEEEEEEEEEEEEEEA/AAA\tAS:i:0\tXN:i:0\tXM:i:0\tXO:i:0\tXG:i:0\tNM:i:0\tMD:Z:43\tYS:i:0\tYT:Z:CP\tNH:i:1"
   ]
  }
 ],
 "metadata": {
  "kernelspec": {
   "display_name": "Python 3 (ipykernel)",
   "language": "python",
   "name": "python3"
  },
  "language_info": {
   "codemirror_mode": {
    "name": "ipython",
    "version": 3
   },
   "file_extension": ".py",
   "mimetype": "text/x-python",
   "name": "python",
   "nbconvert_exporter": "python",
   "pygments_lexer": "ipython3",
   "version": "3.11.3"
  }
 },
 "nbformat": 4,
 "nbformat_minor": 5
}
