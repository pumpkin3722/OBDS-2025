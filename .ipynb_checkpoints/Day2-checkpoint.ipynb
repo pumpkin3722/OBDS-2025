{
 "cells": [
  {
   "cell_type": "code",
   "execution_count": 27,
   "id": "391a702b-5a06-4634-8770-705e0380fd7c",
   "metadata": {
    "tags": []
   },
   "outputs": [
    {
     "name": "stdout",
     "output_type": "stream",
     "text": [
      "GC content is 64.56840137114366%\n",
      "GC content is 65.6319290465632%\n"
     ]
    }
   ],
   "source": [
    "# Write an algorithm that computes the GC content of a DNA sequence\n",
    "\n",
    "def GC_content(seq):\n",
    "    '''computes the GC content of a DNA sequence'''\n",
    "    output = 0\n",
    "    gc = 0\n",
    "    at = 0\n",
    "    for base in seq:\n",
    "        if base == 'G' or base == 'C':\n",
    "            gc = gc + 1\n",
    "        elif base== 'T' or base =='A' :\n",
    "            at = at +1\n",
    "    output = gc / len(seq) * 100\n",
    "    output1= gc / (at + gc) * 100\n",
    "    print(f'GC content is {output}%')\n",
    "    print(f'GC content is {output1}%')\n",
    "    \n",
    "GC_content('''CGGGGCTAGGGGCGGGGCTCCGTGGACCAGGGTCCAGCCCCAAGCGGGGCGCGATCCTGC\n",
    "CCGGTCGCGCCGACCCCCGGGGTCCTCATATTGTCTGTGGCTTAAGAGGGGAGTCGTCAC\n",
    "AGGCGTCAAGTCTTCTTTCTAAAGCCGGGGACCTGGGGAGGAGGTGGGAGTTTACGGGAG\n",
    "GAAGGGCCACGGAGATGGGTCGCTTCTCCTGGAGCTAGAGCTGCGGGCTGGGGTCTCCAG\n",
    "GGTTCGGCCCGGGGAGCCGACCCTGGTCGGCCGTCGGGGCTCTGCTCGGCCCTCCTGAAA\n",
    "CCTCCGCCTCCTCCAGCAGGGGGCGGGCCGGGGCCGCGTCTCGGGGGGAAGGCGATCAGG\n",
    "TCGCCCCCTCCTCCGATTCCCCCGCCTTCCAGGACAGCCTCCAGCCCAGAGGGGCGGTCC\n",
    "GGGGGCGGGGTCGCACCGCCCCCTCTCGCTCCCAATCCCGGGGCGGCCGGGCGGGGGTGG\n",
    "GCAGGGGGCGTGAGGCCGCCCCTGCGTCCCGGGGGCCCCCCGAAAACGCGCTCCGGGTGC\n",
    "CCGGTCCCTCCGCTGCGCCCTGCCGCCGTCCTCCCGGGGGTCTCGGGCGGCCGCGGCCGT\n",
    "GTCCTTCGCGTCCCGGCGGCGCGGCGGGAGGGGCCGGCGTGACGCAGCGGTTGCTACGGG\n",
    "CCGCCCTTATAAATAACCGGGCTCAGGAGAAACTTTAGCGAGTCAGAGCCGCGCACGGGA\n",
    "CTGGGAAGGGGACCCACCCGAGGGTCCAGCCACCAGCCCCCTCACTAATAGCGGCCACCC\n",
    "CGGCAGCGGCGGCAGCAGCAGCAGCGACGCAGCGGCGACAGCTCAGAGCAGGGAGGCCGC\n",
    "GCCACCTGCGGGCCGGCCGGAGCGGGCAGCCCCAGGCCCCCTCCCCGGGCACCCGCGTTC\n",
    "ATGCAACGCCTGGTGGCCTGGGACCCAGCATGTCTCCCCCTGCCGCCGCCGCCGCCTGCC\n",
    "TTTAAATCCATGGAAGTGGCCAACTTCTACTACGAGGCGGACTGCTTGGCTGCTGCGTAC\n",
    "GGCGGCAAGGCGGCCCCCGCGGCGCCCCCCGCGGCCAGACCCGGGCCGCGCCCCCCCGCC\n",
    "GGCGAGCTGGGCAGCATCGGCGACCACGAGCGCGCCATCGACTTCAGCCCGTACCTGGAG\n",
    "CCGCTGGGCGCGCCGCAGGCCCCGGCGCCCGCCACGGCCACGGACACCTTCGAGGCGGCT\n",
    "CCGCCCGCGCCCGCCCCCGCGCCCGCCTCCTCCGGGCAGCACCACGACTTCCTCTCCGAC\n",
    "CTCTTCTCCGACGACTACGGGGGCAAGAACTGCAAGAAGCCGGCCGAGTACGGCTACGTG\n",
    "AGCCTGGGGCGCCTGGGGGCCGCCAAGGGCGCGCTGCACCCCGGCTGCTTCGCGCCCCTG\n",
    "CACCCACCGCCCCCGCCGCCGCCGCCGCCCGCCGAGCTCAAGGCGGAGCCGGGCTTCGAG\n",
    "CCCGCGGACTGCAAGCGGAAGGAGGAGGCCGGGGCGCCGGGCGGCGGCGCAGGCATGGCG\n",
    "GCGGGCTTCCCGTACGCGCTGCGCGCTTACCTCGGCTACCAGGCGGTGCCGAGCGGCAGC\n",
    "AGCGGGAGCCTCTCCACGTCCTCCTCGTCCAGCCCGCCCGGCACGCCGAGCCCCGCTGAC\n",
    "GCCAAGGCGCCCCCGACCGCCTGCTACGCGGGGGCCGCGCCGGCGCCCTCGCAGGTCAAG\n",
    "AGCAAGGCCAAGAAGACCGTGGACAAGCACAGCGACGAGTACAAGATCCGGCGCGAGCGC\n",
    "AACAACATCGCCGTGCGCAAGAGCCGCGACAAGGCCAAGATGCGCAACCTGGAGACGCAG\n",
    "CACAAGGTCCTGGAGCTCACGGCCGAGAACGAGCGGCTGCAGAAGAAGGTGGAGCAGCTG\n",
    "TCGCGCGAGCTCAGCACCCTGCGGAACTTGTTCAAGCAGCTGCCCGAGCCCCTGCTCGCC\n",
    "TCCTCCGGCCACTGCTAGCGCGGCCCCCGCGCGCGTCCCCCTGCCGGCCGGGGCTGAGAC\n",
    "TCCGGGGAGCGCCCGCGCCCGCGCCCTCGCCCCCGCCCCCGGCGGCGCCGGCAAAACTTT\n",
    "GGCACTGGGGCACTTGGCAGCGCGGGGAGCCCGTCGGTAATTTTAATATTTTATTATATA\n",
    "TATATATCTATATTTTTGTCCAAACCAACCGCACATGCAGATGGGGCTCCCGCCCGTGGT\n",
    "GTTATTTAAAGAAGAAACGTCTATGTGTACAGATGAATGATAAACTCTCTGCTTCTCCCT\n",
    "CTGCCCCTCTCCAGGCGCCGGCGGGCGGGCCGGTTTCGAAGTTGATGCAATCGGTTTAAA\n",
    "CATGGCTGAACGCGTGTGTACACGGGACTGACGCAACCCACGTGTAACTGTCAGCCGGGC\n",
    "CCTGAGTAATCGCTTAAAGATGTTCCTACGGGCTTGTTGCTGTTGATGTTTTGTTTTGTT\n",
    "TTGTTTTTTGGTCTTTTTTTGTATTATAAAAAATAATCTATTTCTATGAGAAAAGAGGCG\n",
    "TCTGTATATTTTGGGAATCTTTTCCGTTTCAAGCATTAAGAACACTTTTAATAAACTTTT\n",
    "TTTTGAGAATGGTTACAAAGCCTTTTGGGGGCAGTAATTGGCTTTTGTTTTTTATTTTTT\n",
    "TACTTTATTTTGGATTTGTAGGATTTTGTTTTTGCGTTTCTGGTGTGTAGGGGGTTGTGT\n",
    "GTGGGGGGCTGCTGTTATTTTTGGAGGTTTTGGTGGTTGGGTGGGGGTGTTGCAGCTGGT\n",
    "TTTTCTGCCTCCTCTGCTACTCCCCCTCCCACACACACAGGGTCTGCTTGAGATGGGGTT\n",
    "CCAGCCCCGGGGGAAAGGGGAGAAGAGTAATGGGTCAGGCATTCAGGCTGACTCAGAGCC\n",
    "CCTAGGCGCCGGGACGGGTGGCTGGGAACCCTGCTTGAGAAGAGATTCCGGAGCCTCTGG\n",
    "CTGGTCCCGAGTGTCAGGCTTGGGTTTGGAAGGGCTGGGAGGTCTGTGACCCCTGCCCTG\n",
    "TGTTTGGGGACTAGGTAGGCAGGCCTGTGACTGTAGGAGGAGGGGGTTCAGGTCTTGGTC\n",
    "CTGCTGAGCCCGAGTCAGGGCAGATGCTTTTGGTCAGTGTAGTGGGGTGGGTTGTTTAAA\n",
    "ACACAGTTTGTGTATACATGTGTATTTTAAAGAGGGGAGCCTGGGTGTGTGGGCGAGTCT\n",
    "GTGTTTGTGTGTCCCTGGCCAGCAGGAGGGGAGAGGC''')\n",
    "            \n",
    "\n",
    "\n",
    "\n"
   ]
  },
  {
   "cell_type": "code",
   "execution_count": 37,
   "id": "64ec4570-8168-4647-aa3f-7be2ee82d8f3",
   "metadata": {
    "tags": []
   },
   "outputs": [
    {
     "name": "stdout",
     "output_type": "stream",
     "text": [
      "Found 1 motif at position start 1, end 5\n",
      "Found 2 motif at position start 9, end 13\n",
      "Found 3 motif at position start 19, end 23\n"
     ]
    }
   ],
   "source": [
    "# Write an algorithm that finds all occurrences of \"TATA\" motif in a sequence and returns their positions\n",
    "\n",
    "def motif_found(seq, motif):\n",
    "    '''finds all occurrences of \"TATA\" motif in a sequence and returns their positions'''\n",
    "    motif_count = 0\n",
    "    for i in range (0, len(seq)-len(motif)+1):\n",
    "        if seq[i:i+len(motif)] == motif:\n",
    "            motif_count= motif_count + 1\n",
    "            print(f'Found {k} motif at position start {i+1}, end {i+len(motif)+1}')\n",
    "            \n",
    "            \n",
    "motif_found('TATACCCCTATACCCTACTATA','TATA')\n",
    "            \n",
    "            \n",
    "\n"
   ]
  },
  {
   "cell_type": "code",
   "execution_count": 129,
   "id": "77aa8c81-8da1-478f-8da2-f5d0a3392041",
   "metadata": {
    "tags": []
   },
   "outputs": [
    {
     "name": "stdout",
     "output_type": "stream",
     "text": [
      "Sequence lengths are not equal.\n",
      "Hamming Distance is 2\n"
     ]
    }
   ],
   "source": [
    "# Write an algorithm that calculates the hamming distance (number of base differences) between two DNA sequences.\n",
    "\n",
    "def hamming_distance(seq1, seq2):\n",
    "    \n",
    "    if len(seq1) != len(seq2):\n",
    "        print('Sequence lengths are not equal.')\n",
    "        return\n",
    "    count = 0\n",
    "    for i in range (0,len(seq1)):\n",
    "        if seq1[i] != seq2[i]:\n",
    "            count = count +1\n",
    "    print(f'Hamming Distance is {count}')\n",
    "                  \n",
    "\n",
    "hamming_distance('ATCG', 'ACCCG')\n",
    "hamming_distance('ATCG', 'ACCC')"
   ]
  },
  {
   "cell_type": "code",
   "execution_count": 127,
   "id": "361b1eaf-78b6-4cbf-9a50-68b6ece80dc1",
   "metadata": {
    "tags": []
   },
   "outputs": [
    {
     "name": "stdout",
     "output_type": "stream",
     "text": [
      " A :07141010\n",
      " C :70031105\n",
      " G :10010771\n",
      " T :01706002\n",
      "Seq:CATATGGC\n"
     ]
    }
   ],
   "source": [
    "# Write an algorithm that finds the consensus sequence between a set of sequences with the same length\n",
    "\n",
    "def consensus_seq(list_seq):\n",
    "    '''finds the consensus sequence between a set of sequences with the same length'''\n",
    "        \n",
    "    seq_length = len(list_seq[0])\n",
    "    for seq in list_seq:\n",
    "        if len(seq) != seq_length:\n",
    "            print('Sequence lengths are not equal.')\n",
    "            return\n",
    "    output = ''\n",
    "    dict={'A':'','T':'','C':'','G':''}\n",
    "    for k in range(seq_length):\n",
    "        a = 0\n",
    "        t = 0\n",
    "        c = 0\n",
    "        g = 0\n",
    "        for seq in list_seq:\n",
    "            if seq[k] == 'A':\n",
    "                a += 1\n",
    "            elif seq[k] == 'T':\n",
    "                t += 1\n",
    "            elif seq[k] == 'C':\n",
    "                c += 1\n",
    "            elif seq[k] == 'G':\n",
    "                g += 1\n",
    "        dict['A']= dict['A'] + str(a)\n",
    "        dict['T']= dict['T'] + str(t)\n",
    "        dict['C']= dict['C'] + str(c)\n",
    "        dict['G']= dict['G'] + str(g)\n",
    "        \n",
    "        if a == max(a, t, c, g) and t == max(a, t, c, g) and c == max(a, t, c, g) and g == max(a, t, c, g):\n",
    "            output += 'N'\n",
    "        elif a == max(a, t, c, g) and t == max(a, t, c, g) and c == max(a, t, c, g):\n",
    "            output += 'H'\n",
    "        elif a == max(a, t, c, g) and t == max(a, t, c, g) and g == max(a, t, c, g):\n",
    "            output += 'D'\n",
    "        elif a == max(a, t, c, g) and c == max(a, t, c, g) and g == max(a, t, c, g):\n",
    "            output += 'V'\n",
    "        elif c == max(a, t, c, g) and t == max(a, t, c, g) and g == max(a, t, c, g):\n",
    "            output += 'B'\n",
    "        elif a == max(a, t, c, g) and t == max(a, t, c, g):\n",
    "            output += 'W'\n",
    "        elif a == max(a, t, c, g) and c == max(a, t, c, g):\n",
    "            output += 'M'\n",
    "        elif a == max(a, t, c, g) and g == max(a, t, c, g):\n",
    "            output += 'R'\n",
    "        elif g == max(a, t, c, g) and t == max(a, t, c, g):\n",
    "            output += 'K'\n",
    "        elif g == max(a, t, c, g) and c == max(a, t, c, g):\n",
    "            output += 'S'\n",
    "        elif c == max(a, t, c, g) and t == max(a, t, c, g):\n",
    "            output += 'Y'\n",
    "        elif a == max(a, t, c, g):\n",
    "            output += 'A'\n",
    "        elif t == max(a, t, c, g):\n",
    "            output += 'T'\n",
    "        elif c == max(a, t, c, g):\n",
    "            output += 'C'\n",
    "        elif g == max(a, t, c, g):\n",
    "            output += 'G'\n",
    "    \n",
    "    # print(dict)\n",
    "    print(' A :'+dict['A'])\n",
    "    print(' C :'+dict['C'])\n",
    "    print(' G :'+dict['G'])\n",
    "    print(' T :'+dict['T'])\n",
    "    print('Seq:'+output)\n",
    "\n",
    "list_seq=['CATATGGG','GATCTGGT','CATATGAT','CTTCCGGC','CATGAGGC','CATCTCGC','CAAATGGC','CATATGGC']\n",
    "\n",
    "consensus_seq(list_seq)\n",
    "\n",
    "\n"
   ]
  },
  {
   "cell_type": "code",
   "execution_count": 113,
   "id": "9a8fd510-3def-4dbe-9ef0-53fa4a23f6e6",
   "metadata": {
    "tags": []
   },
   "outputs": [
    {
     "name": "stdout",
     "output_type": "stream",
     "text": [
      " A : 07141010\n",
      " C : 70031105\n",
      " G : 10010771\n",
      " T : 01706002\n",
      "Seq: CATATGGC\n"
     ]
    }
   ],
   "source": [
    "# Write an algorithm that finds the consensus sequence between a set of sequences with the same length\n",
    "\n",
    "def consensus_seq(list_seq):\n",
    "    '''finds the consensus sequence between a set of sequences with the same length'''\n",
    "    \n",
    "      \n",
    "    seq_length = len(list_seq[0])\n",
    "    for seq in list_seq:\n",
    "        if len(seq) != seq_length:\n",
    "            print(\"Sequence lengths are not equal.\")\n",
    "            return\n",
    "    \n",
    "    output = ''\n",
    "    pa=''\n",
    "    pt=''\n",
    "    pc=''\n",
    "    pg=''\n",
    "    for k in range(seq_length):\n",
    "        a = 0\n",
    "        t = 0\n",
    "        c = 0\n",
    "        g = 0\n",
    "        for seq in list_seq:\n",
    "            if seq[k] == 'A':\n",
    "                a += 1\n",
    "            elif seq[k] == 'T':\n",
    "                t += 1\n",
    "            elif seq[k] == 'C':\n",
    "                c += 1\n",
    "            elif seq[k] == 'G':\n",
    "                g += 1\n",
    "        pa = pa + str(a)\n",
    "        pt = pt + str(t)\n",
    "        pc = pc + str(c)\n",
    "        pg = pg + str(g)\n",
    "        \n",
    "        if a == max(a, t, c, g) and t == max(a, t, c, g) and c == max(a, t, c, g) and g == max(a, t, c, g):\n",
    "            output += 'N'\n",
    "        elif a == max(a, t, c, g) and t == max(a, t, c, g) and c == max(a, t, c, g):\n",
    "            output += 'H'\n",
    "        elif a == max(a, t, c, g) and t == max(a, t, c, g) and g == max(a, t, c, g):\n",
    "            output += 'D'\n",
    "        elif a == max(a, t, c, g) and c == max(a, t, c, g) and g == max(a, t, c, g):\n",
    "            output += 'V'\n",
    "        elif c == max(a, t, c, g) and t == max(a, t, c, g) and g == max(a, t, c, g):\n",
    "            output += 'B'\n",
    "        elif a == max(a, t, c, g) and t == max(a, t, c, g):\n",
    "            output += 'W'\n",
    "        elif a == max(a, t, c, g) and c == max(a, t, c, g):\n",
    "            output += 'M'\n",
    "        elif a == max(a, t, c, g) and g == max(a, t, c, g):\n",
    "            output += 'R'\n",
    "        elif g == max(a, t, c, g) and t == max(a, t, c, g):\n",
    "            output += 'K'\n",
    "        elif g == max(a, t, c, g) and c == max(a, t, c, g):\n",
    "            output += 'S'\n",
    "        elif c == max(a, t, c, g) and t == max(a, t, c, g):\n",
    "            output += 'Y'\n",
    "        elif a == max(a, t, c, g):\n",
    "            output += 'A'\n",
    "        elif t == max(a, t, c, g):\n",
    "            output += 'T'\n",
    "        elif c == max(a, t, c, g):\n",
    "            output += 'C'\n",
    "        elif g == max(a, t, c, g):\n",
    "            output += 'G'\n",
    "    \n",
    "    \n",
    "    print(' A :',pa)\n",
    "    print(' C :',pc)\n",
    "    print(' G :',pg)\n",
    "    print(' T :',pt)\n",
    "    print('Seq:',output)\n",
    "\n",
    "list_seq=['CATATGGG','GATCTGGT','CATATGAT','CTTCCGGC','CATGAGGC','CATCTCGC','CAAATGGC','CATATGGC']\n",
    "\n",
    "consensus_seq(list_seq)\n"
   ]
  },
  {
   "cell_type": "code",
   "execution_count": 118,
   "id": "16f5606a-ba4c-43e0-badf-c0fc7f241ac6",
   "metadata": {
    "tags": []
   },
   "outputs": [
    {
     "name": "stdout",
     "output_type": "stream",
     "text": [
      " A : [0, 7, 1, 4, 1, 0, 1, 0]\n",
      " C : [7, 0, 0, 3, 1, 1, 0, 5]\n",
      " G : [1, 0, 0, 1, 0, 7, 7, 1]\n",
      " T : [0, 1, 7, 0, 6, 0, 0, 2]\n",
      "Seq: [C, A, T, A, T, G, G, C]\n"
     ]
    }
   ],
   "source": [
    "# Write an algorithm that finds the consensus sequence between a set of sequences with the same length\n",
    "\n",
    "def consensus_seq(list_seq):\n",
    "    '''finds the consensus sequence between a set of sequences with the same length'''\n",
    "    \n",
    "      \n",
    "    seq_length = len(list_seq[0])\n",
    "    for seq in list_seq:\n",
    "        if len(seq) != seq_length:\n",
    "            print(\"Sequence lengths are not equal.\")\n",
    "            return\n",
    "    \n",
    "    output = ''\n",
    "    dict={'A':[[] for _ in range(seq_length)],'T':[[] for _ in range(seq_length)],'C':[[] for _ in range(seq_length)],'G':[[] for _ in range(seq_length)]}\n",
    "    # print(dict)\n",
    "    for k in range(seq_length):\n",
    "        a = 0\n",
    "        t = 0\n",
    "        c = 0\n",
    "        g = 0\n",
    "        for seq in list_seq:\n",
    "            if seq[k] == 'A':\n",
    "                a += 1\n",
    "            elif seq[k] == 'T':\n",
    "                t += 1\n",
    "            elif seq[k] == 'C':\n",
    "                c += 1\n",
    "            elif seq[k] == 'G':\n",
    "                g += 1\n",
    "        dict['A'][k]= a\n",
    "        dict['T'][k]= t\n",
    "        dict['C'][k]= c\n",
    "        dict['G'][k]= g\n",
    "        \n",
    "        if a == max(a, t, c, g) and t == max(a, t, c, g) and c == max(a, t, c, g) and g == max(a, t, c, g):\n",
    "            output += 'N, '\n",
    "        elif a == max(a, t, c, g) and t == max(a, t, c, g) and c == max(a, t, c, g):\n",
    "            output += 'H, '\n",
    "        elif a == max(a, t, c, g) and t == max(a, t, c, g) and g == max(a, t, c, g):\n",
    "            output += 'D, '\n",
    "        elif a == max(a, t, c, g) and c == max(a, t, c, g) and g == max(a, t, c, g):\n",
    "            output += 'V, '\n",
    "        elif c == max(a, t, c, g) and t == max(a, t, c, g) and g == max(a, t, c, g):\n",
    "            output += 'B, '\n",
    "        elif a == max(a, t, c, g) and t == max(a, t, c, g):\n",
    "            output += 'W, '\n",
    "        elif a == max(a, t, c, g) and c == max(a, t, c, g):\n",
    "            output += 'M, '\n",
    "        elif a == max(a, t, c, g) and g == max(a, t, c, g):\n",
    "            output += 'R, '\n",
    "        elif g == max(a, t, c, g) and t == max(a, t, c, g):\n",
    "            output += 'K, '\n",
    "        elif g == max(a, t, c, g) and c == max(a, t, c, g):\n",
    "            output += 'S, '\n",
    "        elif c == max(a, t, c, g) and t == max(a, t, c, g):\n",
    "            output += 'Y, '\n",
    "        elif a == max(a, t, c, g):\n",
    "            output += 'A, '\n",
    "        elif t == max(a, t, c, g):\n",
    "            output += 'T, '\n",
    "        elif c == max(a, t, c, g):\n",
    "            output += 'C, '\n",
    "        elif g == max(a, t, c, g):\n",
    "            output += 'G, '\n",
    "    \n",
    "    output=output[:-2]\n",
    "    print(' A :',dict['A'])\n",
    "    print(' C :',dict['C'])\n",
    "    print(' G :',dict['G'])\n",
    "    print(' T :',dict['T'])\n",
    "    print('Seq: ['+output+']')\n",
    "\n",
    "list_seq=['CATATGGG','GATCTGGT','CATATGAT','CTTCCGGC','CATGAGGC','CATCTCGC','CAAATGGC','CATATGGC']\n",
    "\n",
    "consensus_seq(list_seq)\n",
    "\n",
    "\n"
   ]
  },
  {
   "cell_type": "code",
   "execution_count": 15,
   "id": "21f8760b-6e70-4cb6-b29e-b4e4cd8b3695",
   "metadata": {
    "tags": []
   },
   "outputs": [
    {
     "data": {
      "text/plain": [
       "'A'"
      ]
     },
     "execution_count": 15,
     "metadata": {},
     "output_type": "execute_result"
    }
   ],
   "source": [
    "seq='AAAATTTTCCCC'\n",
    "seq[2]"
   ]
  },
  {
   "cell_type": "code",
   "execution_count": 22,
   "id": "e514ee30-fc8f-4401-a9e6-f8116428d9fe",
   "metadata": {
    "tags": []
   },
   "outputs": [
    {
     "data": {
      "text/plain": [
       "3"
      ]
     },
     "execution_count": 22,
     "metadata": {},
     "output_type": "execute_result"
    }
   ],
   "source": [
    "list_seq=['ATCC','CCTT','ATCG']\n",
    "len(list_seq)\n"
   ]
  },
  {
   "cell_type": "code",
   "execution_count": 73,
   "id": "b6c501f0-44b3-4e60-acba-a568bb646974",
   "metadata": {
    "tags": []
   },
   "outputs": [
    {
     "ename": "SyntaxError",
     "evalue": "invalid syntax (1931176085.py, line 1)",
     "output_type": "error",
     "traceback": [
      "\u001b[0;36m  Cell \u001b[0;32mIn[73], line 1\u001b[0;36m\u001b[0m\n\u001b[0;31m    list=[,]\u001b[0m\n\u001b[0m          ^\u001b[0m\n\u001b[0;31mSyntaxError\u001b[0m\u001b[0;31m:\u001b[0m invalid syntax\n"
     ]
    }
   ],
   "source": [
    "list=[,]\n",
    "list[0]=3"
   ]
  },
  {
   "cell_type": "code",
   "execution_count": 115,
   "id": "39323fe3-aa0c-48f4-b788-9fdd647e153b",
   "metadata": {
    "tags": []
   },
   "outputs": [
    {
     "data": {
      "text/plain": [
       "[[0], [0], [0], [0]]"
      ]
     },
     "execution_count": 115,
     "metadata": {},
     "output_type": "execute_result"
    }
   ],
   "source": [
    "profile = [[0] for _ in range(4)]\n",
    "profile"
   ]
  },
  {
   "cell_type": "code",
   "execution_count": null,
   "id": "1cb73116-2c2c-4c54-b066-1bb09256dad2",
   "metadata": {},
   "outputs": [],
   "source": []
  }
 ],
 "metadata": {
  "kernelspec": {
   "display_name": "Python 3 (ipykernel)",
   "language": "python",
   "name": "python3"
  },
  "language_info": {
   "codemirror_mode": {
    "name": "ipython",
    "version": 3
   },
   "file_extension": ".py",
   "mimetype": "text/x-python",
   "name": "python",
   "nbconvert_exporter": "python",
   "pygments_lexer": "ipython3",
   "version": "3.11.3"
  }
 },
 "nbformat": 4,
 "nbformat_minor": 5
}
