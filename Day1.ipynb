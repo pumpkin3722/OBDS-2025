{
 "cells": [
  {
   "cell_type": "code",
   "execution_count": 6,
   "id": "b3fc6f10-740c-4e6a-830e-6ee83dd5e583",
   "metadata": {
    "tags": []
   },
   "outputs": [
    {
     "name": "stdout",
     "output_type": "stream",
     "text": [
      "True Hello 5\n"
     ]
    }
   ],
   "source": [
    "a = True\n",
    "b = \"Hello\"\n",
    "c = 5\n",
    "print(a,b,c)"
   ]
  },
  {
   "cell_type": "code",
   "execution_count": 7,
   "id": "ee189bf6-c5e8-47fc-8abf-70354e50c6eb",
   "metadata": {
    "tags": []
   },
   "outputs": [
    {
     "name": "stdout",
     "output_type": "stream",
     "text": [
      "1\n",
      "2\n",
      "3\n",
      "4\n",
      "5\n",
      "6\n",
      "7\n",
      "8\n",
      "9\n",
      "10\n"
     ]
    }
   ],
   "source": [
    "running = True\n",
    "i = 0\n",
    "while running:\n",
    "    i = i + 1\n",
    "    if i == 11:\n",
    "        running = False\n",
    "    else:\n",
    "        print(i)"
   ]
  },
  {
   "cell_type": "code",
   "execution_count": 17,
   "id": "caaeb277-5a12-4fe8-8612-a97800e6bca9",
   "metadata": {
    "tags": []
   },
   "outputs": [
    {
     "name": "stdout",
     "output_type": "stream",
     "text": [
      "-1\n",
      "-2\n",
      "-3\n",
      "-4\n",
      "-5\n",
      "-6\n",
      "-7\n",
      "-8\n",
      "-9\n",
      "-10\n"
     ]
    }
   ],
   "source": [
    "for i in range (-1,-11,-1):\n",
    "    print(i)"
   ]
  },
  {
   "cell_type": "code",
   "execution_count": 9,
   "id": "c7bafd3f-9d91-4e6a-9080-b814a27e1d0c",
   "metadata": {
    "tags": []
   },
   "outputs": [
    {
     "name": "stdout",
     "output_type": "stream",
     "text": [
      "55\n"
     ]
    }
   ],
   "source": [
    "running = True\n",
    "i = 0\n",
    "a = 0\n",
    "while running:\n",
    "    i= i + 1\n",
    "    a= a + i\n",
    "    if i == 10:\n",
    "        running = False\n",
    "        print(a)\n",
    "        "
   ]
  },
  {
   "cell_type": "code",
   "execution_count": 11,
   "id": "505619db-c640-48bd-80a3-c4ee06cddd9d",
   "metadata": {
    "tags": []
   },
   "outputs": [
    {
     "name": "stdout",
     "output_type": "stream",
     "text": [
      "2\n",
      "3\n",
      "5\n",
      "7\n",
      "11\n",
      "13\n",
      "17\n",
      "19\n",
      "23\n",
      "29\n",
      "31\n",
      "37\n",
      "41\n",
      "43\n",
      "47\n"
     ]
    }
   ],
   "source": [
    "for i in range (1,51):\n",
    "    k = 0\n",
    "    for j in range (1, i + 1):\n",
    "        if i / j == i // j:\n",
    "            k = k + 1\n",
    "    if k == 2:\n",
    "        print(i)"
   ]
  },
  {
   "cell_type": "code",
   "execution_count": 12,
   "id": "16fc0296-ac6e-4d77-8b61-de68ea07ca8b",
   "metadata": {
    "tags": []
   },
   "outputs": [
    {
     "name": "stdout",
     "output_type": "stream",
     "text": [
      "2\n",
      "3\n",
      "5\n",
      "7\n",
      "11\n",
      "13\n",
      "17\n",
      "19\n",
      "23\n",
      "29\n",
      "31\n",
      "37\n",
      "41\n",
      "43\n",
      "47\n"
     ]
    }
   ],
   "source": [
    "for i in range (1,51):\n",
    "    k = 0\n",
    "    for j in range (1, i):\n",
    "        if i / j == i // j:\n",
    "            k = k + 1\n",
    "    if k == 1:\n",
    "        print(i)"
   ]
  },
  {
   "cell_type": "code",
   "execution_count": 34,
   "id": "5585d69c-f3b8-4cab-bf31-69b4d7f6c02d",
   "metadata": {
    "tags": []
   },
   "outputs": [
    {
     "name": "stdout",
     "output_type": "stream",
     "text": [
      "TTCTAGGGA\n"
     ]
    }
   ],
   "source": [
    "def complement_seq(seq):\n",
    "    output = ''\n",
    "    for base in seq:\n",
    "        if base == 'A':\n",
    "            output = output + 'T'\n",
    "        elif base == 'G':\n",
    "            output = output + 'C'\n",
    "        elif base == 'C':\n",
    "            output = output + 'G'\n",
    "        elif base == 'T':\n",
    "            output = output + 'A'\n",
    "        else:\n",
    "            print(\"Unknown base\")\n",
    "    return output\n",
    "\n",
    "\n",
    "print(complement_seq('AAGATCCCT'))\n"
   ]
  },
  {
   "cell_type": "code",
   "execution_count": 35,
   "id": "0af66feb-8b21-4450-be46-030575ae1e74",
   "metadata": {
    "tags": []
   },
   "outputs": [
    {
     "name": "stdout",
     "output_type": "stream",
     "text": [
      "TTCTTAAGAA\n"
     ]
    }
   ],
   "source": [
    "def reverse_seq(seq):\n",
    "    output = ''\n",
    "    for base in seq:\n",
    "        output = base + output\n",
    "    return output\n",
    "\n",
    "print(reverse_seq('AAGAATTCTT'))"
   ]
  },
  {
   "cell_type": "code",
   "execution_count": 39,
   "id": "4886808c-b183-4b04-b9ee-4c050c30d0fc",
   "metadata": {
    "tags": []
   },
   "outputs": [
    {
     "name": "stdout",
     "output_type": "stream",
     "text": [
      "AAGAATTCTT\n"
     ]
    }
   ],
   "source": [
    "def reverse_complement_seq(seq):\n",
    "    #output1=complement_seq(seq)\n",
    "    #output2=reverse_seq(output1)\n",
    "    #return output2\n",
    "    return reverse_seq(complement_seq(seq))\n",
    "    \n",
    "print(reverse_complement_seq('AAGAATTCTT')) \n",
    "    \n",
    "    "
   ]
  },
  {
   "cell_type": "code",
   "execution_count": null,
   "id": "e6c3d26f-0c1e-49f4-9bae-3887d3f0272c",
   "metadata": {},
   "outputs": [],
   "source": []
  },
  {
   "cell_type": "raw",
   "id": "40b8df7f-e877-4619-9153-1d5bc637c80e",
   "metadata": {
    "tags": []
   },
   "source": [
    "# Create a list called 'participants' containing the of the names of your fellow trainees\n",
    "participants = ['Aleema', 'Muyang', 'Yi', 'Oliver', 'Sinibaldo','Gennaro', 'Yao']\n"
   ]
  },
  {
   "cell_type": "code",
   "execution_count": 97,
   "id": "6c63c2a8-1e1f-49ff-a54b-9b1d09453771",
   "metadata": {
    "tags": []
   },
   "outputs": [],
   "source": [
    "# Create the following new variables participants_2 and participants_3 by typing:\n",
    "participants_2 = participants\n",
    "participants_3 = participants.copy()"
   ]
  },
  {
   "cell_type": "code",
   "execution_count": 98,
   "id": "b12ad86e-51f0-4f48-98bc-7c366e730eeb",
   "metadata": {
    "tags": []
   },
   "outputs": [],
   "source": [
    "# Add the names of today's trainers to the list 'participants' using append\n",
    "participants.append('David')\n",
    "participants.append('Kevin')"
   ]
  },
  {
   "cell_type": "code",
   "execution_count": 99,
   "id": "3d9acb97-c821-4244-86ee-030dcb2004ad",
   "metadata": {
    "tags": []
   },
   "outputs": [
    {
     "name": "stdout",
     "output_type": "stream",
     "text": [
      "['Aleema', 'Muyang', 'Yi', 'Oliver', 'Sinibaldo', 'Gennaro', 'Yao', 'David', 'Kevin']\n",
      "['Aleema', 'Muyang', 'Yi', 'Oliver', 'Sinibaldo', 'Gennaro', 'Yao', 'David', 'Kevin']\n",
      "['Aleema', 'Muyang', 'Yi', 'Oliver', 'Sinibaldo', 'Gennaro', 'Yao']\n"
     ]
    }
   ],
   "source": [
    "print(participants)\n",
    "print(participants_2)\n",
    "print(participants_3)"
   ]
  },
  {
   "cell_type": "code",
   "execution_count": 100,
   "id": "2fbc6edc-cdbb-4b0d-91c4-bf5ffa3e8ce6",
   "metadata": {
    "tags": []
   },
   "outputs": [
    {
     "data": {
      "text/plain": [
       "['Yi', 'Oliver', 'Sinibaldo']"
      ]
     },
     "execution_count": 100,
     "metadata": {},
     "output_type": "execute_result"
    }
   ],
   "source": [
    "#Select the 3rd and 5th names from your participants list\n",
    "participants[2:5]\n"
   ]
  },
  {
   "cell_type": "code",
   "execution_count": 101,
   "id": "a12887fd-68fa-4683-ab86-1df73b71565b",
   "metadata": {
    "tags": []
   },
   "outputs": [
    {
     "data": {
      "text/plain": [
       "['Gennaro', 'Kevin', 'Muyang']"
      ]
     },
     "execution_count": 101,
     "metadata": {},
     "output_type": "execute_result"
    }
   ],
   "source": [
    "#Sort your list & select the 3rd to the 5th names from your participants list\n",
    "participants.sort()\n",
    "participants[2:5]"
   ]
  },
  {
   "cell_type": "code",
   "execution_count": 102,
   "id": "b014c45f-3b94-40bb-96af-db41f4698231",
   "metadata": {
    "tags": []
   },
   "outputs": [
    {
     "data": {
      "text/plain": [
       "'Ge'"
      ]
     },
     "execution_count": 102,
     "metadata": {},
     "output_type": "execute_result"
    }
   ],
   "source": [
    "#Select the first 2 letters of the string in the third value of your participants list\n",
    "participants[2][:2]\n"
   ]
  },
  {
   "cell_type": "code",
   "execution_count": 106,
   "id": "4fe0d520-6653-438f-94f0-e228f8692887",
   "metadata": {
    "tags": []
   },
   "outputs": [
    {
     "data": {
      "text/plain": [
       "{'Aleema': 'trainee',\n",
       " 'David': 'trainer',\n",
       " 'Gennaro': 'trainee',\n",
       " 'Kevin': 'trainer',\n",
       " 'Muyang': 'trainee',\n",
       " 'Oliver': 'trainee',\n",
       " 'Sinibaldo': 'trainee',\n",
       " 'Yao': 'trainee',\n",
       " 'Yi': 'trainee'}"
      ]
     },
     "execution_count": 106,
     "metadata": {},
     "output_type": "execute_result"
    }
   ],
   "source": [
    "# Iterate over the participants list and set the names to keys in a dictionary with the value as 'trainee’ or ‘trainer’ depending on thier role.\n",
    "\n",
    "for name in participants:\n",
    "    if name == 'Kevin' or name == 'David':\n",
    "        dict[name] = 'trainer'\n",
    "    else:\n",
    "        dict[name] = 'trainee'\n",
    "\n",
    "dict\n",
    "        \n"
   ]
  },
  {
   "cell_type": "code",
   "execution_count": 107,
   "id": "7e53338f-ca25-4c73-b349-96404b67994c",
   "metadata": {
    "tags": []
   },
   "outputs": [
    {
     "name": "stdout",
     "output_type": "stream",
     "text": [
      "Aleema\n",
      "Gennaro\n",
      "Muyang\n",
      "Oliver\n",
      "Sinibaldo\n",
      "Yao\n",
      "Yi\n"
     ]
    }
   ],
   "source": [
    "# Use a for loop to iterate over your dictionary and print the values of the keys only if they are trainees\n",
    "\n",
    "for name in dict.keys():\n",
    "    if dict[name]=='trainee':\n",
    "        print(name)\n"
   ]
  },
  {
   "cell_type": "code",
   "execution_count": 115,
   "id": "aa4433df-867d-4dce-8453-560dfdb36ad7",
   "metadata": {
    "tags": []
   },
   "outputs": [
    {
     "name": "stdout",
     "output_type": "stream",
     "text": [
      "Sinibaldo\n",
      "Gennaro\n",
      "Oliver\n",
      "Yi\n",
      "Muyang\n",
      "Yao\n",
      "Aleema\n"
     ]
    }
   ],
   "source": [
    "# Make a function called 'random_name_generator' that prints the course participants names one by one when prompted in a randomised order each time it is run\n",
    "\n",
    "import random\n",
    "\n",
    "def random_name_generator(x):\n",
    "    random.shuffle(x)\n",
    "    for name in x:\n",
    "        print(name)\n",
    "        \n",
    "        \n",
    "participants = ['Aleema', 'Muyang', 'Yi', 'Oliver', 'Sinibaldo', 'Gennaro', 'Yao']\n",
    "\n",
    "random_name_generator(participants)\n"
   ]
  },
  {
   "cell_type": "code",
   "execution_count": null,
   "id": "b550a2c9-1e87-4e82-b5eb-73a1796f59b1",
   "metadata": {},
   "outputs": [],
   "source": []
  }
 ],
 "metadata": {
  "kernelspec": {
   "display_name": "Python 3 (ipykernel)",
   "language": "python",
   "name": "python3"
  },
  "language_info": {
   "codemirror_mode": {
    "name": "ipython",
    "version": 3
   },
   "file_extension": ".py",
   "mimetype": "text/x-python",
   "name": "python",
   "nbconvert_exporter": "python",
   "pygments_lexer": "ipython3",
   "version": "3.11.3"
  }
 },
 "nbformat": 4,
 "nbformat_minor": 5
}
